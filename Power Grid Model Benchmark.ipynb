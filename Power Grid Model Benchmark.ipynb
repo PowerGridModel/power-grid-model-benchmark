{
 "cells": [
  {
   "cell_type": "markdown",
   "id": "cd7b594e",
   "metadata": {},
   "source": [
    "# Introduction\n",
    "\n",
    "This notebook presents a benchmark comparison between `power-grid-model`, \n",
    "[`pandapower`](http://www.pandapower.org/), and [`OpenDSS`](https://www.epri.com/pages/sa/opendss).\n",
    "It runs several calculations, measures the calculation time, and compares the results.\n",
    "\n",
    "## Test Network\n",
    "\n",
    "The test network is fictionally generated using pre-defined random criteria. It is a radial network as follows:\n",
    "\n",
    "```\n",
    "\n",
    "source --- source_node ---| ---line--- node ---line--- node ...   (n_node_per_feeder)\n",
    "                          |              |              |\n",
    "                          |            load            load ...\n",
    "                          |\n",
    "                          | ---line--- ...\n",
    "                          | .\n",
    "                          | .\n",
    "                          | .\n",
    "                          | (n_feeder)\n",
    "\n",
    "```\n",
    "\n",
    "There is a node which is connected to a source (external network). From the source node there are `n_feeder` feeders. For each feeder there are `n_node_per_feeder` nodes, lines, and asymmetric loads. There are in total `n_feeder * n_node_per_feeder + 1` nodes in the network.\n",
    "\n",
    "\n",
    "## Calculation\n",
    "\n",
    "The notebook runs a power flow calculation with the same input data in `power-grid-model`, `pandapower`, and `OpenDSS`. It runs the following calculations:\n",
    "\n",
    "* Single calculation with solver initialization.\n",
    "* Single calculation without solver initialization (using pre-cached internal matrices).\n",
    "* Time-series calculation\n",
    "* N-1 calculation (not for `OpenDSS`)\n",
    "\n",
    "The calculation is run symmetrically (not for `OpenDSS`) and asymmetrically. Both `power-grid-model` and `pandapower` supports asymmetric loads in symmetric calculations: the three-phase load is aggregated into one symmetric load. In `OpenDSS` we only run asymmetric calculations \n",
    "\n",
    "We use the Newton-Raphson method for `power-grid-model` and `pandapower`. In addition, we also use the iterative current and linear method in `power-grid-model` to see how much performance you can gain in exchange for accuracy. For `OpenDSS` the default fix point method is used.\n",
    "\n",
    "## Results Comparison\n",
    "\n",
    "The following results are compared between `power-grid-model`, `pandapower`, and `OpenDSS`:\n",
    "\n",
    "* Per unit voltage of nodes (buses). For asymmetric calculation, it compares the value per phase.\n",
    "* Loading of the lines. (not for `OpenDSS`)\n",
    "\n",
    "It only compares the results of the Newton-Raphson in `pandapower` and `power-grid-model`, as well as the fix point method in `OpenDSS`, since the linear method of `power-grid-model` will produce a less accurate result.\n",
    "\n",
    "## Performance Benchmark\n",
    "\n",
    "The CPU time is measured for the **calculation part** of the program. The data preparation and model initialization is not measured. Furthermore, the single calculation is benchmarked with and without solver initialization. The former needs to execute connectivity check and initialize internal matrices (for example node admittance matrix). The latter uses the pre-cached connectivity and internal matrices."
   ]
  },
  {
   "cell_type": "markdown",
   "id": "f9268706",
   "metadata": {},
   "source": [
    "# Preparation\n",
    "\n",
    "## Import Libraries\n",
    "\n",
    "We import neede libraries here. The fictional network generation and time-series profile generation is in a different Python file\n",
    "[generate_fictional_dataset.py](./generate_fictional_dataset.py)."
   ]
  },
  {
   "cell_type": "code",
   "execution_count": 1,
   "id": "0267ac98",
   "metadata": {},
   "outputs": [],
   "source": [
    "import time\n",
    "from pathlib import Path\n",
    "from copy import deepcopy\n",
    "import numba\n",
    "\n",
    "import numpy as np\n",
    "import pandapower as pp\n",
    "import pandas as pd\n",
    "import power_grid_model as pgm\n",
    "\n",
    "from generate_fictional_dataset import generate_fictional_grid\n",
    "\n",
    "from dss import DSS as dss_engine\n",
    "\n",
    "import warnings\n",
    "warnings.filterwarnings('ignore')\n",
    "\n",
    "\n"
   ]
  },
  {
   "cell_type": "markdown",
   "id": "99bb7abf",
   "metadata": {},
   "source": [
    "## Prepare Tables\n",
    "\n",
    "The performance comparison table and result deviation table is initialized below."
   ]
  },
  {
   "cell_type": "code",
   "execution_count": 2,
   "id": "34db0eaa",
   "metadata": {},
   "outputs": [],
   "source": [
    "# summary\n",
    "summary_df = pd.DataFrame(\n",
    "    np.full(shape=(8, 6), dtype=np.float64, fill_value=np.inf),\n",
    "    columns=['PGM Linear Impedance', 'PGM Linear Current' ,'PGM Newton-Raphson', 'PGM Iterative Current', 'PandaPower Newton-Raphson', 'OpenDSS Fix Point'],\n",
    "    index=[\n",
    "        'Symmetric calculation with solver initialization',\n",
    "        'Symmetric calculation without solver initialization',\n",
    "        'Asymmetric calculation with solver initialization',\n",
    "        'Asymmetric calculation without solver initialization',\n",
    "        'Time series symmetric calculation',\n",
    "        'Time series asymmetric calculation',\n",
    "        'N-1 symmetric calculation',\n",
    "        'N-1 asymmetric calculation',\n",
    "    ]\n",
    ")\n",
    "\n",
    "comparison_df = pd.DataFrame(\n",
    "    np.full(shape=(6, 3), dtype=np.float64, fill_value=np.nan),\n",
    "    columns=['Deviation Voltage (p.u.)', 'Deviation Loading (p.u.)', 'Deviation Voltage (p.u.) OpenDSS'],\n",
    "    index=[\n",
    "        'Symmetric calculation',\n",
    "        'Asymmetric calculation',\n",
    "        'Time series symmetric calculation',\n",
    "        'Time series asymmetric calculation',\n",
    "        'N-1 symmetric calculation',\n",
    "        'N-1 asymmetric calculation',\n",
    "    ]\n",
    ")"
   ]
  },
  {
   "cell_type": "markdown",
   "id": "fd10cde7",
   "metadata": {},
   "source": [
    "## Simulation Parameters\n",
    "\n",
    "The simulation parameters, for example, the total number of feeders `n_feeder`, are defined below."
   ]
  },
  {
   "cell_type": "code",
   "execution_count": 3,
   "id": "ece0138d",
   "metadata": {},
   "outputs": [],
   "source": [
    "# fictional grid parameters\n",
    "\n",
    "n_node_per_feeder = 10\n",
    "n_feeder = 100\n",
    "\n",
    "cable_length_km_min = 0.8\n",
    "cable_length_km_max = 1.2\n",
    "load_p_w_max = 0.4e6 * 0.8\n",
    "load_p_w_min = 0.4e6 * 1.2\n",
    "pf = 0.95\n",
    "\n",
    "load_scaling_min = 0.5\n",
    "load_scaling_max = 1.5\n",
    "n_step = 1000\n",
    "\n",
    "\n",
    "use_lightsim2grid = True"
   ]
  },
  {
   "cell_type": "code",
   "execution_count": 4,
   "id": "19a1b1f3",
   "metadata": {},
   "outputs": [],
   "source": [
    "# override small network\n",
    "\n",
    "# n_node_per_feeder = 3\n",
    "# n_feeder = 2\n",
    "# n_step = 10\n"
   ]
  },
  {
   "cell_type": "code",
   "execution_count": 5,
   "id": "8301d2a0",
   "metadata": {},
   "outputs": [],
   "source": [
    "# derived values\n",
    "\n",
    "n_node = n_node_per_feeder * n_feeder + 1\n",
    "n_line = n_node_per_feeder * n_feeder\n",
    "n_load = n_node_per_feeder * n_feeder"
   ]
  },
  {
   "cell_type": "markdown",
   "id": "aab0f11d",
   "metadata": {},
   "source": [
    "## Pre-cache Library\n",
    "\n",
    "To make a fair comparison, we run one small network so that `pandapower` can cache their dependent libraries into the memory.\n",
    "\n",
    "* For `pandapower` the `numba` functions are JIT compiled and cached in the memory."
   ]
  },
  {
   "cell_type": "code",
   "execution_count": 6,
   "id": "cc656c47",
   "metadata": {},
   "outputs": [],
   "source": [
    "fictional_dataset = generate_fictional_grid(\n",
    "    n_node_per_feeder=3,\n",
    "    n_feeder=2,\n",
    "    cable_length_km_min=cable_length_km_min,\n",
    "    cable_length_km_max=cable_length_km_max,\n",
    "    load_p_w_max=load_p_w_max,\n",
    "    load_p_w_min=load_p_w_min,\n",
    "    pf=pf,\n",
    "    n_step=n_step,\n",
    "    load_scaling_min=load_scaling_min,\n",
    "    load_scaling_max=load_scaling_max,\n",
    ")\n",
    "\n",
    "pp.runpp(fictional_dataset['pp_net'], algorithm='nr', calculate_voltage_angles=True, distributed_slack=True, \n",
    "         lightsim2grid=use_lightsim2grid)\n",
    "pgm_model = pgm.PowerGridModel(fictional_dataset['pgm_dataset'])\n",
    "pgm_result = pgm_model.calculate_power_flow()"
   ]
  },
  {
   "cell_type": "markdown",
   "id": "9a0e5684",
   "metadata": {},
   "source": [
    "# Generate Dataset\n",
    "\n",
    "First generate the fictional datasets."
   ]
  },
  {
   "cell_type": "code",
   "execution_count": 7,
   "id": "7909cdd9",
   "metadata": {
    "scrolled": true
   },
   "outputs": [],
   "source": [
    "fictional_dataset = generate_fictional_grid(\n",
    "    n_node_per_feeder=n_node_per_feeder,\n",
    "    n_feeder=n_feeder,\n",
    "    cable_length_km_min=cable_length_km_min,\n",
    "    cable_length_km_max=cable_length_km_max,\n",
    "    load_p_w_max=load_p_w_max,\n",
    "    load_p_w_min=load_p_w_min,\n",
    "    pf=pf,\n",
    "    n_step=n_step,\n",
    "    load_scaling_min=load_scaling_min,\n",
    "    load_scaling_max=load_scaling_max,\n",
    ")\n",
    "\n",
    "pp_net = deepcopy(fictional_dataset[\"pp_net\"])\n",
    "pgm_dataset = fictional_dataset[\"pgm_dataset\"]\n",
    "pgm_update_dataset = fictional_dataset[\"pgm_update_dataset\"]\n",
    "pp_time_series_dataset = fictional_dataset[\"pp_time_series_dataset\"]\n",
    "\n"
   ]
  },
  {
   "cell_type": "code",
   "execution_count": 8,
   "id": "5251e4b0",
   "metadata": {},
   "outputs": [],
   "source": [
    "# initialize DSS\n",
    "\n",
    "dss_engine.ClearAll()\n",
    "dss_engine.Text.Command = f\"compile {fictional_dataset['dss_file']}\"\n"
   ]
  },
  {
   "cell_type": "markdown",
   "id": "f604c5a4",
   "metadata": {},
   "source": [
    "# Benchmark Function"
   ]
  },
  {
   "cell_type": "code",
   "execution_count": 9,
   "id": "2540d408",
   "metadata": {},
   "outputs": [],
   "source": [
    "def benchmark_pgm_power_flow(symmetric: bool, calculation_type: str, update_data=None, with_intialization: bool = False):\n",
    "    method_dict = {\n",
    "        'linear': 'PGM Linear Impedance',\n",
    "        'linear_current': 'PGM Linear Current',\n",
    "        'iterative_current': 'PGM Iterative Current',\n",
    "        'newton_raphson': 'PGM Newton-Raphson'\n",
    "    }\n",
    "    for method in ['linear', 'linear_current', 'iterative_current', 'newton_raphson']:\n",
    "        model_instance = pgm.PowerGridModel(pgm_dataset)\n",
    "        # cache internal state if we do not benchmark solver intialization\n",
    "        if not with_intialization:\n",
    "            model_instance.calculate_power_flow(symmetric=symmetric, calculation_method=method)\n",
    "        start = time.time()\n",
    "        pgm_result = model_instance.calculate_power_flow(\n",
    "            symmetric=symmetric, \n",
    "            calculation_method=method, \n",
    "            update_data=update_data, \n",
    "            output_component_types={'node': [\"u_pu\"], 'line': [\"loading\"]})\n",
    "        end = time.time()\n",
    "        summary_df.loc[calculation_type, method_dict[method]] = end - start\n",
    "    return pgm_result"
   ]
  },
  {
   "cell_type": "markdown",
   "id": "9ca1e1b7",
   "metadata": {},
   "source": [
    "# Single Calculation\n",
    "\n",
    "We begin with a single power flow calculation."
   ]
  },
  {
   "cell_type": "markdown",
   "id": "681b407b",
   "metadata": {},
   "source": [
    "## Symmetric"
   ]
  },
  {
   "cell_type": "markdown",
   "id": "eb823e12",
   "metadata": {},
   "source": [
    "### power-grid-model"
   ]
  },
  {
   "cell_type": "code",
   "execution_count": 10,
   "id": "612d3384",
   "metadata": {},
   "outputs": [],
   "source": [
    "benchmark_pgm_power_flow(symmetric=True, calculation_type='Symmetric calculation with solver initialization', with_intialization=True)\n",
    "pgm_result = benchmark_pgm_power_flow(symmetric=True, calculation_type='Symmetric calculation without solver initialization', with_intialization=False)\n"
   ]
  },
  {
   "cell_type": "markdown",
   "id": "8d60c97d",
   "metadata": {},
   "source": [
    "### Newton-Raphson Method of pandapower"
   ]
  },
  {
   "cell_type": "code",
   "execution_count": 11,
   "id": "75a86adc",
   "metadata": {},
   "outputs": [],
   "source": [
    "# first calculation with solver initialization\n",
    "start = time.time()\n",
    "pp.runpp(pp_net, algorithm='nr', calculate_voltage_angles=True, distributed_slack=True, lightsim2grid=use_lightsim2grid)\n",
    "end = time.time()\n",
    "summary_df.loc['Symmetric calculation with solver initialization', 'PandaPower Newton-Raphson'] = end - start\n",
    "\n",
    "# second calculation with existing solver\n",
    "start = time.time()\n",
    "pp.runpp(pp_net, algorithm='nr', calculate_voltage_angles=True, distributed_slack=True, lightsim2grid=use_lightsim2grid)\n",
    "end = time.time()\n",
    "summary_df.loc['Symmetric calculation without solver initialization', 'PandaPower Newton-Raphson'] = end - start"
   ]
  },
  {
   "cell_type": "markdown",
   "id": "0d6c3b2a",
   "metadata": {},
   "source": [
    "### Calculate Deviation for Newton-Raphson Method"
   ]
  },
  {
   "cell_type": "code",
   "execution_count": 12,
   "id": "f532a8ed",
   "metadata": {},
   "outputs": [],
   "source": [
    "comparison_df.loc['Symmetric calculation', 'Deviation Voltage (p.u.)'] = \\\n",
    "    np.abs(pp_net.res_bus['vm_pu'] - pgm_result['node']['u_pu']).max()\n",
    "comparison_df.loc['Symmetric calculation', 'Deviation Loading (p.u.)'] = \\\n",
    "    np.abs(pp_net.res_line['loading_percent'] * 1e-2 - pgm_result['line']['loading']).max()"
   ]
  },
  {
   "cell_type": "markdown",
   "id": "4e07f6c0",
   "metadata": {},
   "source": [
    "## Asymmetric"
   ]
  },
  {
   "cell_type": "markdown",
   "id": "711d1a46",
   "metadata": {},
   "source": [
    "### power-grid-model"
   ]
  },
  {
   "cell_type": "code",
   "execution_count": 13,
   "id": "c76f1366",
   "metadata": {},
   "outputs": [],
   "source": [
    "benchmark_pgm_power_flow(symmetric=False, calculation_type='Asymmetric calculation with solver initialization', with_intialization=True)\n",
    "pgm_result = benchmark_pgm_power_flow(symmetric=False, calculation_type='Asymmetric calculation without solver initialization', with_intialization=False)"
   ]
  },
  {
   "cell_type": "markdown",
   "id": "df97fecd",
   "metadata": {},
   "source": [
    "### Newton-Raphson Method of pandapower"
   ]
  },
  {
   "cell_type": "code",
   "execution_count": 14,
   "id": "5357e649",
   "metadata": {},
   "outputs": [],
   "source": [
    "# first calculation with solver initialization\n",
    "start = time.time()\n",
    "pp.runpp_3ph(pp_net, algorithm='nr', calculate_voltage_angles=True, distributed_slack=True, lightsim2grid=use_lightsim2grid)\n",
    "end = time.time()\n",
    "summary_df.loc['Asymmetric calculation with solver initialization', 'PandaPower Newton-Raphson'] = end - start\n",
    "\n",
    "# second calculation with existing solver\n",
    "start = time.time()\n",
    "pp.runpp_3ph(pp_net, algorithm='nr', calculate_voltage_angles=True, distributed_slack=True, lightsim2grid=use_lightsim2grid)\n",
    "end = time.time()\n",
    "summary_df.loc['Asymmetric calculation without solver initialization', 'PandaPower Newton-Raphson'] = end - start\n"
   ]
  },
  {
   "cell_type": "markdown",
   "id": "d9a1f260",
   "metadata": {},
   "source": [
    "### Fix Point Method of OpenDSS"
   ]
  },
  {
   "cell_type": "code",
   "execution_count": 15,
   "id": "44b41b82",
   "metadata": {},
   "outputs": [],
   "source": [
    "# first calculation with solver initialization\n",
    "start = time.time()\n",
    "dss_engine.Text.Command = \"set mode=snapshot\"\n",
    "dss_engine.Text.Command = \"set controlmode=static\"\n",
    "dss_engine.ActiveCircuit.Solution.Solve()\n",
    "end = time.time()\n",
    "summary_df.loc['Asymmetric calculation with solver initialization', 'OpenDSS Fix Point'] = end - start\n",
    "\n",
    "# second calculation with existing solver\n",
    "start = time.time()\n",
    "dss_engine.ActiveCircuit.Solution.Solve()\n",
    "end = time.time()\n",
    "summary_df.loc['Asymmetric calculation without solver initialization', 'OpenDSS Fix Point'] = end - start\n"
   ]
  },
  {
   "cell_type": "markdown",
   "id": "95846622",
   "metadata": {},
   "source": [
    "### Calculate Deviation for Newton-Raphson Method"
   ]
  },
  {
   "cell_type": "code",
   "execution_count": 16,
   "id": "840e9f29",
   "metadata": {},
   "outputs": [],
   "source": [
    "comparison_df.loc['Asymmetric calculation', 'Deviation Voltage (p.u.)'] = \\\n",
    "    np.abs(pp_net.res_bus_3ph[['vm_a_pu', 'vm_b_pu', 'vm_c_pu']].to_numpy() - pgm_result['node']['u_pu']).max()\n",
    "comparison_df.loc['Asymmetric calculation', 'Deviation Loading (p.u.)'] = \\\n",
    "    np.abs(pp_net.res_line_3ph['loading_percent'] * 1e-2 - pgm_result['line']['loading']).max()\n",
    "comparison_df.loc['Asymmetric calculation', 'Deviation Voltage (p.u.) OpenDSS'] = \\\n",
    "    np.abs(dss_engine.ActiveCircuit.AllBusVmagPu.reshape(-1, 3) - pgm_result['node']['u_pu']).max()"
   ]
  },
  {
   "cell_type": "markdown",
   "id": "bd10ecd4",
   "metadata": {},
   "source": [
    "# Time Series Calculation\n",
    "\n",
    "We execute a time-series power flow with `n_step` timestamps. \n",
    "\n",
    "## Preparation\n",
    "\n",
    "The load profile is randomly generated by the function `generate_time_series`. It produces the relevant input format for both libraries."
   ]
  },
  {
   "cell_type": "code",
   "execution_count": 17,
   "id": "ab571db2",
   "metadata": {},
   "outputs": [],
   "source": [
    "\n",
    "time_steps = np.arange(n_step)\n",
    "\n",
    "for x, y in zip(['p', 'q'], ['mw', 'mvar']):\n",
    "    for p in ['a', 'b', 'c']:\n",
    "        name = f'{x}_{p}_{y}'\n",
    "        pp.control.ConstControl(\n",
    "            pp_net,\n",
    "            element='asymmetric_load',\n",
    "            element_index=pp_net.asymmetric_load.index,\n",
    "            variable=name,\n",
    "            data_source=pp_time_series_dataset[name],\n",
    "            profile_name=pp_net.asymmetric_load.index\n",
    "        )\n"
   ]
  },
  {
   "cell_type": "markdown",
   "id": "c0c68b83",
   "metadata": {},
   "source": [
    "## Symmetric"
   ]
  },
  {
   "cell_type": "markdown",
   "id": "5d2f8fd3",
   "metadata": {},
   "source": [
    "### power-grid-model"
   ]
  },
  {
   "cell_type": "code",
   "execution_count": 18,
   "id": "bae29ebf",
   "metadata": {},
   "outputs": [],
   "source": [
    "pgm_result = benchmark_pgm_power_flow(symmetric=True, calculation_type='Time series symmetric calculation', update_data=pgm_update_dataset)\n",
    "\n"
   ]
  },
  {
   "cell_type": "markdown",
   "id": "09030805",
   "metadata": {},
   "source": [
    "### Newton-Raphson Method of pandapower"
   ]
  },
  {
   "cell_type": "code",
   "execution_count": 19,
   "id": "b943bdee",
   "metadata": {},
   "outputs": [
    {
     "name": "stderr",
     "output_type": "stream",
     "text": [
      "100%|███████████████████████████████████████████████████████████████████| 1000/1000 [00:15<00:00, 65.99it/s]\n"
     ]
    },
    {
     "name": "stderr",
     "output_type": "stream",
     "text": [
      "\r",
      "  2%|█▏                                                                   | 18/1000 [00:00<00:11, 88.07it/s]"
     ]
    },
    {
     "name": "stderr",
     "output_type": "stream",
     "text": [
      "\r",
      "  3%|█▊                                                                   | 27/1000 [00:00<00:11, 86.24it/s]"
     ]
    },
    {
     "name": "stderr",
     "output_type": "stream",
     "text": [
      "\r",
      "  4%|██▍                                                                  | 36/1000 [00:00<00:11, 85.61it/s]"
     ]
    },
    {
     "name": "stderr",
     "output_type": "stream",
     "text": [
      "\r",
      "  4%|███                                                                  | 45/1000 [00:00<00:11, 84.81it/s]"
     ]
    },
    {
     "name": "stderr",
     "output_type": "stream",
     "text": [
      "\r",
      "  5%|███▋                                                                 | 54/1000 [00:00<00:11, 84.69it/s]"
     ]
    },
    {
     "name": "stderr",
     "output_type": "stream",
     "text": [
      "\r",
      "  6%|████▎                                                                | 63/1000 [00:00<00:11, 85.05it/s]"
     ]
    },
    {
     "name": "stderr",
     "output_type": "stream",
     "text": [
      "\r",
      "  7%|████▉                                                                | 72/1000 [00:00<00:10, 85.33it/s]"
     ]
    },
    {
     "name": "stderr",
     "output_type": "stream",
     "text": [
      "\r",
      "  8%|█████▌                                                               | 81/1000 [00:00<00:10, 84.81it/s]"
     ]
    },
    {
     "name": "stderr",
     "output_type": "stream",
     "text": [
      "\r",
      "  9%|██████▏                                                              | 90/1000 [00:01<00:10, 84.38it/s]"
     ]
    },
    {
     "name": "stderr",
     "output_type": "stream",
     "text": [
      "\r",
      " 10%|██████▊                                                              | 99/1000 [00:01<00:10, 82.52it/s]"
     ]
    },
    {
     "name": "stderr",
     "output_type": "stream",
     "text": [
      "\r",
      " 11%|███████▎                                                            | 108/1000 [00:01<00:10, 83.69it/s]"
     ]
    },
    {
     "name": "stderr",
     "output_type": "stream",
     "text": [
      "\r",
      " 12%|███████▉                                                            | 117/1000 [00:01<00:10, 83.78it/s]"
     ]
    },
    {
     "name": "stderr",
     "output_type": "stream",
     "text": [
      "\r",
      " 13%|████████▌                                                           | 126/1000 [00:01<00:10, 83.99it/s]"
     ]
    },
    {
     "name": "stderr",
     "output_type": "stream",
     "text": [
      "\r",
      " 14%|█████████▏                                                          | 135/1000 [00:01<00:10, 84.34it/s]"
     ]
    },
    {
     "name": "stderr",
     "output_type": "stream",
     "text": [
      "\r",
      " 14%|█████████▊                                                          | 144/1000 [00:01<00:10, 84.52it/s]"
     ]
    },
    {
     "name": "stderr",
     "output_type": "stream",
     "text": [
      "\r",
      " 15%|██████████▍                                                         | 153/1000 [00:01<00:10, 84.51it/s]"
     ]
    },
    {
     "name": "stderr",
     "output_type": "stream",
     "text": [
      "\r",
      " 16%|███████████                                                         | 162/1000 [00:01<00:10, 83.32it/s]"
     ]
    },
    {
     "name": "stderr",
     "output_type": "stream",
     "text": [
      "\r",
      " 17%|███████████▋                                                        | 171/1000 [00:02<00:09, 83.99it/s]"
     ]
    },
    {
     "name": "stderr",
     "output_type": "stream",
     "text": [
      "\r",
      " 18%|████████████▏                                                       | 180/1000 [00:02<00:09, 85.08it/s]"
     ]
    },
    {
     "name": "stderr",
     "output_type": "stream",
     "text": [
      "\r",
      " 19%|████████████▊                                                       | 189/1000 [00:02<00:09, 85.70it/s]"
     ]
    },
    {
     "name": "stderr",
     "output_type": "stream",
     "text": [
      "\r",
      " 20%|█████████████▍                                                      | 198/1000 [00:02<00:09, 85.98it/s]"
     ]
    },
    {
     "name": "stderr",
     "output_type": "stream",
     "text": [
      "\r",
      " 21%|██████████████                                                      | 207/1000 [00:02<00:09, 85.09it/s]"
     ]
    },
    {
     "name": "stderr",
     "output_type": "stream",
     "text": [
      "\r",
      " 22%|██████████████▋                                                     | 216/1000 [00:02<00:09, 85.50it/s]"
     ]
    },
    {
     "name": "stderr",
     "output_type": "stream",
     "text": [
      "\r",
      " 22%|███████████████▎                                                    | 225/1000 [00:02<00:08, 86.23it/s]"
     ]
    },
    {
     "name": "stderr",
     "output_type": "stream",
     "text": [
      "\r",
      " 23%|███████████████▉                                                    | 234/1000 [00:02<00:08, 86.97it/s]"
     ]
    },
    {
     "name": "stderr",
     "output_type": "stream",
     "text": [
      "\r",
      " 24%|████████████████▌                                                   | 243/1000 [00:02<00:08, 87.00it/s]"
     ]
    },
    {
     "name": "stderr",
     "output_type": "stream",
     "text": [
      "\r",
      " 25%|█████████████████▏                                                  | 252/1000 [00:02<00:08, 84.81it/s]"
     ]
    },
    {
     "name": "stderr",
     "output_type": "stream",
     "text": [
      "\r",
      " 26%|█████████████████▋                                                  | 261/1000 [00:03<00:08, 85.63it/s]"
     ]
    },
    {
     "name": "stderr",
     "output_type": "stream",
     "text": [
      "\r",
      " 27%|██████████████████▎                                                 | 270/1000 [00:03<00:08, 86.25it/s]"
     ]
    },
    {
     "name": "stderr",
     "output_type": "stream",
     "text": [
      "\r",
      " 28%|██████████████████▉                                                 | 279/1000 [00:03<00:08, 86.23it/s]"
     ]
    },
    {
     "name": "stderr",
     "output_type": "stream",
     "text": [
      "\r",
      " 29%|███████████████████▌                                                | 288/1000 [00:03<00:08, 86.08it/s]"
     ]
    },
    {
     "name": "stderr",
     "output_type": "stream",
     "text": [
      "\r",
      " 30%|████████████████████▏                                               | 297/1000 [00:03<00:08, 84.78it/s]"
     ]
    },
    {
     "name": "stderr",
     "output_type": "stream",
     "text": [
      "\r",
      " 31%|████████████████████▊                                               | 306/1000 [00:03<00:08, 85.17it/s]"
     ]
    },
    {
     "name": "stderr",
     "output_type": "stream",
     "text": [
      "\r",
      " 32%|█████████████████████▍                                              | 315/1000 [00:03<00:08, 84.72it/s]"
     ]
    },
    {
     "name": "stderr",
     "output_type": "stream",
     "text": [
      "\r",
      " 32%|██████████████████████                                              | 324/1000 [00:03<00:07, 85.45it/s]"
     ]
    },
    {
     "name": "stderr",
     "output_type": "stream",
     "text": [
      "\r",
      " 33%|██████████████████████▋                                             | 333/1000 [00:03<00:07, 83.87it/s]"
     ]
    },
    {
     "name": "stderr",
     "output_type": "stream",
     "text": [
      "\r",
      " 34%|███████████████████████▎                                            | 342/1000 [00:04<00:07, 82.66it/s]"
     ]
    },
    {
     "name": "stderr",
     "output_type": "stream",
     "text": [
      "\r",
      " 35%|███████████████████████▊                                            | 351/1000 [00:04<00:07, 83.73it/s]"
     ]
    },
    {
     "name": "stderr",
     "output_type": "stream",
     "text": [
      "\r",
      " 36%|████████████████████████▍                                           | 360/1000 [00:04<00:07, 84.51it/s]"
     ]
    },
    {
     "name": "stderr",
     "output_type": "stream",
     "text": [
      "\r",
      " 37%|█████████████████████████                                           | 369/1000 [00:04<00:07, 85.20it/s]"
     ]
    },
    {
     "name": "stderr",
     "output_type": "stream",
     "text": [
      "\r",
      " 38%|█████████████████████████▋                                          | 378/1000 [00:04<00:07, 83.85it/s]"
     ]
    },
    {
     "name": "stderr",
     "output_type": "stream",
     "text": [
      "\r",
      " 39%|██████████████████████████▎                                         | 387/1000 [00:04<00:07, 82.80it/s]"
     ]
    },
    {
     "name": "stderr",
     "output_type": "stream",
     "text": [
      "\r",
      " 40%|██████████████████████████▉                                         | 396/1000 [00:04<00:07, 83.54it/s]"
     ]
    },
    {
     "name": "stderr",
     "output_type": "stream",
     "text": [
      "\r",
      " 40%|███████████████████████████▌                                        | 405/1000 [00:04<00:07, 84.32it/s]"
     ]
    },
    {
     "name": "stderr",
     "output_type": "stream",
     "text": [
      "\r",
      " 41%|████████████████████████████▏                                       | 414/1000 [00:04<00:06, 84.30it/s]"
     ]
    },
    {
     "name": "stderr",
     "output_type": "stream",
     "text": [
      "\r",
      " 42%|████████████████████████████▊                                       | 423/1000 [00:04<00:06, 84.82it/s]"
     ]
    },
    {
     "name": "stderr",
     "output_type": "stream",
     "text": [
      "\r",
      " 43%|█████████████████████████████▍                                      | 432/1000 [00:05<00:06, 84.68it/s]"
     ]
    },
    {
     "name": "stderr",
     "output_type": "stream",
     "text": [
      "\r",
      " 44%|█████████████████████████████▉                                      | 441/1000 [00:05<00:06, 85.36it/s]"
     ]
    },
    {
     "name": "stderr",
     "output_type": "stream",
     "text": [
      "\r",
      " 45%|██████████████████████████████▌                                     | 450/1000 [00:05<00:06, 85.92it/s]"
     ]
    },
    {
     "name": "stderr",
     "output_type": "stream",
     "text": [
      "\r",
      " 46%|███████████████████████████████▏                                    | 459/1000 [00:05<00:06, 86.55it/s]"
     ]
    },
    {
     "name": "stderr",
     "output_type": "stream",
     "text": [
      "\r",
      " 47%|███████████████████████████████▊                                    | 468/1000 [00:05<00:06, 86.79it/s]"
     ]
    },
    {
     "name": "stderr",
     "output_type": "stream",
     "text": [
      "\r",
      " 48%|████████████████████████████████▍                                   | 477/1000 [00:05<00:06, 85.56it/s]"
     ]
    },
    {
     "name": "stderr",
     "output_type": "stream",
     "text": [
      "\r",
      " 49%|█████████████████████████████████                                   | 486/1000 [00:05<00:05, 86.12it/s]"
     ]
    },
    {
     "name": "stderr",
     "output_type": "stream",
     "text": [
      "\r",
      " 50%|█████████████████████████████████▋                                  | 495/1000 [00:05<00:05, 86.75it/s]"
     ]
    },
    {
     "name": "stderr",
     "output_type": "stream",
     "text": [
      "\r",
      " 50%|██████████████████████████████████▎                                 | 504/1000 [00:05<00:05, 85.74it/s]"
     ]
    },
    {
     "name": "stderr",
     "output_type": "stream",
     "text": [
      "\r",
      " 51%|██████████████████████████████████▉                                 | 513/1000 [00:06<00:05, 84.23it/s]"
     ]
    },
    {
     "name": "stderr",
     "output_type": "stream",
     "text": [
      "\r",
      " 52%|███████████████████████████████████▍                                | 522/1000 [00:06<00:05, 83.24it/s]"
     ]
    },
    {
     "name": "stderr",
     "output_type": "stream",
     "text": [
      "\r",
      " 53%|████████████████████████████████████                                | 531/1000 [00:06<00:05, 82.80it/s]"
     ]
    },
    {
     "name": "stderr",
     "output_type": "stream",
     "text": [
      "\r",
      " 54%|████████████████████████████████████▋                               | 540/1000 [00:06<00:05, 84.01it/s]"
     ]
    },
    {
     "name": "stderr",
     "output_type": "stream",
     "text": [
      "\r",
      " 55%|█████████████████████████████████████▎                              | 549/1000 [00:06<00:05, 84.33it/s]"
     ]
    },
    {
     "name": "stderr",
     "output_type": "stream",
     "text": [
      "\r",
      " 56%|█████████████████████████████████████▉                              | 558/1000 [00:06<00:05, 84.35it/s]"
     ]
    },
    {
     "name": "stderr",
     "output_type": "stream",
     "text": [
      "\r",
      " 57%|██████████████████████████████████████▌                             | 567/1000 [00:06<00:05, 84.07it/s]"
     ]
    },
    {
     "name": "stderr",
     "output_type": "stream",
     "text": [
      "\r",
      " 58%|███████████████████████████████████████▏                            | 576/1000 [00:06<00:04, 84.96it/s]"
     ]
    },
    {
     "name": "stderr",
     "output_type": "stream",
     "text": [
      "\r",
      " 58%|███████████████████████████████████████▊                            | 585/1000 [00:06<00:04, 83.12it/s]"
     ]
    },
    {
     "name": "stderr",
     "output_type": "stream",
     "text": [
      "\r",
      " 59%|████████████████████████████████████████▍                           | 594/1000 [00:07<00:04, 83.18it/s]"
     ]
    },
    {
     "name": "stderr",
     "output_type": "stream",
     "text": [
      "\r",
      " 60%|█████████████████████████████████████████                           | 603/1000 [00:07<00:04, 84.57it/s]"
     ]
    },
    {
     "name": "stderr",
     "output_type": "stream",
     "text": [
      "\r",
      " 61%|█████████████████████████████████████████▌                          | 612/1000 [00:07<00:04, 85.86it/s]"
     ]
    },
    {
     "name": "stderr",
     "output_type": "stream",
     "text": [
      "\r",
      " 62%|██████████████████████████████████████████▏                         | 621/1000 [00:07<00:04, 85.75it/s]"
     ]
    },
    {
     "name": "stderr",
     "output_type": "stream",
     "text": [
      "\r",
      " 63%|██████████████████████████████████████████▊                         | 630/1000 [00:07<00:04, 85.30it/s]"
     ]
    },
    {
     "name": "stderr",
     "output_type": "stream",
     "text": [
      "\r",
      " 64%|███████████████████████████████████████████▍                        | 639/1000 [00:07<00:04, 86.01it/s]"
     ]
    },
    {
     "name": "stderr",
     "output_type": "stream",
     "text": [
      "\r",
      " 65%|████████████████████████████████████████████                        | 648/1000 [00:07<00:04, 85.80it/s]"
     ]
    },
    {
     "name": "stderr",
     "output_type": "stream",
     "text": [
      "\r",
      " 66%|████████████████████████████████████████████▋                       | 657/1000 [00:07<00:03, 86.95it/s]"
     ]
    },
    {
     "name": "stderr",
     "output_type": "stream",
     "text": [
      "\r",
      " 67%|█████████████████████████████████████████████▎                      | 666/1000 [00:07<00:03, 87.83it/s]"
     ]
    },
    {
     "name": "stderr",
     "output_type": "stream",
     "text": [
      "\r",
      " 68%|█████████████████████████████████████████████▉                      | 675/1000 [00:07<00:03, 85.69it/s]"
     ]
    },
    {
     "name": "stderr",
     "output_type": "stream",
     "text": [
      "\r",
      " 68%|██████████████████████████████████████████████▌                     | 684/1000 [00:08<00:03, 84.29it/s]"
     ]
    },
    {
     "name": "stderr",
     "output_type": "stream",
     "text": [
      "\r",
      " 69%|███████████████████████████████████████████████                     | 693/1000 [00:08<00:03, 79.76it/s]"
     ]
    },
    {
     "name": "stderr",
     "output_type": "stream",
     "text": [
      "\r",
      " 70%|███████████████████████████████████████████████▋                    | 702/1000 [00:08<00:03, 79.42it/s]"
     ]
    },
    {
     "name": "stderr",
     "output_type": "stream",
     "text": [
      "\r",
      " 71%|████████████████████████████████████████████████▎                   | 711/1000 [00:08<00:03, 80.12it/s]"
     ]
    },
    {
     "name": "stderr",
     "output_type": "stream",
     "text": [
      "\r",
      " 72%|████████████████████████████████████████████████▉                   | 720/1000 [00:08<00:03, 80.02it/s]"
     ]
    },
    {
     "name": "stderr",
     "output_type": "stream",
     "text": [
      "\r",
      " 73%|█████████████████████████████████████████████████▌                  | 729/1000 [00:08<00:03, 78.90it/s]"
     ]
    },
    {
     "name": "stderr",
     "output_type": "stream",
     "text": [
      "\r",
      " 74%|██████████████████████████████████████████████████▏                 | 738/1000 [00:08<00:03, 80.42it/s]"
     ]
    },
    {
     "name": "stderr",
     "output_type": "stream",
     "text": [
      "\r",
      " 75%|██████████████████████████████████████████████████▊                 | 747/1000 [00:08<00:03, 82.12it/s]"
     ]
    },
    {
     "name": "stderr",
     "output_type": "stream",
     "text": [
      "\r",
      " 76%|███████████████████████████████████████████████████▍                | 756/1000 [00:08<00:02, 81.86it/s]"
     ]
    },
    {
     "name": "stderr",
     "output_type": "stream",
     "text": [
      "\r",
      " 76%|████████████████████████████████████████████████████                | 765/1000 [00:09<00:02, 83.35it/s]"
     ]
    },
    {
     "name": "stderr",
     "output_type": "stream",
     "text": [
      "\r",
      " 77%|████████████████████████████████████████████████████▋               | 774/1000 [00:09<00:03, 70.52it/s]"
     ]
    },
    {
     "name": "stderr",
     "output_type": "stream",
     "text": [
      "\r",
      " 78%|█████████████████████████████████████████████████████▏              | 783/1000 [00:09<00:02, 73.83it/s]"
     ]
    },
    {
     "name": "stderr",
     "output_type": "stream",
     "text": [
      "\r",
      " 79%|█████████████████████████████████████████████████████▊              | 792/1000 [00:09<00:02, 76.71it/s]"
     ]
    },
    {
     "name": "stderr",
     "output_type": "stream",
     "text": [
      "\r",
      " 80%|██████████████████████████████████████████████████████▍             | 801/1000 [00:09<00:02, 79.34it/s]"
     ]
    },
    {
     "name": "stderr",
     "output_type": "stream",
     "text": [
      "\r",
      " 81%|███████████████████████████████████████████████████████             | 810/1000 [00:09<00:02, 80.87it/s]"
     ]
    },
    {
     "name": "stderr",
     "output_type": "stream",
     "text": [
      "\r",
      " 82%|███████████████████████████████████████████████████████▋            | 819/1000 [00:09<00:02, 82.55it/s]"
     ]
    },
    {
     "name": "stderr",
     "output_type": "stream",
     "text": [
      "\r",
      " 83%|████████████████████████████████████████████████████████▎           | 828/1000 [00:09<00:02, 83.16it/s]"
     ]
    },
    {
     "name": "stderr",
     "output_type": "stream",
     "text": [
      "\r",
      " 84%|████████████████████████████████████████████████████████▉           | 837/1000 [00:09<00:01, 83.85it/s]"
     ]
    },
    {
     "name": "stderr",
     "output_type": "stream",
     "text": [
      "\r",
      " 85%|█████████████████████████████████████████████████████████▌          | 846/1000 [00:10<00:01, 83.64it/s]"
     ]
    },
    {
     "name": "stderr",
     "output_type": "stream",
     "text": [
      "\r",
      " 86%|██████████████████████████████████████████████████████████▏         | 856/1000 [00:10<00:01, 85.81it/s]"
     ]
    },
    {
     "name": "stderr",
     "output_type": "stream",
     "text": [
      "\r",
      " 86%|██████████████████████████████████████████████████████████▊         | 865/1000 [00:10<00:01, 86.89it/s]"
     ]
    },
    {
     "name": "stderr",
     "output_type": "stream",
     "text": [
      "\r",
      " 87%|███████████████████████████████████████████████████████████▍        | 874/1000 [00:10<00:01, 85.70it/s]"
     ]
    },
    {
     "name": "stderr",
     "output_type": "stream",
     "text": [
      "\r",
      " 88%|████████████████████████████████████████████████████████████        | 883/1000 [00:10<00:01, 86.13it/s]"
     ]
    },
    {
     "name": "stderr",
     "output_type": "stream",
     "text": [
      "\r",
      " 89%|████████████████████████████████████████████████████████████▋       | 892/1000 [00:10<00:01, 86.28it/s]"
     ]
    },
    {
     "name": "stderr",
     "output_type": "stream",
     "text": [
      "\r",
      " 90%|█████████████████████████████████████████████████████████████▎      | 901/1000 [00:10<00:01, 86.36it/s]"
     ]
    },
    {
     "name": "stderr",
     "output_type": "stream",
     "text": [
      "\r",
      " 91%|█████████████████████████████████████████████████████████████▉      | 910/1000 [00:10<00:01, 85.71it/s]"
     ]
    },
    {
     "name": "stderr",
     "output_type": "stream",
     "text": [
      "\r",
      " 92%|██████████████████████████████████████████████████████████████▍     | 919/1000 [00:10<00:00, 82.69it/s]"
     ]
    },
    {
     "name": "stderr",
     "output_type": "stream",
     "text": [
      "\r",
      " 93%|███████████████████████████████████████████████████████████████     | 928/1000 [00:11<00:00, 81.77it/s]"
     ]
    },
    {
     "name": "stderr",
     "output_type": "stream",
     "text": [
      "\r",
      " 94%|███████████████████████████████████████████████████████████████▋    | 937/1000 [00:11<00:00, 83.49it/s]"
     ]
    },
    {
     "name": "stderr",
     "output_type": "stream",
     "text": [
      "\r",
      " 95%|████████████████████████████████████████████████████████████████▎   | 946/1000 [00:11<00:00, 83.87it/s]"
     ]
    },
    {
     "name": "stderr",
     "output_type": "stream",
     "text": [
      "\r",
      " 96%|████████████████████████████████████████████████████████████████▉   | 955/1000 [00:11<00:00, 85.31it/s]"
     ]
    },
    {
     "name": "stderr",
     "output_type": "stream",
     "text": [
      "\r",
      " 96%|█████████████████████████████████████████████████████████████████▌  | 964/1000 [00:11<00:00, 83.18it/s]"
     ]
    },
    {
     "name": "stderr",
     "output_type": "stream",
     "text": [
      "\r",
      " 97%|██████████████████████████████████████████████████████████████████▏ | 973/1000 [00:11<00:00, 82.63it/s]"
     ]
    },
    {
     "name": "stderr",
     "output_type": "stream",
     "text": [
      "\r",
      " 98%|██████████████████████████████████████████████████████████████████▊ | 982/1000 [00:11<00:00, 83.91it/s]"
     ]
    },
    {
     "name": "stderr",
     "output_type": "stream",
     "text": [
      "\r",
      " 99%|███████████████████████████████████████████████████████████████████▍| 991/1000 [00:11<00:00, 84.37it/s]"
     ]
    },
    {
     "name": "stderr",
     "output_type": "stream",
     "text": [
      "\r",
      "100%|███████████████████████████████████████████████████████████████████| 1000/1000 [00:11<00:00, 83.58it/s]"
     ]
    },
    {
     "name": "stderr",
     "output_type": "stream",
     "text": [
      "\r",
      "100%|███████████████████████████████████████████████████████████████████| 1000/1000 [00:11<00:00, 83.90it/s]"
     ]
    },
    {
     "name": "stderr",
     "output_type": "stream",
     "text": [
      "\n"
     ]
    }
   ],
   "source": [
    "pp.timeseries.OutputWriter(\n",
    "    pp_net,\n",
    "    log_variables=[\n",
    "        ('res_bus', 'vm_pu'),\n",
    "        ('res_line', 'loading_percent'),\n",
    "    ]\n",
    ")\n",
    "\n",
    "start = time.time()\n",
    "pp.timeseries.run_timeseries(\n",
    "    pp_net, run=pp.runpp, time_steps=time_steps,\n",
    "    calculate_voltage_angles=True, distributed_slack=True, lightsim2grid=use_lightsim2grid\n",
    ")\n",
    "end = time.time()\n",
    "summary_df.loc['Time series symmetric calculation', 'PandaPower Newton-Raphson'] = end - start"
   ]
  },
  {
   "cell_type": "markdown",
   "id": "13e0b644",
   "metadata": {},
   "source": [
    "### Calculate Deviation for Newton-Raphson Method"
   ]
  },
  {
   "cell_type": "code",
   "execution_count": 20,
   "id": "75977fb6",
   "metadata": {},
   "outputs": [],
   "source": [
    "pp_u_pu = pp_net.output_writer.iloc[0, 0].output['res_bus.vm_pu'].to_numpy()\n",
    "comparison_df.loc['Time series symmetric calculation', 'Deviation Voltage (p.u.)'] = \\\n",
    "    np.abs(pp_u_pu - pgm_result['node']['u_pu']).max()\n",
    "pp_loading = pp_net.output_writer.iloc[0, 0].output['res_line.loading_percent'].to_numpy() * 1e-2\n",
    "comparison_df.loc['Time series symmetric calculation', 'Deviation Loading (p.u.)'] = \\\n",
    "    np.abs(pp_loading - pgm_result['line']['loading']).max()\n"
   ]
  },
  {
   "cell_type": "markdown",
   "id": "b9bff694",
   "metadata": {},
   "source": [
    "## Asymmetric"
   ]
  },
  {
   "cell_type": "markdown",
   "id": "219efc5c",
   "metadata": {},
   "source": [
    "### power-grid-model"
   ]
  },
  {
   "cell_type": "code",
   "execution_count": 21,
   "id": "4735161f",
   "metadata": {},
   "outputs": [],
   "source": [
    "pgm_result = benchmark_pgm_power_flow(symmetric=False, calculation_type='Time series asymmetric calculation', update_data=pgm_update_dataset)\n"
   ]
  },
  {
   "cell_type": "markdown",
   "id": "35320697",
   "metadata": {},
   "source": [
    "### Newton-Raphson Method of pandapower"
   ]
  },
  {
   "cell_type": "code",
   "execution_count": 22,
   "id": "d1b2d792",
   "metadata": {},
   "outputs": [
    {
     "name": "stderr",
     "output_type": "stream",
     "text": [
      "100%|███████████████████████████████████████████████████████████████████| 1000/1000 [07:14<00:00,  2.30it/s]\n"
     ]
    },
    {
     "name": "stderr",
     "output_type": "stream",
     "text": [
      "\r",
      "  0%|▏                                                                     | 3/1000 [00:00<03:40,  4.51it/s]"
     ]
    },
    {
     "name": "stderr",
     "output_type": "stream",
     "text": [
      "\r",
      "  0%|▎                                                                     | 4/1000 [00:00<04:30,  3.68it/s]"
     ]
    },
    {
     "name": "stderr",
     "output_type": "stream",
     "text": [
      "\r",
      "  0%|▎                                                                     | 5/1000 [00:01<04:46,  3.47it/s]"
     ]
    },
    {
     "name": "stderr",
     "output_type": "stream",
     "text": [
      "\r",
      "  1%|▍                                                                     | 6/1000 [00:01<04:51,  3.41it/s]"
     ]
    },
    {
     "name": "stderr",
     "output_type": "stream",
     "text": [
      "\r",
      "  1%|▍                                                                     | 7/1000 [00:01<04:55,  3.36it/s]"
     ]
    },
    {
     "name": "stderr",
     "output_type": "stream",
     "text": [
      "\r",
      "  1%|▌                                                                     | 8/1000 [00:02<05:09,  3.20it/s]"
     ]
    },
    {
     "name": "stderr",
     "output_type": "stream",
     "text": [
      "\r",
      "  1%|▋                                                                     | 9/1000 [00:02<05:13,  3.16it/s]"
     ]
    },
    {
     "name": "stderr",
     "output_type": "stream",
     "text": [
      "\r",
      "  1%|▋                                                                    | 10/1000 [00:02<05:10,  3.19it/s]"
     ]
    },
    {
     "name": "stderr",
     "output_type": "stream",
     "text": [
      "\r",
      "  1%|▊                                                                    | 11/1000 [00:03<04:59,  3.31it/s]"
     ]
    },
    {
     "name": "stderr",
     "output_type": "stream",
     "text": [
      "\r",
      "  1%|▊                                                                    | 12/1000 [00:03<04:51,  3.39it/s]"
     ]
    },
    {
     "name": "stderr",
     "output_type": "stream",
     "text": [
      "\r",
      "  1%|▉                                                                    | 13/1000 [00:03<04:48,  3.42it/s]"
     ]
    },
    {
     "name": "stderr",
     "output_type": "stream",
     "text": [
      "\r",
      "  1%|▉                                                                    | 14/1000 [00:04<04:58,  3.31it/s]"
     ]
    },
    {
     "name": "stderr",
     "output_type": "stream",
     "text": [
      "\r",
      "  2%|█                                                                    | 15/1000 [00:04<04:58,  3.30it/s]"
     ]
    },
    {
     "name": "stderr",
     "output_type": "stream",
     "text": [
      "\r",
      "  2%|█                                                                    | 16/1000 [00:04<05:10,  3.17it/s]"
     ]
    },
    {
     "name": "stderr",
     "output_type": "stream",
     "text": [
      "\r",
      "  2%|█▏                                                                   | 17/1000 [00:05<05:17,  3.09it/s]"
     ]
    },
    {
     "name": "stderr",
     "output_type": "stream",
     "text": [
      "\r",
      "  2%|█▏                                                                   | 18/1000 [00:05<05:33,  2.95it/s]"
     ]
    },
    {
     "name": "stderr",
     "output_type": "stream",
     "text": [
      "\r",
      "  2%|█▎                                                                   | 19/1000 [00:05<05:51,  2.79it/s]"
     ]
    },
    {
     "name": "stderr",
     "output_type": "stream",
     "text": [
      "\r",
      "  2%|█▍                                                                   | 20/1000 [00:06<05:51,  2.79it/s]"
     ]
    },
    {
     "name": "stderr",
     "output_type": "stream",
     "text": [
      "\r",
      "  2%|█▍                                                                   | 21/1000 [00:06<05:43,  2.85it/s]"
     ]
    },
    {
     "name": "stderr",
     "output_type": "stream",
     "text": [
      "\r",
      "  2%|█▌                                                                   | 22/1000 [00:06<05:32,  2.94it/s]"
     ]
    },
    {
     "name": "stderr",
     "output_type": "stream",
     "text": [
      "\r",
      "  2%|█▌                                                                   | 23/1000 [00:07<05:29,  2.96it/s]"
     ]
    },
    {
     "name": "stderr",
     "output_type": "stream",
     "text": [
      "\r",
      "  2%|█▋                                                                   | 24/1000 [00:07<05:38,  2.88it/s]"
     ]
    },
    {
     "name": "stderr",
     "output_type": "stream",
     "text": [
      "\r",
      "  2%|█▋                                                                   | 25/1000 [00:07<05:27,  2.97it/s]"
     ]
    },
    {
     "name": "stderr",
     "output_type": "stream",
     "text": [
      "\r",
      "  3%|█▊                                                                   | 26/1000 [00:08<05:30,  2.94it/s]"
     ]
    },
    {
     "name": "stderr",
     "output_type": "stream",
     "text": [
      "\r",
      "  3%|█▊                                                                   | 27/1000 [00:08<05:24,  3.00it/s]"
     ]
    },
    {
     "name": "stderr",
     "output_type": "stream",
     "text": [
      "\r",
      "  3%|█▉                                                                   | 28/1000 [00:08<05:25,  2.99it/s]"
     ]
    },
    {
     "name": "stderr",
     "output_type": "stream",
     "text": [
      "\r",
      "  3%|██                                                                   | 29/1000 [00:09<05:32,  2.92it/s]"
     ]
    },
    {
     "name": "stderr",
     "output_type": "stream",
     "text": [
      "\r",
      "  3%|██                                                                   | 30/1000 [00:09<05:27,  2.96it/s]"
     ]
    },
    {
     "name": "stderr",
     "output_type": "stream",
     "text": [
      "\r",
      "  3%|██▏                                                                  | 31/1000 [00:09<05:27,  2.96it/s]"
     ]
    },
    {
     "name": "stderr",
     "output_type": "stream",
     "text": [
      "\r",
      "  3%|██▏                                                                  | 32/1000 [00:10<05:27,  2.96it/s]"
     ]
    },
    {
     "name": "stderr",
     "output_type": "stream",
     "text": [
      "\r",
      "  3%|██▎                                                                  | 33/1000 [00:10<05:44,  2.81it/s]"
     ]
    },
    {
     "name": "stderr",
     "output_type": "stream",
     "text": [
      "\r",
      "  3%|██▎                                                                  | 34/1000 [00:10<05:38,  2.85it/s]"
     ]
    },
    {
     "name": "stderr",
     "output_type": "stream",
     "text": [
      "\r",
      "  4%|██▍                                                                  | 35/1000 [00:11<05:48,  2.77it/s]"
     ]
    },
    {
     "name": "stderr",
     "output_type": "stream",
     "text": [
      "\r",
      "  4%|██▍                                                                  | 36/1000 [00:11<05:50,  2.75it/s]"
     ]
    },
    {
     "name": "stderr",
     "output_type": "stream",
     "text": [
      "\r",
      "  4%|██▌                                                                  | 37/1000 [00:12<06:11,  2.59it/s]"
     ]
    },
    {
     "name": "stderr",
     "output_type": "stream",
     "text": [
      "\r",
      "  4%|██▌                                                                  | 38/1000 [00:12<06:25,  2.50it/s]"
     ]
    },
    {
     "name": "stderr",
     "output_type": "stream",
     "text": [
      "\r",
      "  4%|██▋                                                                  | 39/1000 [00:12<06:19,  2.53it/s]"
     ]
    },
    {
     "name": "stderr",
     "output_type": "stream",
     "text": [
      "\r",
      "  4%|██▊                                                                  | 40/1000 [00:13<06:06,  2.62it/s]"
     ]
    },
    {
     "name": "stderr",
     "output_type": "stream",
     "text": [
      "\r",
      "  4%|██▊                                                                  | 41/1000 [00:13<06:02,  2.64it/s]"
     ]
    },
    {
     "name": "stderr",
     "output_type": "stream",
     "text": [
      "\r",
      "  4%|██▉                                                                  | 42/1000 [00:14<06:12,  2.57it/s]"
     ]
    },
    {
     "name": "stderr",
     "output_type": "stream",
     "text": [
      "\r",
      "  4%|██▉                                                                  | 43/1000 [00:14<05:59,  2.66it/s]"
     ]
    },
    {
     "name": "stderr",
     "output_type": "stream",
     "text": [
      "\r",
      "  4%|███                                                                  | 44/1000 [00:14<06:00,  2.65it/s]"
     ]
    },
    {
     "name": "stderr",
     "output_type": "stream",
     "text": [
      "\r",
      "  4%|███                                                                  | 45/1000 [00:15<06:03,  2.63it/s]"
     ]
    },
    {
     "name": "stderr",
     "output_type": "stream",
     "text": [
      "\r",
      "  5%|███▏                                                                 | 46/1000 [00:15<06:22,  2.49it/s]"
     ]
    },
    {
     "name": "stderr",
     "output_type": "stream",
     "text": [
      "\r",
      "  5%|███▏                                                                 | 47/1000 [00:16<06:43,  2.36it/s]"
     ]
    },
    {
     "name": "stderr",
     "output_type": "stream",
     "text": [
      "\r",
      "  5%|███▎                                                                 | 48/1000 [00:16<06:31,  2.43it/s]"
     ]
    },
    {
     "name": "stderr",
     "output_type": "stream",
     "text": [
      "\r",
      "  5%|███▍                                                                 | 49/1000 [00:16<06:30,  2.44it/s]"
     ]
    },
    {
     "name": "stderr",
     "output_type": "stream",
     "text": [
      "\r",
      "  5%|███▍                                                                 | 50/1000 [00:17<06:17,  2.52it/s]"
     ]
    },
    {
     "name": "stderr",
     "output_type": "stream",
     "text": [
      "\r",
      "  5%|███▌                                                                 | 51/1000 [00:17<06:12,  2.55it/s]"
     ]
    },
    {
     "name": "stderr",
     "output_type": "stream",
     "text": [
      "\r",
      "  5%|███▌                                                                 | 52/1000 [00:18<06:15,  2.53it/s]"
     ]
    },
    {
     "name": "stderr",
     "output_type": "stream",
     "text": [
      "\r",
      "  5%|███▋                                                                 | 53/1000 [00:18<06:07,  2.57it/s]"
     ]
    },
    {
     "name": "stderr",
     "output_type": "stream",
     "text": [
      "\r",
      "  5%|███▋                                                                 | 54/1000 [00:18<06:04,  2.59it/s]"
     ]
    },
    {
     "name": "stderr",
     "output_type": "stream",
     "text": [
      "\r",
      "  6%|███▊                                                                 | 55/1000 [00:19<05:56,  2.65it/s]"
     ]
    },
    {
     "name": "stderr",
     "output_type": "stream",
     "text": [
      "\r",
      "  6%|███▊                                                                 | 56/1000 [00:19<05:48,  2.71it/s]"
     ]
    },
    {
     "name": "stderr",
     "output_type": "stream",
     "text": [
      "\r",
      "  6%|███▉                                                                 | 57/1000 [00:19<05:45,  2.73it/s]"
     ]
    },
    {
     "name": "stderr",
     "output_type": "stream",
     "text": [
      "\r",
      "  6%|████                                                                 | 58/1000 [00:20<05:44,  2.74it/s]"
     ]
    },
    {
     "name": "stderr",
     "output_type": "stream",
     "text": [
      "\r",
      "  6%|████                                                                 | 59/1000 [00:20<05:50,  2.69it/s]"
     ]
    },
    {
     "name": "stderr",
     "output_type": "stream",
     "text": [
      "\r",
      "  6%|████▏                                                                | 60/1000 [00:21<05:50,  2.68it/s]"
     ]
    },
    {
     "name": "stderr",
     "output_type": "stream",
     "text": [
      "\r",
      "  6%|████▏                                                                | 61/1000 [00:21<05:49,  2.69it/s]"
     ]
    },
    {
     "name": "stderr",
     "output_type": "stream",
     "text": [
      "\r",
      "  6%|████▎                                                                | 62/1000 [00:21<05:45,  2.71it/s]"
     ]
    },
    {
     "name": "stderr",
     "output_type": "stream",
     "text": [
      "\r",
      "  6%|████▎                                                                | 63/1000 [00:22<05:36,  2.78it/s]"
     ]
    },
    {
     "name": "stderr",
     "output_type": "stream",
     "text": [
      "\r",
      "  6%|████▍                                                                | 64/1000 [00:22<05:26,  2.87it/s]"
     ]
    },
    {
     "name": "stderr",
     "output_type": "stream",
     "text": [
      "\r",
      "  6%|████▍                                                                | 65/1000 [00:22<05:24,  2.88it/s]"
     ]
    },
    {
     "name": "stderr",
     "output_type": "stream",
     "text": [
      "\r",
      "  7%|████▌                                                                | 66/1000 [00:23<05:20,  2.91it/s]"
     ]
    },
    {
     "name": "stderr",
     "output_type": "stream",
     "text": [
      "\r",
      "  7%|████▌                                                                | 67/1000 [00:23<05:19,  2.92it/s]"
     ]
    },
    {
     "name": "stderr",
     "output_type": "stream",
     "text": [
      "\r",
      "  7%|████▋                                                                | 68/1000 [00:23<05:10,  3.00it/s]"
     ]
    },
    {
     "name": "stderr",
     "output_type": "stream",
     "text": [
      "\r",
      "  7%|████▊                                                                | 69/1000 [00:24<04:57,  3.13it/s]"
     ]
    },
    {
     "name": "stderr",
     "output_type": "stream",
     "text": [
      "\r",
      "  7%|████▊                                                                | 70/1000 [00:24<04:58,  3.11it/s]"
     ]
    },
    {
     "name": "stderr",
     "output_type": "stream",
     "text": [
      "\r",
      "  7%|████▉                                                                | 71/1000 [00:24<04:58,  3.12it/s]"
     ]
    },
    {
     "name": "stderr",
     "output_type": "stream",
     "text": [
      "\r",
      "  7%|████▉                                                                | 72/1000 [00:25<05:05,  3.04it/s]"
     ]
    },
    {
     "name": "stderr",
     "output_type": "stream",
     "text": [
      "\r",
      "  7%|█████                                                                | 73/1000 [00:25<05:03,  3.06it/s]"
     ]
    },
    {
     "name": "stderr",
     "output_type": "stream",
     "text": [
      "\r",
      "  7%|█████                                                                | 74/1000 [00:25<04:57,  3.11it/s]"
     ]
    },
    {
     "name": "stderr",
     "output_type": "stream",
     "text": [
      "\r",
      "  8%|█████▏                                                               | 75/1000 [00:25<04:52,  3.17it/s]"
     ]
    },
    {
     "name": "stderr",
     "output_type": "stream",
     "text": [
      "\r",
      "  8%|█████▏                                                               | 76/1000 [00:26<04:54,  3.14it/s]"
     ]
    },
    {
     "name": "stderr",
     "output_type": "stream",
     "text": [
      "\r",
      "  8%|█████▎                                                               | 77/1000 [00:26<04:57,  3.10it/s]"
     ]
    },
    {
     "name": "stderr",
     "output_type": "stream",
     "text": [
      "\r",
      "  8%|█████▍                                                               | 78/1000 [00:26<04:51,  3.17it/s]"
     ]
    },
    {
     "name": "stderr",
     "output_type": "stream",
     "text": [
      "\r",
      "  8%|█████▍                                                               | 79/1000 [00:27<04:49,  3.18it/s]"
     ]
    },
    {
     "name": "stderr",
     "output_type": "stream",
     "text": [
      "\r",
      "  8%|█████▌                                                               | 80/1000 [00:27<04:52,  3.15it/s]"
     ]
    },
    {
     "name": "stderr",
     "output_type": "stream",
     "text": [
      "\r",
      "  8%|█████▌                                                               | 81/1000 [00:27<04:49,  3.17it/s]"
     ]
    },
    {
     "name": "stderr",
     "output_type": "stream",
     "text": [
      "\r",
      "  8%|█████▋                                                               | 82/1000 [00:28<04:47,  3.19it/s]"
     ]
    },
    {
     "name": "stderr",
     "output_type": "stream",
     "text": [
      "\r",
      "  8%|█████▋                                                               | 83/1000 [00:28<04:48,  3.18it/s]"
     ]
    },
    {
     "name": "stderr",
     "output_type": "stream",
     "text": [
      "\r",
      "  8%|█████▊                                                               | 84/1000 [00:28<04:39,  3.27it/s]"
     ]
    },
    {
     "name": "stderr",
     "output_type": "stream",
     "text": [
      "\r",
      "  8%|█████▊                                                               | 85/1000 [00:29<04:37,  3.30it/s]"
     ]
    },
    {
     "name": "stderr",
     "output_type": "stream",
     "text": [
      "\r",
      "  9%|█████▉                                                               | 86/1000 [00:29<04:43,  3.22it/s]"
     ]
    },
    {
     "name": "stderr",
     "output_type": "stream",
     "text": [
      "\r",
      "  9%|██████                                                               | 87/1000 [00:29<04:50,  3.15it/s]"
     ]
    },
    {
     "name": "stderr",
     "output_type": "stream",
     "text": [
      "\r",
      "  9%|██████                                                               | 88/1000 [00:30<04:54,  3.10it/s]"
     ]
    },
    {
     "name": "stderr",
     "output_type": "stream",
     "text": [
      "\r",
      "  9%|██████▏                                                              | 89/1000 [00:30<04:55,  3.09it/s]"
     ]
    },
    {
     "name": "stderr",
     "output_type": "stream",
     "text": [
      "\r",
      "  9%|██████▏                                                              | 90/1000 [00:30<04:54,  3.09it/s]"
     ]
    },
    {
     "name": "stderr",
     "output_type": "stream",
     "text": [
      "\r",
      "  9%|██████▎                                                              | 91/1000 [00:31<04:55,  3.07it/s]"
     ]
    },
    {
     "name": "stderr",
     "output_type": "stream",
     "text": [
      "\r",
      "  9%|██████▎                                                              | 92/1000 [00:31<04:52,  3.10it/s]"
     ]
    },
    {
     "name": "stderr",
     "output_type": "stream",
     "text": [
      "\r",
      "  9%|██████▍                                                              | 93/1000 [00:31<04:44,  3.18it/s]"
     ]
    },
    {
     "name": "stderr",
     "output_type": "stream",
     "text": [
      "\r",
      "  9%|██████▍                                                              | 94/1000 [00:31<04:42,  3.21it/s]"
     ]
    },
    {
     "name": "stderr",
     "output_type": "stream",
     "text": [
      "\r",
      " 10%|██████▌                                                              | 95/1000 [00:32<04:55,  3.06it/s]"
     ]
    },
    {
     "name": "stderr",
     "output_type": "stream",
     "text": [
      "\r",
      " 10%|██████▌                                                              | 96/1000 [00:32<05:04,  2.97it/s]"
     ]
    },
    {
     "name": "stderr",
     "output_type": "stream",
     "text": [
      "\r",
      " 10%|██████▋                                                              | 97/1000 [00:33<05:05,  2.96it/s]"
     ]
    },
    {
     "name": "stderr",
     "output_type": "stream",
     "text": [
      "\r",
      " 10%|██████▊                                                              | 98/1000 [00:33<05:00,  3.01it/s]"
     ]
    },
    {
     "name": "stderr",
     "output_type": "stream",
     "text": [
      "\r",
      " 10%|██████▊                                                              | 99/1000 [00:33<04:56,  3.04it/s]"
     ]
    },
    {
     "name": "stderr",
     "output_type": "stream",
     "text": [
      "\r",
      " 10%|██████▊                                                             | 100/1000 [00:33<04:58,  3.02it/s]"
     ]
    },
    {
     "name": "stderr",
     "output_type": "stream",
     "text": [
      "\r",
      " 10%|██████▊                                                             | 101/1000 [00:34<04:59,  3.00it/s]"
     ]
    },
    {
     "name": "stderr",
     "output_type": "stream",
     "text": [
      "\r",
      " 10%|██████▉                                                             | 102/1000 [00:34<05:01,  2.98it/s]"
     ]
    },
    {
     "name": "stderr",
     "output_type": "stream",
     "text": [
      "\r",
      " 10%|███████                                                             | 103/1000 [00:34<04:56,  3.02it/s]"
     ]
    },
    {
     "name": "stderr",
     "output_type": "stream",
     "text": [
      "\r",
      " 10%|███████                                                             | 104/1000 [00:35<04:59,  2.99it/s]"
     ]
    },
    {
     "name": "stderr",
     "output_type": "stream",
     "text": [
      "\r",
      " 10%|███████▏                                                            | 105/1000 [00:35<05:07,  2.91it/s]"
     ]
    },
    {
     "name": "stderr",
     "output_type": "stream",
     "text": [
      "\r",
      " 11%|███████▏                                                            | 106/1000 [00:36<05:08,  2.90it/s]"
     ]
    },
    {
     "name": "stderr",
     "output_type": "stream",
     "text": [
      "\r",
      " 11%|███████▎                                                            | 107/1000 [00:36<05:03,  2.95it/s]"
     ]
    },
    {
     "name": "stderr",
     "output_type": "stream",
     "text": [
      "\r",
      " 11%|███████▎                                                            | 108/1000 [00:36<04:58,  2.99it/s]"
     ]
    },
    {
     "name": "stderr",
     "output_type": "stream",
     "text": [
      "\r",
      " 11%|███████▍                                                            | 109/1000 [00:37<04:57,  3.00it/s]"
     ]
    },
    {
     "name": "stderr",
     "output_type": "stream",
     "text": [
      "\r",
      " 11%|███████▍                                                            | 110/1000 [00:37<05:00,  2.96it/s]"
     ]
    },
    {
     "name": "stderr",
     "output_type": "stream",
     "text": [
      "\r",
      " 11%|███████▌                                                            | 111/1000 [00:37<04:59,  2.97it/s]"
     ]
    },
    {
     "name": "stderr",
     "output_type": "stream",
     "text": [
      "\r",
      " 11%|███████▌                                                            | 112/1000 [00:38<04:59,  2.96it/s]"
     ]
    },
    {
     "name": "stderr",
     "output_type": "stream",
     "text": [
      "\r",
      " 11%|███████▋                                                            | 113/1000 [00:38<04:55,  3.00it/s]"
     ]
    },
    {
     "name": "stderr",
     "output_type": "stream",
     "text": [
      "\r",
      " 11%|███████▊                                                            | 114/1000 [00:38<04:51,  3.03it/s]"
     ]
    },
    {
     "name": "stderr",
     "output_type": "stream",
     "text": [
      "\r",
      " 12%|███████▊                                                            | 115/1000 [00:39<04:57,  2.97it/s]"
     ]
    },
    {
     "name": "stderr",
     "output_type": "stream",
     "text": [
      "\r",
      " 12%|███████▉                                                            | 116/1000 [00:39<05:07,  2.88it/s]"
     ]
    },
    {
     "name": "stderr",
     "output_type": "stream",
     "text": [
      "\r",
      " 12%|███████▉                                                            | 117/1000 [00:39<05:16,  2.79it/s]"
     ]
    },
    {
     "name": "stderr",
     "output_type": "stream",
     "text": [
      "\r",
      " 12%|████████                                                            | 118/1000 [00:40<05:17,  2.78it/s]"
     ]
    },
    {
     "name": "stderr",
     "output_type": "stream",
     "text": [
      "\r",
      " 12%|████████                                                            | 119/1000 [00:40<05:12,  2.82it/s]"
     ]
    },
    {
     "name": "stderr",
     "output_type": "stream",
     "text": [
      "\r",
      " 12%|████████▏                                                           | 120/1000 [00:40<04:58,  2.94it/s]"
     ]
    },
    {
     "name": "stderr",
     "output_type": "stream",
     "text": [
      "\r",
      " 12%|████████▏                                                           | 121/1000 [00:41<04:55,  2.98it/s]"
     ]
    },
    {
     "name": "stderr",
     "output_type": "stream",
     "text": [
      "\r",
      " 12%|████████▎                                                           | 122/1000 [00:41<04:56,  2.96it/s]"
     ]
    },
    {
     "name": "stderr",
     "output_type": "stream",
     "text": [
      "\r",
      " 12%|████████▎                                                           | 123/1000 [00:41<04:54,  2.98it/s]"
     ]
    },
    {
     "name": "stderr",
     "output_type": "stream",
     "text": [
      "\r",
      " 12%|████████▍                                                           | 124/1000 [00:42<04:52,  3.00it/s]"
     ]
    },
    {
     "name": "stderr",
     "output_type": "stream",
     "text": [
      "\r",
      " 12%|████████▌                                                           | 125/1000 [00:42<04:58,  2.94it/s]"
     ]
    },
    {
     "name": "stderr",
     "output_type": "stream",
     "text": [
      "\r",
      " 13%|████████▌                                                           | 126/1000 [00:42<05:20,  2.73it/s]"
     ]
    },
    {
     "name": "stderr",
     "output_type": "stream",
     "text": [
      "\r",
      " 13%|████████▋                                                           | 127/1000 [00:43<05:10,  2.81it/s]"
     ]
    },
    {
     "name": "stderr",
     "output_type": "stream",
     "text": [
      "\r",
      " 13%|████████▋                                                           | 128/1000 [00:43<05:12,  2.79it/s]"
     ]
    },
    {
     "name": "stderr",
     "output_type": "stream",
     "text": [
      "\r",
      " 13%|████████▊                                                           | 129/1000 [00:44<05:28,  2.65it/s]"
     ]
    },
    {
     "name": "stderr",
     "output_type": "stream",
     "text": [
      "\r",
      " 13%|████████▊                                                           | 130/1000 [00:44<05:34,  2.60it/s]"
     ]
    },
    {
     "name": "stderr",
     "output_type": "stream",
     "text": [
      "\r",
      " 13%|████████▉                                                           | 131/1000 [00:44<05:28,  2.64it/s]"
     ]
    },
    {
     "name": "stderr",
     "output_type": "stream",
     "text": [
      "\r",
      " 13%|████████▉                                                           | 132/1000 [00:45<05:31,  2.62it/s]"
     ]
    },
    {
     "name": "stderr",
     "output_type": "stream",
     "text": [
      "\r",
      " 13%|█████████                                                           | 133/1000 [00:45<05:19,  2.72it/s]"
     ]
    },
    {
     "name": "stderr",
     "output_type": "stream",
     "text": [
      "\r",
      " 13%|█████████                                                           | 134/1000 [00:45<05:16,  2.74it/s]"
     ]
    },
    {
     "name": "stderr",
     "output_type": "stream",
     "text": [
      "\r",
      " 14%|█████████▏                                                          | 135/1000 [00:46<05:16,  2.74it/s]"
     ]
    },
    {
     "name": "stderr",
     "output_type": "stream",
     "text": [
      "\r",
      " 14%|█████████▏                                                          | 136/1000 [00:46<05:20,  2.69it/s]"
     ]
    },
    {
     "name": "stderr",
     "output_type": "stream",
     "text": [
      "\r",
      " 14%|█████████▎                                                          | 137/1000 [00:46<05:13,  2.76it/s]"
     ]
    },
    {
     "name": "stderr",
     "output_type": "stream",
     "text": [
      "\r",
      " 14%|█████████▍                                                          | 138/1000 [00:47<05:06,  2.81it/s]"
     ]
    },
    {
     "name": "stderr",
     "output_type": "stream",
     "text": [
      "\r",
      " 14%|█████████▍                                                          | 139/1000 [00:47<05:10,  2.77it/s]"
     ]
    },
    {
     "name": "stderr",
     "output_type": "stream",
     "text": [
      "\r",
      " 14%|█████████▌                                                          | 140/1000 [00:48<05:19,  2.69it/s]"
     ]
    },
    {
     "name": "stderr",
     "output_type": "stream",
     "text": [
      "\r",
      " 14%|█████████▌                                                          | 141/1000 [00:48<05:23,  2.66it/s]"
     ]
    },
    {
     "name": "stderr",
     "output_type": "stream",
     "text": [
      "\r",
      " 14%|█████████▋                                                          | 142/1000 [00:48<05:25,  2.64it/s]"
     ]
    },
    {
     "name": "stderr",
     "output_type": "stream",
     "text": [
      "\r",
      " 14%|█████████▋                                                          | 143/1000 [00:49<05:22,  2.66it/s]"
     ]
    },
    {
     "name": "stderr",
     "output_type": "stream",
     "text": [
      "\r",
      " 14%|█████████▊                                                          | 144/1000 [00:49<05:19,  2.68it/s]"
     ]
    },
    {
     "name": "stderr",
     "output_type": "stream",
     "text": [
      "\r",
      " 14%|█████████▊                                                          | 145/1000 [00:49<05:17,  2.69it/s]"
     ]
    },
    {
     "name": "stderr",
     "output_type": "stream",
     "text": [
      "\r",
      " 15%|█████████▉                                                          | 146/1000 [00:50<05:17,  2.69it/s]"
     ]
    },
    {
     "name": "stderr",
     "output_type": "stream",
     "text": [
      "\r",
      " 15%|█████████▉                                                          | 147/1000 [00:50<05:20,  2.66it/s]"
     ]
    },
    {
     "name": "stderr",
     "output_type": "stream",
     "text": [
      "\r",
      " 15%|██████████                                                          | 148/1000 [00:51<05:21,  2.65it/s]"
     ]
    },
    {
     "name": "stderr",
     "output_type": "stream",
     "text": [
      "\r",
      " 15%|██████████▏                                                         | 149/1000 [00:51<05:24,  2.63it/s]"
     ]
    },
    {
     "name": "stderr",
     "output_type": "stream",
     "text": [
      "\r",
      " 15%|██████████▏                                                         | 150/1000 [00:51<05:27,  2.59it/s]"
     ]
    },
    {
     "name": "stderr",
     "output_type": "stream",
     "text": [
      "\r",
      " 15%|██████████▎                                                         | 151/1000 [00:52<05:36,  2.53it/s]"
     ]
    },
    {
     "name": "stderr",
     "output_type": "stream",
     "text": [
      "\r",
      " 15%|██████████▎                                                         | 152/1000 [00:52<05:45,  2.46it/s]"
     ]
    },
    {
     "name": "stderr",
     "output_type": "stream",
     "text": [
      "\r",
      " 15%|██████████▍                                                         | 153/1000 [00:53<05:46,  2.45it/s]"
     ]
    },
    {
     "name": "stderr",
     "output_type": "stream",
     "text": [
      "\r",
      " 15%|██████████▍                                                         | 154/1000 [00:53<05:36,  2.51it/s]"
     ]
    },
    {
     "name": "stderr",
     "output_type": "stream",
     "text": [
      "\r",
      " 16%|██████████▌                                                         | 155/1000 [00:53<05:37,  2.50it/s]"
     ]
    },
    {
     "name": "stderr",
     "output_type": "stream",
     "text": [
      "\r",
      " 16%|██████████▌                                                         | 156/1000 [00:54<05:35,  2.52it/s]"
     ]
    },
    {
     "name": "stderr",
     "output_type": "stream",
     "text": [
      "\r",
      " 16%|██████████▋                                                         | 157/1000 [00:54<05:27,  2.57it/s]"
     ]
    },
    {
     "name": "stderr",
     "output_type": "stream",
     "text": [
      "\r",
      " 16%|██████████▋                                                         | 158/1000 [00:55<05:31,  2.54it/s]"
     ]
    },
    {
     "name": "stderr",
     "output_type": "stream",
     "text": [
      "\r",
      " 16%|██████████▊                                                         | 159/1000 [00:55<05:30,  2.54it/s]"
     ]
    },
    {
     "name": "stderr",
     "output_type": "stream",
     "text": [
      "\r",
      " 16%|██████████▉                                                         | 160/1000 [00:55<05:26,  2.58it/s]"
     ]
    },
    {
     "name": "stderr",
     "output_type": "stream",
     "text": [
      "\r",
      " 16%|██████████▉                                                         | 161/1000 [00:56<05:18,  2.64it/s]"
     ]
    },
    {
     "name": "stderr",
     "output_type": "stream",
     "text": [
      "\r",
      " 16%|███████████                                                         | 162/1000 [00:56<05:23,  2.59it/s]"
     ]
    },
    {
     "name": "stderr",
     "output_type": "stream",
     "text": [
      "\r",
      " 16%|███████████                                                         | 163/1000 [00:57<05:25,  2.57it/s]"
     ]
    },
    {
     "name": "stderr",
     "output_type": "stream",
     "text": [
      "\r",
      " 16%|███████████▏                                                        | 164/1000 [00:57<05:27,  2.55it/s]"
     ]
    },
    {
     "name": "stderr",
     "output_type": "stream",
     "text": [
      "\r",
      " 16%|███████████▏                                                        | 165/1000 [00:57<05:19,  2.61it/s]"
     ]
    },
    {
     "name": "stderr",
     "output_type": "stream",
     "text": [
      "\r",
      " 17%|███████████▎                                                        | 166/1000 [00:58<05:16,  2.64it/s]"
     ]
    },
    {
     "name": "stderr",
     "output_type": "stream",
     "text": [
      "\r",
      " 17%|███████████▎                                                        | 167/1000 [00:58<05:16,  2.63it/s]"
     ]
    },
    {
     "name": "stderr",
     "output_type": "stream",
     "text": [
      "\r",
      " 17%|███████████▍                                                        | 168/1000 [00:58<05:16,  2.63it/s]"
     ]
    },
    {
     "name": "stderr",
     "output_type": "stream",
     "text": [
      "\r",
      " 17%|███████████▍                                                        | 169/1000 [00:59<05:12,  2.66it/s]"
     ]
    },
    {
     "name": "stderr",
     "output_type": "stream",
     "text": [
      "\r",
      " 17%|███████████▌                                                        | 170/1000 [00:59<05:10,  2.67it/s]"
     ]
    },
    {
     "name": "stderr",
     "output_type": "stream",
     "text": [
      "\r",
      " 17%|███████████▋                                                        | 171/1000 [01:00<05:13,  2.65it/s]"
     ]
    },
    {
     "name": "stderr",
     "output_type": "stream",
     "text": [
      "\r",
      " 17%|███████████▋                                                        | 172/1000 [01:00<05:10,  2.67it/s]"
     ]
    },
    {
     "name": "stderr",
     "output_type": "stream",
     "text": [
      "\r",
      " 17%|███████████▊                                                        | 173/1000 [01:00<05:18,  2.60it/s]"
     ]
    },
    {
     "name": "stderr",
     "output_type": "stream",
     "text": [
      "\r",
      " 17%|███████████▊                                                        | 174/1000 [01:01<05:18,  2.59it/s]"
     ]
    },
    {
     "name": "stderr",
     "output_type": "stream",
     "text": [
      "\r",
      " 18%|███████████▉                                                        | 175/1000 [01:01<05:17,  2.60it/s]"
     ]
    },
    {
     "name": "stderr",
     "output_type": "stream",
     "text": [
      "\r",
      " 18%|███████████▉                                                        | 176/1000 [01:01<05:13,  2.63it/s]"
     ]
    },
    {
     "name": "stderr",
     "output_type": "stream",
     "text": [
      "\r",
      " 18%|████████████                                                        | 177/1000 [01:02<05:10,  2.65it/s]"
     ]
    },
    {
     "name": "stderr",
     "output_type": "stream",
     "text": [
      "\r",
      " 18%|████████████                                                        | 178/1000 [01:02<05:23,  2.54it/s]"
     ]
    },
    {
     "name": "stderr",
     "output_type": "stream",
     "text": [
      "\r",
      " 18%|████████████▏                                                       | 179/1000 [01:03<05:49,  2.35it/s]"
     ]
    },
    {
     "name": "stderr",
     "output_type": "stream",
     "text": [
      "\r",
      " 18%|████████████▏                                                       | 180/1000 [01:03<05:59,  2.28it/s]"
     ]
    },
    {
     "name": "stderr",
     "output_type": "stream",
     "text": [
      "\r",
      " 18%|████████████▎                                                       | 181/1000 [01:04<06:12,  2.20it/s]"
     ]
    },
    {
     "name": "stderr",
     "output_type": "stream",
     "text": [
      "\r",
      " 18%|████████████▍                                                       | 182/1000 [01:04<05:58,  2.28it/s]"
     ]
    },
    {
     "name": "stderr",
     "output_type": "stream",
     "text": [
      "\r",
      " 18%|████████████▍                                                       | 183/1000 [01:05<06:01,  2.26it/s]"
     ]
    },
    {
     "name": "stderr",
     "output_type": "stream",
     "text": [
      "\r",
      " 18%|████████████▌                                                       | 184/1000 [01:05<06:15,  2.17it/s]"
     ]
    },
    {
     "name": "stderr",
     "output_type": "stream",
     "text": [
      "\r",
      " 18%|████████████▌                                                       | 185/1000 [01:06<06:19,  2.15it/s]"
     ]
    },
    {
     "name": "stderr",
     "output_type": "stream",
     "text": [
      "\r",
      " 19%|████████████▋                                                       | 186/1000 [01:06<06:19,  2.15it/s]"
     ]
    },
    {
     "name": "stderr",
     "output_type": "stream",
     "text": [
      "\r",
      " 19%|████████████▋                                                       | 187/1000 [01:06<06:12,  2.19it/s]"
     ]
    },
    {
     "name": "stderr",
     "output_type": "stream",
     "text": [
      "\r",
      " 19%|████████████▊                                                       | 188/1000 [01:07<06:11,  2.18it/s]"
     ]
    },
    {
     "name": "stderr",
     "output_type": "stream",
     "text": [
      "\r",
      " 19%|████████████▊                                                       | 189/1000 [01:07<06:08,  2.20it/s]"
     ]
    },
    {
     "name": "stderr",
     "output_type": "stream",
     "text": [
      "\r",
      " 19%|████████████▉                                                       | 190/1000 [01:08<06:07,  2.20it/s]"
     ]
    },
    {
     "name": "stderr",
     "output_type": "stream",
     "text": [
      "\r",
      " 19%|████████████▉                                                       | 191/1000 [01:08<06:04,  2.22it/s]"
     ]
    },
    {
     "name": "stderr",
     "output_type": "stream",
     "text": [
      "\r",
      " 19%|█████████████                                                       | 192/1000 [01:09<06:00,  2.24it/s]"
     ]
    },
    {
     "name": "stderr",
     "output_type": "stream",
     "text": [
      "\r",
      " 19%|█████████████                                                       | 193/1000 [01:09<06:04,  2.21it/s]"
     ]
    },
    {
     "name": "stderr",
     "output_type": "stream",
     "text": [
      "\r",
      " 19%|█████████████▏                                                      | 194/1000 [01:10<05:58,  2.25it/s]"
     ]
    },
    {
     "name": "stderr",
     "output_type": "stream",
     "text": [
      "\r",
      " 20%|█████████████▎                                                      | 195/1000 [01:10<05:49,  2.30it/s]"
     ]
    },
    {
     "name": "stderr",
     "output_type": "stream",
     "text": [
      "\r",
      " 20%|█████████████▎                                                      | 196/1000 [01:10<05:37,  2.38it/s]"
     ]
    },
    {
     "name": "stderr",
     "output_type": "stream",
     "text": [
      "\r",
      " 20%|█████████████▍                                                      | 197/1000 [01:11<05:22,  2.49it/s]"
     ]
    },
    {
     "name": "stderr",
     "output_type": "stream",
     "text": [
      "\r",
      " 20%|█████████████▍                                                      | 198/1000 [01:11<05:22,  2.49it/s]"
     ]
    },
    {
     "name": "stderr",
     "output_type": "stream",
     "text": [
      "\r",
      " 20%|█████████████▌                                                      | 199/1000 [01:12<05:18,  2.52it/s]"
     ]
    },
    {
     "name": "stderr",
     "output_type": "stream",
     "text": [
      "\r",
      " 20%|█████████████▌                                                      | 200/1000 [01:12<05:17,  2.52it/s]"
     ]
    },
    {
     "name": "stderr",
     "output_type": "stream",
     "text": [
      "\r",
      " 20%|█████████████▋                                                      | 201/1000 [01:12<05:42,  2.33it/s]"
     ]
    },
    {
     "name": "stderr",
     "output_type": "stream",
     "text": [
      "\r",
      " 20%|█████████████▋                                                      | 202/1000 [01:13<05:36,  2.37it/s]"
     ]
    },
    {
     "name": "stderr",
     "output_type": "stream",
     "text": [
      "\r",
      " 20%|█████████████▊                                                      | 203/1000 [01:13<05:31,  2.41it/s]"
     ]
    },
    {
     "name": "stderr",
     "output_type": "stream",
     "text": [
      "\r",
      " 20%|█████████████▊                                                      | 204/1000 [01:14<05:27,  2.43it/s]"
     ]
    },
    {
     "name": "stderr",
     "output_type": "stream",
     "text": [
      "\r",
      " 20%|█████████████▉                                                      | 205/1000 [01:14<05:25,  2.44it/s]"
     ]
    },
    {
     "name": "stderr",
     "output_type": "stream",
     "text": [
      "\r",
      " 21%|██████████████                                                      | 206/1000 [01:14<05:20,  2.48it/s]"
     ]
    },
    {
     "name": "stderr",
     "output_type": "stream",
     "text": [
      "\r",
      " 21%|██████████████                                                      | 207/1000 [01:15<05:11,  2.55it/s]"
     ]
    },
    {
     "name": "stderr",
     "output_type": "stream",
     "text": [
      "\r",
      " 21%|██████████████▏                                                     | 208/1000 [01:15<05:34,  2.37it/s]"
     ]
    },
    {
     "name": "stderr",
     "output_type": "stream",
     "text": [
      "\r",
      " 21%|██████████████▏                                                     | 209/1000 [01:16<05:29,  2.40it/s]"
     ]
    },
    {
     "name": "stderr",
     "output_type": "stream",
     "text": [
      "\r",
      " 21%|██████████████▎                                                     | 210/1000 [01:16<05:30,  2.39it/s]"
     ]
    },
    {
     "name": "stderr",
     "output_type": "stream",
     "text": [
      "\r",
      " 21%|██████████████▎                                                     | 211/1000 [01:16<05:18,  2.47it/s]"
     ]
    },
    {
     "name": "stderr",
     "output_type": "stream",
     "text": [
      "\r",
      " 21%|██████████████▍                                                     | 212/1000 [01:17<05:14,  2.50it/s]"
     ]
    },
    {
     "name": "stderr",
     "output_type": "stream",
     "text": [
      "\r",
      " 21%|██████████████▍                                                     | 213/1000 [01:17<05:23,  2.44it/s]"
     ]
    },
    {
     "name": "stderr",
     "output_type": "stream",
     "text": [
      "\r",
      " 21%|██████████████▌                                                     | 214/1000 [01:18<05:28,  2.39it/s]"
     ]
    },
    {
     "name": "stderr",
     "output_type": "stream",
     "text": [
      "\r",
      " 22%|██████████████▌                                                     | 215/1000 [01:18<05:31,  2.37it/s]"
     ]
    },
    {
     "name": "stderr",
     "output_type": "stream",
     "text": [
      "\r",
      " 22%|██████████████▋                                                     | 216/1000 [01:19<05:25,  2.41it/s]"
     ]
    },
    {
     "name": "stderr",
     "output_type": "stream",
     "text": [
      "\r",
      " 22%|██████████████▊                                                     | 217/1000 [01:19<05:24,  2.41it/s]"
     ]
    },
    {
     "name": "stderr",
     "output_type": "stream",
     "text": [
      "\r",
      " 22%|██████████████▊                                                     | 218/1000 [01:19<05:19,  2.44it/s]"
     ]
    },
    {
     "name": "stderr",
     "output_type": "stream",
     "text": [
      "\r",
      " 22%|██████████████▉                                                     | 219/1000 [01:20<05:14,  2.48it/s]"
     ]
    },
    {
     "name": "stderr",
     "output_type": "stream",
     "text": [
      "\r",
      " 22%|██████████████▉                                                     | 220/1000 [01:20<05:25,  2.40it/s]"
     ]
    },
    {
     "name": "stderr",
     "output_type": "stream",
     "text": [
      "\r",
      " 22%|███████████████                                                     | 221/1000 [01:21<05:15,  2.47it/s]"
     ]
    },
    {
     "name": "stderr",
     "output_type": "stream",
     "text": [
      "\r",
      " 22%|███████████████                                                     | 222/1000 [01:21<05:10,  2.51it/s]"
     ]
    },
    {
     "name": "stderr",
     "output_type": "stream",
     "text": [
      "\r",
      " 22%|███████████████▏                                                    | 223/1000 [01:21<05:16,  2.46it/s]"
     ]
    },
    {
     "name": "stderr",
     "output_type": "stream",
     "text": [
      "\r",
      " 22%|███████████████▏                                                    | 224/1000 [01:22<05:09,  2.51it/s]"
     ]
    },
    {
     "name": "stderr",
     "output_type": "stream",
     "text": [
      "\r",
      " 22%|███████████████▎                                                    | 225/1000 [01:22<05:11,  2.49it/s]"
     ]
    },
    {
     "name": "stderr",
     "output_type": "stream",
     "text": [
      "\r",
      " 23%|███████████████▎                                                    | 226/1000 [01:23<05:13,  2.47it/s]"
     ]
    },
    {
     "name": "stderr",
     "output_type": "stream",
     "text": [
      "\r",
      " 23%|███████████████▍                                                    | 227/1000 [01:23<05:14,  2.46it/s]"
     ]
    },
    {
     "name": "stderr",
     "output_type": "stream",
     "text": [
      "\r",
      " 23%|███████████████▌                                                    | 228/1000 [01:23<05:09,  2.49it/s]"
     ]
    },
    {
     "name": "stderr",
     "output_type": "stream",
     "text": [
      "\r",
      " 23%|███████████████▌                                                    | 229/1000 [01:24<05:07,  2.51it/s]"
     ]
    },
    {
     "name": "stderr",
     "output_type": "stream",
     "text": [
      "\r",
      " 23%|███████████████▋                                                    | 230/1000 [01:24<05:03,  2.54it/s]"
     ]
    },
    {
     "name": "stderr",
     "output_type": "stream",
     "text": [
      "\r",
      " 23%|███████████████▋                                                    | 231/1000 [01:25<05:17,  2.42it/s]"
     ]
    },
    {
     "name": "stderr",
     "output_type": "stream",
     "text": [
      "\r",
      " 23%|███████████████▊                                                    | 232/1000 [01:25<05:22,  2.38it/s]"
     ]
    },
    {
     "name": "stderr",
     "output_type": "stream",
     "text": [
      "\r",
      " 23%|███████████████▊                                                    | 233/1000 [01:26<05:21,  2.38it/s]"
     ]
    },
    {
     "name": "stderr",
     "output_type": "stream",
     "text": [
      "\r",
      " 23%|███████████████▉                                                    | 234/1000 [01:26<05:22,  2.38it/s]"
     ]
    },
    {
     "name": "stderr",
     "output_type": "stream",
     "text": [
      "\r",
      " 24%|███████████████▉                                                    | 235/1000 [01:26<05:17,  2.41it/s]"
     ]
    },
    {
     "name": "stderr",
     "output_type": "stream",
     "text": [
      "\r",
      " 24%|████████████████                                                    | 236/1000 [01:27<05:13,  2.44it/s]"
     ]
    },
    {
     "name": "stderr",
     "output_type": "stream",
     "text": [
      "\r",
      " 24%|████████████████                                                    | 237/1000 [01:27<05:12,  2.44it/s]"
     ]
    },
    {
     "name": "stderr",
     "output_type": "stream",
     "text": [
      "\r",
      " 24%|████████████████▏                                                   | 238/1000 [01:28<05:09,  2.47it/s]"
     ]
    },
    {
     "name": "stderr",
     "output_type": "stream",
     "text": [
      "\r",
      " 24%|████████████████▎                                                   | 239/1000 [01:28<05:09,  2.46it/s]"
     ]
    },
    {
     "name": "stderr",
     "output_type": "stream",
     "text": [
      "\r",
      " 24%|████████████████▎                                                   | 240/1000 [01:28<05:09,  2.45it/s]"
     ]
    },
    {
     "name": "stderr",
     "output_type": "stream",
     "text": [
      "\r",
      " 24%|████████████████▍                                                   | 241/1000 [01:29<05:13,  2.42it/s]"
     ]
    },
    {
     "name": "stderr",
     "output_type": "stream",
     "text": [
      "\r",
      " 24%|████████████████▍                                                   | 242/1000 [01:29<05:11,  2.43it/s]"
     ]
    },
    {
     "name": "stderr",
     "output_type": "stream",
     "text": [
      "\r",
      " 24%|████████████████▌                                                   | 243/1000 [01:30<05:19,  2.37it/s]"
     ]
    },
    {
     "name": "stderr",
     "output_type": "stream",
     "text": [
      "\r",
      " 24%|████████████████▌                                                   | 244/1000 [01:30<05:18,  2.38it/s]"
     ]
    },
    {
     "name": "stderr",
     "output_type": "stream",
     "text": [
      "\r",
      " 24%|████████████████▋                                                   | 245/1000 [01:30<05:17,  2.38it/s]"
     ]
    },
    {
     "name": "stderr",
     "output_type": "stream",
     "text": [
      "\r",
      " 25%|████████████████▋                                                   | 246/1000 [01:31<05:10,  2.43it/s]"
     ]
    },
    {
     "name": "stderr",
     "output_type": "stream",
     "text": [
      "\r",
      " 25%|████████████████▊                                                   | 247/1000 [01:31<05:04,  2.47it/s]"
     ]
    },
    {
     "name": "stderr",
     "output_type": "stream",
     "text": [
      "\r",
      " 25%|████████████████▊                                                   | 248/1000 [01:32<05:01,  2.50it/s]"
     ]
    },
    {
     "name": "stderr",
     "output_type": "stream",
     "text": [
      "\r",
      " 25%|████████████████▉                                                   | 249/1000 [01:32<05:05,  2.46it/s]"
     ]
    },
    {
     "name": "stderr",
     "output_type": "stream",
     "text": [
      "\r",
      " 25%|█████████████████                                                   | 250/1000 [01:32<05:02,  2.48it/s]"
     ]
    },
    {
     "name": "stderr",
     "output_type": "stream",
     "text": [
      "\r",
      " 25%|█████████████████                                                   | 251/1000 [01:33<05:06,  2.44it/s]"
     ]
    },
    {
     "name": "stderr",
     "output_type": "stream",
     "text": [
      "\r",
      " 25%|█████████████████▏                                                  | 252/1000 [01:33<05:13,  2.38it/s]"
     ]
    },
    {
     "name": "stderr",
     "output_type": "stream",
     "text": [
      "\r",
      " 25%|█████████████████▏                                                  | 253/1000 [01:34<05:17,  2.36it/s]"
     ]
    },
    {
     "name": "stderr",
     "output_type": "stream",
     "text": [
      "\r",
      " 25%|█████████████████▎                                                  | 254/1000 [01:34<05:24,  2.30it/s]"
     ]
    },
    {
     "name": "stderr",
     "output_type": "stream",
     "text": [
      "\r",
      " 26%|█████████████████▎                                                  | 255/1000 [01:35<05:40,  2.19it/s]"
     ]
    },
    {
     "name": "stderr",
     "output_type": "stream",
     "text": [
      "\r",
      " 26%|█████████████████▍                                                  | 256/1000 [01:35<05:36,  2.21it/s]"
     ]
    },
    {
     "name": "stderr",
     "output_type": "stream",
     "text": [
      "\r",
      " 26%|█████████████████▍                                                  | 257/1000 [01:36<05:43,  2.16it/s]"
     ]
    },
    {
     "name": "stderr",
     "output_type": "stream",
     "text": [
      "\r",
      " 26%|█████████████████▌                                                  | 258/1000 [01:36<05:38,  2.19it/s]"
     ]
    },
    {
     "name": "stderr",
     "output_type": "stream",
     "text": [
      "\r",
      " 26%|█████████████████▌                                                  | 259/1000 [01:37<05:35,  2.21it/s]"
     ]
    },
    {
     "name": "stderr",
     "output_type": "stream",
     "text": [
      "\r",
      " 26%|█████████████████▋                                                  | 260/1000 [01:37<05:25,  2.27it/s]"
     ]
    },
    {
     "name": "stderr",
     "output_type": "stream",
     "text": [
      "\r",
      " 26%|█████████████████▋                                                  | 261/1000 [01:37<05:15,  2.35it/s]"
     ]
    },
    {
     "name": "stderr",
     "output_type": "stream",
     "text": [
      "\r",
      " 26%|█████████████████▊                                                  | 262/1000 [01:38<05:13,  2.35it/s]"
     ]
    },
    {
     "name": "stderr",
     "output_type": "stream",
     "text": [
      "\r",
      " 26%|█████████████████▉                                                  | 263/1000 [01:38<05:14,  2.34it/s]"
     ]
    },
    {
     "name": "stderr",
     "output_type": "stream",
     "text": [
      "\r",
      " 26%|█████████████████▉                                                  | 264/1000 [01:39<05:13,  2.35it/s]"
     ]
    },
    {
     "name": "stderr",
     "output_type": "stream",
     "text": [
      "\r",
      " 26%|██████████████████                                                  | 265/1000 [01:39<05:25,  2.26it/s]"
     ]
    },
    {
     "name": "stderr",
     "output_type": "stream",
     "text": [
      "\r",
      " 27%|██████████████████                                                  | 266/1000 [01:39<05:11,  2.35it/s]"
     ]
    },
    {
     "name": "stderr",
     "output_type": "stream",
     "text": [
      "\r",
      " 27%|██████████████████▏                                                 | 267/1000 [01:40<05:02,  2.42it/s]"
     ]
    },
    {
     "name": "stderr",
     "output_type": "stream",
     "text": [
      "\r",
      " 27%|██████████████████▏                                                 | 268/1000 [01:40<05:03,  2.41it/s]"
     ]
    },
    {
     "name": "stderr",
     "output_type": "stream",
     "text": [
      "\r",
      " 27%|██████████████████▎                                                 | 269/1000 [01:41<04:58,  2.45it/s]"
     ]
    },
    {
     "name": "stderr",
     "output_type": "stream",
     "text": [
      "\r",
      " 27%|██████████████████▎                                                 | 270/1000 [01:41<04:48,  2.53it/s]"
     ]
    },
    {
     "name": "stderr",
     "output_type": "stream",
     "text": [
      "\r",
      " 27%|██████████████████▍                                                 | 271/1000 [01:41<04:44,  2.56it/s]"
     ]
    },
    {
     "name": "stderr",
     "output_type": "stream",
     "text": [
      "\r",
      " 27%|██████████████████▍                                                 | 272/1000 [01:42<04:38,  2.62it/s]"
     ]
    },
    {
     "name": "stderr",
     "output_type": "stream",
     "text": [
      "\r",
      " 27%|██████████████████▌                                                 | 273/1000 [01:42<04:43,  2.57it/s]"
     ]
    },
    {
     "name": "stderr",
     "output_type": "stream",
     "text": [
      "\r",
      " 27%|██████████████████▋                                                 | 274/1000 [01:43<05:08,  2.35it/s]"
     ]
    },
    {
     "name": "stderr",
     "output_type": "stream",
     "text": [
      "\r",
      " 28%|██████████████████▋                                                 | 275/1000 [01:43<05:17,  2.28it/s]"
     ]
    },
    {
     "name": "stderr",
     "output_type": "stream",
     "text": [
      "\r",
      " 28%|██████████████████▊                                                 | 276/1000 [01:44<05:20,  2.26it/s]"
     ]
    },
    {
     "name": "stderr",
     "output_type": "stream",
     "text": [
      "\r",
      " 28%|██████████████████▊                                                 | 277/1000 [01:44<05:05,  2.36it/s]"
     ]
    },
    {
     "name": "stderr",
     "output_type": "stream",
     "text": [
      "\r",
      " 28%|██████████████████▉                                                 | 278/1000 [01:44<04:52,  2.47it/s]"
     ]
    },
    {
     "name": "stderr",
     "output_type": "stream",
     "text": [
      "\r",
      " 28%|██████████████████▉                                                 | 279/1000 [01:45<04:42,  2.55it/s]"
     ]
    },
    {
     "name": "stderr",
     "output_type": "stream",
     "text": [
      "\r",
      " 28%|███████████████████                                                 | 280/1000 [01:45<04:38,  2.58it/s]"
     ]
    },
    {
     "name": "stderr",
     "output_type": "stream",
     "text": [
      "\r",
      " 28%|███████████████████                                                 | 281/1000 [01:45<04:32,  2.64it/s]"
     ]
    },
    {
     "name": "stderr",
     "output_type": "stream",
     "text": [
      "\r",
      " 28%|███████████████████▏                                                | 282/1000 [01:46<04:29,  2.66it/s]"
     ]
    },
    {
     "name": "stderr",
     "output_type": "stream",
     "text": [
      "\r",
      " 28%|███████████████████▏                                                | 283/1000 [01:46<04:29,  2.66it/s]"
     ]
    },
    {
     "name": "stderr",
     "output_type": "stream",
     "text": [
      "\r",
      " 28%|███████████████████▎                                                | 284/1000 [01:47<04:27,  2.68it/s]"
     ]
    },
    {
     "name": "stderr",
     "output_type": "stream",
     "text": [
      "\r",
      " 28%|███████████████████▍                                                | 285/1000 [01:47<04:26,  2.68it/s]"
     ]
    },
    {
     "name": "stderr",
     "output_type": "stream",
     "text": [
      "\r",
      " 29%|███████████████████▍                                                | 286/1000 [01:47<04:28,  2.66it/s]"
     ]
    },
    {
     "name": "stderr",
     "output_type": "stream",
     "text": [
      "\r",
      " 29%|███████████████████▌                                                | 287/1000 [01:48<04:27,  2.66it/s]"
     ]
    },
    {
     "name": "stderr",
     "output_type": "stream",
     "text": [
      "\r",
      " 29%|███████████████████▌                                                | 288/1000 [01:48<04:24,  2.70it/s]"
     ]
    },
    {
     "name": "stderr",
     "output_type": "stream",
     "text": [
      "\r",
      " 29%|███████████████████▋                                                | 289/1000 [01:48<04:21,  2.72it/s]"
     ]
    },
    {
     "name": "stderr",
     "output_type": "stream",
     "text": [
      "\r",
      " 29%|███████████████████▋                                                | 290/1000 [01:49<04:15,  2.77it/s]"
     ]
    },
    {
     "name": "stderr",
     "output_type": "stream",
     "text": [
      "\r",
      " 29%|███████████████████▊                                                | 291/1000 [01:49<04:19,  2.73it/s]"
     ]
    },
    {
     "name": "stderr",
     "output_type": "stream",
     "text": [
      "\r",
      " 29%|███████████████████▊                                                | 292/1000 [01:50<04:20,  2.72it/s]"
     ]
    },
    {
     "name": "stderr",
     "output_type": "stream",
     "text": [
      "\r",
      " 29%|███████████████████▉                                                | 293/1000 [01:50<04:12,  2.80it/s]"
     ]
    },
    {
     "name": "stderr",
     "output_type": "stream",
     "text": [
      "\r",
      " 29%|███████████████████▉                                                | 294/1000 [01:50<04:14,  2.77it/s]"
     ]
    },
    {
     "name": "stderr",
     "output_type": "stream",
     "text": [
      "\r",
      " 30%|████████████████████                                                | 295/1000 [01:51<04:16,  2.75it/s]"
     ]
    },
    {
     "name": "stderr",
     "output_type": "stream",
     "text": [
      "\r",
      " 30%|████████████████████▏                                               | 296/1000 [01:51<04:18,  2.73it/s]"
     ]
    },
    {
     "name": "stderr",
     "output_type": "stream",
     "text": [
      "\r",
      " 30%|████████████████████▏                                               | 297/1000 [01:51<04:10,  2.80it/s]"
     ]
    },
    {
     "name": "stderr",
     "output_type": "stream",
     "text": [
      "\r",
      " 30%|████████████████████▎                                               | 298/1000 [01:52<04:12,  2.78it/s]"
     ]
    },
    {
     "name": "stderr",
     "output_type": "stream",
     "text": [
      "\r",
      " 30%|████████████████████▎                                               | 299/1000 [01:52<04:20,  2.69it/s]"
     ]
    },
    {
     "name": "stderr",
     "output_type": "stream",
     "text": [
      "\r",
      " 30%|████████████████████▍                                               | 300/1000 [01:52<04:18,  2.71it/s]"
     ]
    },
    {
     "name": "stderr",
     "output_type": "stream",
     "text": [
      "\r",
      " 30%|████████████████████▍                                               | 301/1000 [01:53<04:16,  2.72it/s]"
     ]
    },
    {
     "name": "stderr",
     "output_type": "stream",
     "text": [
      "\r",
      " 30%|████████████████████▌                                               | 302/1000 [01:53<04:21,  2.67it/s]"
     ]
    },
    {
     "name": "stderr",
     "output_type": "stream",
     "text": [
      "\r",
      " 30%|████████████████████▌                                               | 303/1000 [01:54<04:22,  2.66it/s]"
     ]
    },
    {
     "name": "stderr",
     "output_type": "stream",
     "text": [
      "\r",
      " 30%|████████████████████▋                                               | 304/1000 [01:54<04:23,  2.64it/s]"
     ]
    },
    {
     "name": "stderr",
     "output_type": "stream",
     "text": [
      "\r",
      " 30%|████████████████████▋                                               | 305/1000 [01:54<04:18,  2.69it/s]"
     ]
    },
    {
     "name": "stderr",
     "output_type": "stream",
     "text": [
      "\r",
      " 31%|████████████████████▊                                               | 306/1000 [01:55<04:18,  2.68it/s]"
     ]
    },
    {
     "name": "stderr",
     "output_type": "stream",
     "text": [
      "\r",
      " 31%|████████████████████▉                                               | 307/1000 [01:55<04:33,  2.53it/s]"
     ]
    },
    {
     "name": "stderr",
     "output_type": "stream",
     "text": [
      "\r",
      " 31%|████████████████████▉                                               | 308/1000 [01:56<04:33,  2.53it/s]"
     ]
    },
    {
     "name": "stderr",
     "output_type": "stream",
     "text": [
      "\r",
      " 31%|█████████████████████                                               | 309/1000 [01:56<04:28,  2.57it/s]"
     ]
    },
    {
     "name": "stderr",
     "output_type": "stream",
     "text": [
      "\r",
      " 31%|█████████████████████                                               | 310/1000 [01:56<04:24,  2.61it/s]"
     ]
    },
    {
     "name": "stderr",
     "output_type": "stream",
     "text": [
      "\r",
      " 31%|█████████████████████▏                                              | 311/1000 [01:57<04:20,  2.65it/s]"
     ]
    },
    {
     "name": "stderr",
     "output_type": "stream",
     "text": [
      "\r",
      " 31%|█████████████████████▏                                              | 312/1000 [01:57<04:18,  2.66it/s]"
     ]
    },
    {
     "name": "stderr",
     "output_type": "stream",
     "text": [
      "\r",
      " 31%|█████████████████████▎                                              | 313/1000 [01:57<04:22,  2.62it/s]"
     ]
    },
    {
     "name": "stderr",
     "output_type": "stream",
     "text": [
      "\r",
      " 31%|█████████████████████▎                                              | 314/1000 [01:58<04:28,  2.55it/s]"
     ]
    },
    {
     "name": "stderr",
     "output_type": "stream",
     "text": [
      "\r",
      " 32%|█████████████████████▍                                              | 315/1000 [01:58<04:33,  2.50it/s]"
     ]
    },
    {
     "name": "stderr",
     "output_type": "stream",
     "text": [
      "\r",
      " 32%|█████████████████████▍                                              | 316/1000 [01:59<04:38,  2.45it/s]"
     ]
    },
    {
     "name": "stderr",
     "output_type": "stream",
     "text": [
      "\r",
      " 32%|█████████████████████▌                                              | 317/1000 [01:59<04:41,  2.43it/s]"
     ]
    },
    {
     "name": "stderr",
     "output_type": "stream",
     "text": [
      "\r",
      " 32%|█████████████████████▌                                              | 318/1000 [01:59<04:36,  2.47it/s]"
     ]
    },
    {
     "name": "stderr",
     "output_type": "stream",
     "text": [
      "\r",
      " 32%|█████████████████████▋                                              | 319/1000 [02:00<04:31,  2.51it/s]"
     ]
    },
    {
     "name": "stderr",
     "output_type": "stream",
     "text": [
      "\r",
      " 32%|█████████████████████▊                                              | 320/1000 [02:00<04:24,  2.57it/s]"
     ]
    },
    {
     "name": "stderr",
     "output_type": "stream",
     "text": [
      "\r",
      " 32%|█████████████████████▊                                              | 321/1000 [02:01<04:17,  2.64it/s]"
     ]
    },
    {
     "name": "stderr",
     "output_type": "stream",
     "text": [
      "\r",
      " 32%|█████████████████████▉                                              | 322/1000 [02:01<04:17,  2.63it/s]"
     ]
    },
    {
     "name": "stderr",
     "output_type": "stream",
     "text": [
      "\r",
      " 32%|█████████████████████▉                                              | 323/1000 [02:01<04:13,  2.67it/s]"
     ]
    },
    {
     "name": "stderr",
     "output_type": "stream",
     "text": [
      "\r",
      " 32%|██████████████████████                                              | 324/1000 [02:02<04:15,  2.65it/s]"
     ]
    },
    {
     "name": "stderr",
     "output_type": "stream",
     "text": [
      "\r",
      " 32%|██████████████████████                                              | 325/1000 [02:02<04:13,  2.67it/s]"
     ]
    },
    {
     "name": "stderr",
     "output_type": "stream",
     "text": [
      "\r",
      " 33%|██████████████████████▏                                             | 326/1000 [02:02<04:12,  2.67it/s]"
     ]
    },
    {
     "name": "stderr",
     "output_type": "stream",
     "text": [
      "\r",
      " 33%|██████████████████████▏                                             | 327/1000 [02:03<04:10,  2.69it/s]"
     ]
    },
    {
     "name": "stderr",
     "output_type": "stream",
     "text": [
      "\r",
      " 33%|██████████████████████▎                                             | 328/1000 [02:03<04:15,  2.63it/s]"
     ]
    },
    {
     "name": "stderr",
     "output_type": "stream",
     "text": [
      "\r",
      " 33%|██████████████████████▎                                             | 329/1000 [02:04<04:18,  2.60it/s]"
     ]
    },
    {
     "name": "stderr",
     "output_type": "stream",
     "text": [
      "\r",
      " 33%|██████████████████████▍                                             | 330/1000 [02:04<04:11,  2.66it/s]"
     ]
    },
    {
     "name": "stderr",
     "output_type": "stream",
     "text": [
      "\r",
      " 33%|██████████████████████▌                                             | 331/1000 [02:04<04:14,  2.63it/s]"
     ]
    },
    {
     "name": "stderr",
     "output_type": "stream",
     "text": [
      "\r",
      " 33%|██████████████████████▌                                             | 332/1000 [02:05<04:19,  2.57it/s]"
     ]
    },
    {
     "name": "stderr",
     "output_type": "stream",
     "text": [
      "\r",
      " 33%|██████████████████████▋                                             | 333/1000 [02:05<04:18,  2.58it/s]"
     ]
    },
    {
     "name": "stderr",
     "output_type": "stream",
     "text": [
      "\r",
      " 33%|██████████████████████▋                                             | 334/1000 [02:06<04:11,  2.65it/s]"
     ]
    },
    {
     "name": "stderr",
     "output_type": "stream",
     "text": [
      "\r",
      " 34%|██████████████████████▊                                             | 335/1000 [02:06<04:07,  2.69it/s]"
     ]
    },
    {
     "name": "stderr",
     "output_type": "stream",
     "text": [
      "\r",
      " 34%|██████████████████████▊                                             | 336/1000 [02:06<04:08,  2.67it/s]"
     ]
    },
    {
     "name": "stderr",
     "output_type": "stream",
     "text": [
      "\r",
      " 34%|██████████████████████▉                                             | 337/1000 [02:07<04:05,  2.70it/s]"
     ]
    },
    {
     "name": "stderr",
     "output_type": "stream",
     "text": [
      "\r",
      " 34%|██████████████████████▉                                             | 338/1000 [02:07<04:05,  2.69it/s]"
     ]
    },
    {
     "name": "stderr",
     "output_type": "stream",
     "text": [
      "\r",
      " 34%|███████████████████████                                             | 339/1000 [02:07<04:04,  2.71it/s]"
     ]
    },
    {
     "name": "stderr",
     "output_type": "stream",
     "text": [
      "\r",
      " 34%|███████████████████████                                             | 340/1000 [02:08<04:04,  2.70it/s]"
     ]
    },
    {
     "name": "stderr",
     "output_type": "stream",
     "text": [
      "\r",
      " 34%|███████████████████████▏                                            | 341/1000 [02:08<04:07,  2.67it/s]"
     ]
    },
    {
     "name": "stderr",
     "output_type": "stream",
     "text": [
      "\r",
      " 34%|███████████████████████▎                                            | 342/1000 [02:08<04:08,  2.65it/s]"
     ]
    },
    {
     "name": "stderr",
     "output_type": "stream",
     "text": [
      "\r",
      " 34%|███████████████████████▎                                            | 343/1000 [02:09<04:07,  2.66it/s]"
     ]
    },
    {
     "name": "stderr",
     "output_type": "stream",
     "text": [
      "\r",
      " 34%|███████████████████████▍                                            | 344/1000 [02:09<04:07,  2.66it/s]"
     ]
    },
    {
     "name": "stderr",
     "output_type": "stream",
     "text": [
      "\r",
      " 34%|███████████████████████▍                                            | 345/1000 [02:10<04:08,  2.64it/s]"
     ]
    },
    {
     "name": "stderr",
     "output_type": "stream",
     "text": [
      "\r",
      " 35%|███████████████████████▌                                            | 346/1000 [02:10<04:08,  2.64it/s]"
     ]
    },
    {
     "name": "stderr",
     "output_type": "stream",
     "text": [
      "\r",
      " 35%|███████████████████████▌                                            | 347/1000 [02:10<04:05,  2.66it/s]"
     ]
    },
    {
     "name": "stderr",
     "output_type": "stream",
     "text": [
      "\r",
      " 35%|███████████████████████▋                                            | 348/1000 [02:11<04:04,  2.67it/s]"
     ]
    },
    {
     "name": "stderr",
     "output_type": "stream",
     "text": [
      "\r",
      " 35%|███████████████████████▋                                            | 349/1000 [02:11<04:02,  2.68it/s]"
     ]
    },
    {
     "name": "stderr",
     "output_type": "stream",
     "text": [
      "\r",
      " 35%|███████████████████████▊                                            | 350/1000 [02:12<04:05,  2.64it/s]"
     ]
    },
    {
     "name": "stderr",
     "output_type": "stream",
     "text": [
      "\r",
      " 35%|███████████████████████▊                                            | 351/1000 [02:12<03:59,  2.70it/s]"
     ]
    },
    {
     "name": "stderr",
     "output_type": "stream",
     "text": [
      "\r",
      " 35%|███████████████████████▉                                            | 352/1000 [02:12<04:01,  2.69it/s]"
     ]
    },
    {
     "name": "stderr",
     "output_type": "stream",
     "text": [
      "\r",
      " 35%|████████████████████████                                            | 353/1000 [02:13<04:00,  2.69it/s]"
     ]
    },
    {
     "name": "stderr",
     "output_type": "stream",
     "text": [
      "\r",
      " 35%|████████████████████████                                            | 354/1000 [02:13<03:59,  2.69it/s]"
     ]
    },
    {
     "name": "stderr",
     "output_type": "stream",
     "text": [
      "\r",
      " 36%|████████████████████████▏                                           | 355/1000 [02:13<04:02,  2.66it/s]"
     ]
    },
    {
     "name": "stderr",
     "output_type": "stream",
     "text": [
      "\r",
      " 36%|████████████████████████▏                                           | 356/1000 [02:14<04:04,  2.63it/s]"
     ]
    },
    {
     "name": "stderr",
     "output_type": "stream",
     "text": [
      "\r",
      " 36%|████████████████████████▎                                           | 357/1000 [02:14<04:01,  2.66it/s]"
     ]
    },
    {
     "name": "stderr",
     "output_type": "stream",
     "text": [
      "\r",
      " 36%|████████████████████████▎                                           | 358/1000 [02:14<04:01,  2.66it/s]"
     ]
    },
    {
     "name": "stderr",
     "output_type": "stream",
     "text": [
      "\r",
      " 36%|████████████████████████▍                                           | 359/1000 [02:15<03:56,  2.71it/s]"
     ]
    },
    {
     "name": "stderr",
     "output_type": "stream",
     "text": [
      "\r",
      " 36%|████████████████████████▍                                           | 360/1000 [02:15<03:55,  2.72it/s]"
     ]
    },
    {
     "name": "stderr",
     "output_type": "stream",
     "text": [
      "\r",
      " 36%|████████████████████████▌                                           | 361/1000 [02:16<03:57,  2.69it/s]"
     ]
    },
    {
     "name": "stderr",
     "output_type": "stream",
     "text": [
      "\r",
      " 36%|████████████████████████▌                                           | 362/1000 [02:16<03:56,  2.69it/s]"
     ]
    },
    {
     "name": "stderr",
     "output_type": "stream",
     "text": [
      "\r",
      " 36%|████████████████████████▋                                           | 363/1000 [02:16<03:52,  2.74it/s]"
     ]
    },
    {
     "name": "stderr",
     "output_type": "stream",
     "text": [
      "\r",
      " 36%|████████████████████████▊                                           | 364/1000 [02:17<03:57,  2.68it/s]"
     ]
    },
    {
     "name": "stderr",
     "output_type": "stream",
     "text": [
      "\r",
      " 36%|████████████████████████▊                                           | 365/1000 [02:17<03:55,  2.69it/s]"
     ]
    },
    {
     "name": "stderr",
     "output_type": "stream",
     "text": [
      "\r",
      " 37%|████████████████████████▉                                           | 366/1000 [02:17<03:56,  2.68it/s]"
     ]
    },
    {
     "name": "stderr",
     "output_type": "stream",
     "text": [
      "\r",
      " 37%|████████████████████████▉                                           | 367/1000 [02:18<03:55,  2.68it/s]"
     ]
    },
    {
     "name": "stderr",
     "output_type": "stream",
     "text": [
      "\r",
      " 37%|█████████████████████████                                           | 368/1000 [02:18<03:55,  2.68it/s]"
     ]
    },
    {
     "name": "stderr",
     "output_type": "stream",
     "text": [
      "\r",
      " 37%|█████████████████████████                                           | 369/1000 [02:19<03:54,  2.69it/s]"
     ]
    },
    {
     "name": "stderr",
     "output_type": "stream",
     "text": [
      "\r",
      " 37%|█████████████████████████▏                                          | 370/1000 [02:19<03:53,  2.70it/s]"
     ]
    },
    {
     "name": "stderr",
     "output_type": "stream",
     "text": [
      "\r",
      " 37%|█████████████████████████▏                                          | 371/1000 [02:19<03:54,  2.69it/s]"
     ]
    },
    {
     "name": "stderr",
     "output_type": "stream",
     "text": [
      "\r",
      " 37%|█████████████████████████▎                                          | 372/1000 [02:20<03:51,  2.71it/s]"
     ]
    },
    {
     "name": "stderr",
     "output_type": "stream",
     "text": [
      "\r",
      " 37%|█████████████████████████▎                                          | 373/1000 [02:20<03:49,  2.73it/s]"
     ]
    },
    {
     "name": "stderr",
     "output_type": "stream",
     "text": [
      "\r",
      " 37%|█████████████████████████▍                                          | 374/1000 [02:20<03:47,  2.75it/s]"
     ]
    },
    {
     "name": "stderr",
     "output_type": "stream",
     "text": [
      "\r",
      " 38%|█████████████████████████▌                                          | 375/1000 [02:21<03:45,  2.78it/s]"
     ]
    },
    {
     "name": "stderr",
     "output_type": "stream",
     "text": [
      "\r",
      " 38%|█████████████████████████▌                                          | 376/1000 [02:21<03:47,  2.74it/s]"
     ]
    },
    {
     "name": "stderr",
     "output_type": "stream",
     "text": [
      "\r",
      " 38%|█████████████████████████▋                                          | 377/1000 [02:21<03:48,  2.72it/s]"
     ]
    },
    {
     "name": "stderr",
     "output_type": "stream",
     "text": [
      "\r",
      " 38%|█████████████████████████▋                                          | 378/1000 [02:22<03:51,  2.68it/s]"
     ]
    },
    {
     "name": "stderr",
     "output_type": "stream",
     "text": [
      "\r",
      " 38%|█████████████████████████▊                                          | 379/1000 [02:22<03:50,  2.69it/s]"
     ]
    },
    {
     "name": "stderr",
     "output_type": "stream",
     "text": [
      "\r",
      " 38%|█████████████████████████▊                                          | 380/1000 [02:23<03:49,  2.71it/s]"
     ]
    },
    {
     "name": "stderr",
     "output_type": "stream",
     "text": [
      "\r",
      " 38%|█████████████████████████▉                                          | 381/1000 [02:23<03:49,  2.70it/s]"
     ]
    },
    {
     "name": "stderr",
     "output_type": "stream",
     "text": [
      "\r",
      " 38%|█████████████████████████▉                                          | 382/1000 [02:23<03:43,  2.76it/s]"
     ]
    },
    {
     "name": "stderr",
     "output_type": "stream",
     "text": [
      "\r",
      " 38%|██████████████████████████                                          | 383/1000 [02:24<03:50,  2.68it/s]"
     ]
    },
    {
     "name": "stderr",
     "output_type": "stream",
     "text": [
      "\r",
      " 38%|██████████████████████████                                          | 384/1000 [02:24<03:51,  2.66it/s]"
     ]
    },
    {
     "name": "stderr",
     "output_type": "stream",
     "text": [
      "\r",
      " 38%|██████████████████████████▏                                         | 385/1000 [02:24<03:48,  2.69it/s]"
     ]
    },
    {
     "name": "stderr",
     "output_type": "stream",
     "text": [
      "\r",
      " 39%|██████████████████████████▏                                         | 386/1000 [02:25<03:46,  2.71it/s]"
     ]
    },
    {
     "name": "stderr",
     "output_type": "stream",
     "text": [
      "\r",
      " 39%|██████████████████████████▎                                         | 387/1000 [02:25<03:45,  2.72it/s]"
     ]
    },
    {
     "name": "stderr",
     "output_type": "stream",
     "text": [
      "\r",
      " 39%|██████████████████████████▍                                         | 388/1000 [02:26<03:45,  2.72it/s]"
     ]
    },
    {
     "name": "stderr",
     "output_type": "stream",
     "text": [
      "\r",
      " 39%|██████████████████████████▍                                         | 389/1000 [02:26<03:48,  2.68it/s]"
     ]
    },
    {
     "name": "stderr",
     "output_type": "stream",
     "text": [
      "\r",
      " 39%|██████████████████████████▌                                         | 390/1000 [02:26<03:45,  2.71it/s]"
     ]
    },
    {
     "name": "stderr",
     "output_type": "stream",
     "text": [
      "\r",
      " 39%|██████████████████████████▌                                         | 391/1000 [02:27<03:43,  2.73it/s]"
     ]
    },
    {
     "name": "stderr",
     "output_type": "stream",
     "text": [
      "\r",
      " 39%|██████████████████████████▋                                         | 392/1000 [02:27<03:43,  2.72it/s]"
     ]
    },
    {
     "name": "stderr",
     "output_type": "stream",
     "text": [
      "\r",
      " 39%|██████████████████████████▋                                         | 393/1000 [02:27<03:40,  2.75it/s]"
     ]
    },
    {
     "name": "stderr",
     "output_type": "stream",
     "text": [
      "\r",
      " 39%|██████████████████████████▊                                         | 394/1000 [02:28<03:40,  2.75it/s]"
     ]
    },
    {
     "name": "stderr",
     "output_type": "stream",
     "text": [
      "\r",
      " 40%|██████████████████████████▊                                         | 395/1000 [02:28<03:37,  2.78it/s]"
     ]
    },
    {
     "name": "stderr",
     "output_type": "stream",
     "text": [
      "\r",
      " 40%|██████████████████████████▉                                         | 396/1000 [02:28<03:36,  2.78it/s]"
     ]
    },
    {
     "name": "stderr",
     "output_type": "stream",
     "text": [
      "\r",
      " 40%|██████████████████████████▉                                         | 397/1000 [02:29<03:44,  2.69it/s]"
     ]
    },
    {
     "name": "stderr",
     "output_type": "stream",
     "text": [
      "\r",
      " 40%|███████████████████████████                                         | 398/1000 [02:29<03:42,  2.71it/s]"
     ]
    },
    {
     "name": "stderr",
     "output_type": "stream",
     "text": [
      "\r",
      " 40%|███████████████████████████▏                                        | 399/1000 [02:30<03:36,  2.78it/s]"
     ]
    },
    {
     "name": "stderr",
     "output_type": "stream",
     "text": [
      "\r",
      " 40%|███████████████████████████▏                                        | 400/1000 [02:30<03:35,  2.78it/s]"
     ]
    },
    {
     "name": "stderr",
     "output_type": "stream",
     "text": [
      "\r",
      " 40%|███████████████████████████▎                                        | 401/1000 [02:30<03:30,  2.85it/s]"
     ]
    },
    {
     "name": "stderr",
     "output_type": "stream",
     "text": [
      "\r",
      " 40%|███████████████████████████▎                                        | 402/1000 [02:31<03:31,  2.83it/s]"
     ]
    },
    {
     "name": "stderr",
     "output_type": "stream",
     "text": [
      "\r",
      " 40%|███████████████████████████▍                                        | 403/1000 [02:31<03:36,  2.76it/s]"
     ]
    },
    {
     "name": "stderr",
     "output_type": "stream",
     "text": [
      "\r",
      " 40%|███████████████████████████▍                                        | 404/1000 [02:31<03:34,  2.78it/s]"
     ]
    },
    {
     "name": "stderr",
     "output_type": "stream",
     "text": [
      "\r",
      " 40%|███████████████████████████▌                                        | 405/1000 [02:32<03:34,  2.77it/s]"
     ]
    },
    {
     "name": "stderr",
     "output_type": "stream",
     "text": [
      "\r",
      " 41%|███████████████████████████▌                                        | 406/1000 [02:32<03:34,  2.77it/s]"
     ]
    },
    {
     "name": "stderr",
     "output_type": "stream",
     "text": [
      "\r",
      " 41%|███████████████████████████▋                                        | 407/1000 [02:32<03:31,  2.81it/s]"
     ]
    },
    {
     "name": "stderr",
     "output_type": "stream",
     "text": [
      "\r",
      " 41%|███████████████████████████▋                                        | 408/1000 [02:33<03:32,  2.79it/s]"
     ]
    },
    {
     "name": "stderr",
     "output_type": "stream",
     "text": [
      "\r",
      " 41%|███████████████████████████▊                                        | 409/1000 [02:33<03:36,  2.73it/s]"
     ]
    },
    {
     "name": "stderr",
     "output_type": "stream",
     "text": [
      "\r",
      " 41%|███████████████████████████▉                                        | 410/1000 [02:34<03:36,  2.73it/s]"
     ]
    },
    {
     "name": "stderr",
     "output_type": "stream",
     "text": [
      "\r",
      " 41%|███████████████████████████▉                                        | 411/1000 [02:34<03:39,  2.68it/s]"
     ]
    },
    {
     "name": "stderr",
     "output_type": "stream",
     "text": [
      "\r",
      " 41%|████████████████████████████                                        | 412/1000 [02:34<03:38,  2.69it/s]"
     ]
    },
    {
     "name": "stderr",
     "output_type": "stream",
     "text": [
      "\r",
      " 41%|████████████████████████████                                        | 413/1000 [02:35<03:36,  2.71it/s]"
     ]
    },
    {
     "name": "stderr",
     "output_type": "stream",
     "text": [
      "\r",
      " 41%|████████████████████████████▏                                       | 414/1000 [02:35<03:33,  2.74it/s]"
     ]
    },
    {
     "name": "stderr",
     "output_type": "stream",
     "text": [
      "\r",
      " 42%|████████████████████████████▏                                       | 415/1000 [02:35<03:31,  2.77it/s]"
     ]
    },
    {
     "name": "stderr",
     "output_type": "stream",
     "text": [
      "\r",
      " 42%|████████████████████████████▎                                       | 416/1000 [02:36<03:29,  2.79it/s]"
     ]
    },
    {
     "name": "stderr",
     "output_type": "stream",
     "text": [
      "\r",
      " 42%|████████████████████████████▎                                       | 417/1000 [02:36<03:28,  2.79it/s]"
     ]
    },
    {
     "name": "stderr",
     "output_type": "stream",
     "text": [
      "\r",
      " 42%|████████████████████████████▍                                       | 418/1000 [02:36<03:23,  2.85it/s]"
     ]
    },
    {
     "name": "stderr",
     "output_type": "stream",
     "text": [
      "\r",
      " 42%|████████████████████████████▍                                       | 419/1000 [02:37<03:27,  2.80it/s]"
     ]
    },
    {
     "name": "stderr",
     "output_type": "stream",
     "text": [
      "\r",
      " 42%|████████████████████████████▌                                       | 420/1000 [02:37<03:25,  2.82it/s]"
     ]
    },
    {
     "name": "stderr",
     "output_type": "stream",
     "text": [
      "\r",
      " 42%|████████████████████████████▋                                       | 421/1000 [02:37<03:22,  2.86it/s]"
     ]
    },
    {
     "name": "stderr",
     "output_type": "stream",
     "text": [
      "\r",
      " 42%|████████████████████████████▋                                       | 422/1000 [02:38<03:31,  2.74it/s]"
     ]
    },
    {
     "name": "stderr",
     "output_type": "stream",
     "text": [
      "\r",
      " 42%|████████████████████████████▊                                       | 423/1000 [02:38<03:29,  2.75it/s]"
     ]
    },
    {
     "name": "stderr",
     "output_type": "stream",
     "text": [
      "\r",
      " 42%|████████████████████████████▊                                       | 424/1000 [02:39<03:29,  2.74it/s]"
     ]
    },
    {
     "name": "stderr",
     "output_type": "stream",
     "text": [
      "\r",
      " 42%|████████████████████████████▉                                       | 425/1000 [02:39<03:28,  2.76it/s]"
     ]
    },
    {
     "name": "stderr",
     "output_type": "stream",
     "text": [
      "\r",
      " 43%|████████████████████████████▉                                       | 426/1000 [02:39<03:27,  2.76it/s]"
     ]
    },
    {
     "name": "stderr",
     "output_type": "stream",
     "text": [
      "\r",
      " 43%|█████████████████████████████                                       | 427/1000 [02:40<03:25,  2.78it/s]"
     ]
    },
    {
     "name": "stderr",
     "output_type": "stream",
     "text": [
      "\r",
      " 43%|█████████████████████████████                                       | 428/1000 [02:40<03:26,  2.77it/s]"
     ]
    },
    {
     "name": "stderr",
     "output_type": "stream",
     "text": [
      "\r",
      " 43%|█████████████████████████████▏                                      | 429/1000 [02:40<03:25,  2.77it/s]"
     ]
    },
    {
     "name": "stderr",
     "output_type": "stream",
     "text": [
      "\r",
      " 43%|█████████████████████████████▏                                      | 430/1000 [02:41<03:37,  2.62it/s]"
     ]
    },
    {
     "name": "stderr",
     "output_type": "stream",
     "text": [
      "\r",
      " 43%|█████████████████████████████▎                                      | 431/1000 [02:41<03:44,  2.54it/s]"
     ]
    },
    {
     "name": "stderr",
     "output_type": "stream",
     "text": [
      "\r",
      " 43%|█████████████████████████████▍                                      | 432/1000 [02:42<03:46,  2.51it/s]"
     ]
    },
    {
     "name": "stderr",
     "output_type": "stream",
     "text": [
      "\r",
      " 43%|█████████████████████████████▍                                      | 433/1000 [02:42<03:40,  2.57it/s]"
     ]
    },
    {
     "name": "stderr",
     "output_type": "stream",
     "text": [
      "\r",
      " 43%|█████████████████████████████▌                                      | 434/1000 [02:42<03:38,  2.59it/s]"
     ]
    },
    {
     "name": "stderr",
     "output_type": "stream",
     "text": [
      "\r",
      " 44%|█████████████████████████████▌                                      | 435/1000 [02:43<03:37,  2.59it/s]"
     ]
    },
    {
     "name": "stderr",
     "output_type": "stream",
     "text": [
      "\r",
      " 44%|█████████████████████████████▋                                      | 436/1000 [02:43<03:43,  2.52it/s]"
     ]
    },
    {
     "name": "stderr",
     "output_type": "stream",
     "text": [
      "\r",
      " 44%|█████████████████████████████▋                                      | 437/1000 [02:44<03:38,  2.58it/s]"
     ]
    },
    {
     "name": "stderr",
     "output_type": "stream",
     "text": [
      "\r",
      " 44%|█████████████████████████████▊                                      | 438/1000 [02:44<03:37,  2.58it/s]"
     ]
    },
    {
     "name": "stderr",
     "output_type": "stream",
     "text": [
      "\r",
      " 44%|█████████████████████████████▊                                      | 439/1000 [02:44<03:36,  2.59it/s]"
     ]
    },
    {
     "name": "stderr",
     "output_type": "stream",
     "text": [
      "\r",
      " 44%|█████████████████████████████▉                                      | 440/1000 [02:45<03:34,  2.61it/s]"
     ]
    },
    {
     "name": "stderr",
     "output_type": "stream",
     "text": [
      "\r",
      " 44%|█████████████████████████████▉                                      | 441/1000 [02:45<03:31,  2.64it/s]"
     ]
    },
    {
     "name": "stderr",
     "output_type": "stream",
     "text": [
      "\r",
      " 44%|██████████████████████████████                                      | 442/1000 [02:45<03:28,  2.67it/s]"
     ]
    },
    {
     "name": "stderr",
     "output_type": "stream",
     "text": [
      "\r",
      " 44%|██████████████████████████████                                      | 443/1000 [02:46<03:25,  2.71it/s]"
     ]
    },
    {
     "name": "stderr",
     "output_type": "stream",
     "text": [
      "\r",
      " 44%|██████████████████████████████▏                                     | 444/1000 [02:46<03:25,  2.71it/s]"
     ]
    },
    {
     "name": "stderr",
     "output_type": "stream",
     "text": [
      "\r",
      " 44%|██████████████████████████████▎                                     | 445/1000 [02:47<03:24,  2.72it/s]"
     ]
    },
    {
     "name": "stderr",
     "output_type": "stream",
     "text": [
      "\r",
      " 45%|██████████████████████████████▎                                     | 446/1000 [02:47<03:24,  2.71it/s]"
     ]
    },
    {
     "name": "stderr",
     "output_type": "stream",
     "text": [
      "\r",
      " 45%|██████████████████████████████▍                                     | 447/1000 [02:47<03:28,  2.65it/s]"
     ]
    },
    {
     "name": "stderr",
     "output_type": "stream",
     "text": [
      "\r",
      " 45%|██████████████████████████████▍                                     | 448/1000 [02:48<03:24,  2.70it/s]"
     ]
    },
    {
     "name": "stderr",
     "output_type": "stream",
     "text": [
      "\r",
      " 45%|██████████████████████████████▌                                     | 449/1000 [02:48<03:23,  2.71it/s]"
     ]
    },
    {
     "name": "stderr",
     "output_type": "stream",
     "text": [
      "\r",
      " 45%|██████████████████████████████▌                                     | 450/1000 [02:48<03:20,  2.74it/s]"
     ]
    },
    {
     "name": "stderr",
     "output_type": "stream",
     "text": [
      "\r",
      " 45%|██████████████████████████████▋                                     | 451/1000 [02:49<03:21,  2.73it/s]"
     ]
    },
    {
     "name": "stderr",
     "output_type": "stream",
     "text": [
      "\r",
      " 45%|██████████████████████████████▋                                     | 452/1000 [02:49<03:19,  2.75it/s]"
     ]
    },
    {
     "name": "stderr",
     "output_type": "stream",
     "text": [
      "\r",
      " 45%|██████████████████████████████▊                                     | 453/1000 [02:49<03:19,  2.74it/s]"
     ]
    },
    {
     "name": "stderr",
     "output_type": "stream",
     "text": [
      "\r",
      " 45%|██████████████████████████████▊                                     | 454/1000 [02:50<03:18,  2.76it/s]"
     ]
    },
    {
     "name": "stderr",
     "output_type": "stream",
     "text": [
      "\r",
      " 46%|██████████████████████████████▉                                     | 455/1000 [02:50<03:19,  2.73it/s]"
     ]
    },
    {
     "name": "stderr",
     "output_type": "stream",
     "text": [
      "\r",
      " 46%|███████████████████████████████                                     | 456/1000 [02:51<03:21,  2.70it/s]"
     ]
    },
    {
     "name": "stderr",
     "output_type": "stream",
     "text": [
      "\r",
      " 46%|███████████████████████████████                                     | 457/1000 [02:51<03:19,  2.72it/s]"
     ]
    },
    {
     "name": "stderr",
     "output_type": "stream",
     "text": [
      "\r",
      " 46%|███████████████████████████████▏                                    | 458/1000 [02:51<03:13,  2.80it/s]"
     ]
    },
    {
     "name": "stderr",
     "output_type": "stream",
     "text": [
      "\r",
      " 46%|███████████████████████████████▏                                    | 459/1000 [02:52<03:12,  2.81it/s]"
     ]
    },
    {
     "name": "stderr",
     "output_type": "stream",
     "text": [
      "\r",
      " 46%|███████████████████████████████▎                                    | 460/1000 [02:52<03:15,  2.76it/s]"
     ]
    },
    {
     "name": "stderr",
     "output_type": "stream",
     "text": [
      "\r",
      " 46%|███████████████████████████████▎                                    | 461/1000 [02:52<03:20,  2.69it/s]"
     ]
    },
    {
     "name": "stderr",
     "output_type": "stream",
     "text": [
      "\r",
      " 46%|███████████████████████████████▍                                    | 462/1000 [02:53<03:17,  2.72it/s]"
     ]
    },
    {
     "name": "stderr",
     "output_type": "stream",
     "text": [
      "\r",
      " 46%|███████████████████████████████▍                                    | 463/1000 [02:53<03:18,  2.71it/s]"
     ]
    },
    {
     "name": "stderr",
     "output_type": "stream",
     "text": [
      "\r",
      " 46%|███████████████████████████████▌                                    | 464/1000 [02:54<03:19,  2.69it/s]"
     ]
    },
    {
     "name": "stderr",
     "output_type": "stream",
     "text": [
      "\r",
      " 46%|███████████████████████████████▌                                    | 465/1000 [02:54<03:15,  2.74it/s]"
     ]
    },
    {
     "name": "stderr",
     "output_type": "stream",
     "text": [
      "\r",
      " 47%|███████████████████████████████▋                                    | 466/1000 [02:54<03:18,  2.69it/s]"
     ]
    },
    {
     "name": "stderr",
     "output_type": "stream",
     "text": [
      "\r",
      " 47%|███████████████████████████████▊                                    | 467/1000 [02:55<03:15,  2.72it/s]"
     ]
    },
    {
     "name": "stderr",
     "output_type": "stream",
     "text": [
      "\r",
      " 47%|███████████████████████████████▊                                    | 468/1000 [02:55<03:16,  2.71it/s]"
     ]
    },
    {
     "name": "stderr",
     "output_type": "stream",
     "text": [
      "\r",
      " 47%|███████████████████████████████▉                                    | 469/1000 [02:55<03:14,  2.73it/s]"
     ]
    },
    {
     "name": "stderr",
     "output_type": "stream",
     "text": [
      "\r",
      " 47%|███████████████████████████████▉                                    | 470/1000 [02:56<03:15,  2.71it/s]"
     ]
    },
    {
     "name": "stderr",
     "output_type": "stream",
     "text": [
      "\r",
      " 47%|████████████████████████████████                                    | 471/1000 [02:56<03:14,  2.71it/s]"
     ]
    },
    {
     "name": "stderr",
     "output_type": "stream",
     "text": [
      "\r",
      " 47%|████████████████████████████████                                    | 472/1000 [02:56<03:10,  2.77it/s]"
     ]
    },
    {
     "name": "stderr",
     "output_type": "stream",
     "text": [
      "\r",
      " 47%|████████████████████████████████▏                                   | 473/1000 [02:57<03:09,  2.78it/s]"
     ]
    },
    {
     "name": "stderr",
     "output_type": "stream",
     "text": [
      "\r",
      " 47%|████████████████████████████████▏                                   | 474/1000 [02:57<03:09,  2.77it/s]"
     ]
    },
    {
     "name": "stderr",
     "output_type": "stream",
     "text": [
      "\r",
      " 48%|████████████████████████████████▎                                   | 475/1000 [02:58<03:14,  2.70it/s]"
     ]
    },
    {
     "name": "stderr",
     "output_type": "stream",
     "text": [
      "\r",
      " 48%|████████████████████████████████▎                                   | 476/1000 [02:58<03:11,  2.74it/s]"
     ]
    },
    {
     "name": "stderr",
     "output_type": "stream",
     "text": [
      "\r",
      " 48%|████████████████████████████████▍                                   | 477/1000 [02:58<03:09,  2.75it/s]"
     ]
    },
    {
     "name": "stderr",
     "output_type": "stream",
     "text": [
      "\r",
      " 48%|████████████████████████████████▌                                   | 478/1000 [02:59<03:12,  2.71it/s]"
     ]
    },
    {
     "name": "stderr",
     "output_type": "stream",
     "text": [
      "\r",
      " 48%|████████████████████████████████▌                                   | 479/1000 [02:59<03:13,  2.70it/s]"
     ]
    },
    {
     "name": "stderr",
     "output_type": "stream",
     "text": [
      "\r",
      " 48%|████████████████████████████████▋                                   | 480/1000 [02:59<03:11,  2.71it/s]"
     ]
    },
    {
     "name": "stderr",
     "output_type": "stream",
     "text": [
      "\r",
      " 48%|████████████████████████████████▋                                   | 481/1000 [03:00<03:15,  2.65it/s]"
     ]
    },
    {
     "name": "stderr",
     "output_type": "stream",
     "text": [
      "\r",
      " 48%|████████████████████████████████▊                                   | 482/1000 [03:00<03:26,  2.51it/s]"
     ]
    },
    {
     "name": "stderr",
     "output_type": "stream",
     "text": [
      "\r",
      " 48%|████████████████████████████████▊                                   | 483/1000 [03:01<03:33,  2.42it/s]"
     ]
    },
    {
     "name": "stderr",
     "output_type": "stream",
     "text": [
      "\r",
      " 48%|████████████████████████████████▉                                   | 484/1000 [03:01<03:39,  2.35it/s]"
     ]
    },
    {
     "name": "stderr",
     "output_type": "stream",
     "text": [
      "\r",
      " 48%|████████████████████████████████▉                                   | 485/1000 [03:02<03:36,  2.38it/s]"
     ]
    },
    {
     "name": "stderr",
     "output_type": "stream",
     "text": [
      "\r",
      " 49%|█████████████████████████████████                                   | 486/1000 [03:02<03:27,  2.48it/s]"
     ]
    },
    {
     "name": "stderr",
     "output_type": "stream",
     "text": [
      "\r",
      " 49%|█████████████████████████████████                                   | 487/1000 [03:02<03:19,  2.58it/s]"
     ]
    },
    {
     "name": "stderr",
     "output_type": "stream",
     "text": [
      "\r",
      " 49%|█████████████████████████████████▏                                  | 488/1000 [03:03<03:16,  2.61it/s]"
     ]
    },
    {
     "name": "stderr",
     "output_type": "stream",
     "text": [
      "\r",
      " 49%|█████████████████████████████████▎                                  | 489/1000 [03:03<03:11,  2.66it/s]"
     ]
    },
    {
     "name": "stderr",
     "output_type": "stream",
     "text": [
      "\r",
      " 49%|█████████████████████████████████▎                                  | 490/1000 [03:03<03:10,  2.68it/s]"
     ]
    },
    {
     "name": "stderr",
     "output_type": "stream",
     "text": [
      "\r",
      " 49%|█████████████████████████████████▍                                  | 491/1000 [03:04<03:10,  2.68it/s]"
     ]
    },
    {
     "name": "stderr",
     "output_type": "stream",
     "text": [
      "\r",
      " 49%|█████████████████████████████████▍                                  | 492/1000 [03:04<03:09,  2.68it/s]"
     ]
    },
    {
     "name": "stderr",
     "output_type": "stream",
     "text": [
      "\r",
      " 49%|█████████████████████████████████▌                                  | 493/1000 [03:05<03:17,  2.56it/s]"
     ]
    },
    {
     "name": "stderr",
     "output_type": "stream",
     "text": [
      "\r",
      " 49%|█████████████████████████████████▌                                  | 494/1000 [03:05<03:13,  2.62it/s]"
     ]
    },
    {
     "name": "stderr",
     "output_type": "stream",
     "text": [
      "\r",
      " 50%|█████████████████████████████████▋                                  | 495/1000 [03:05<03:11,  2.64it/s]"
     ]
    },
    {
     "name": "stderr",
     "output_type": "stream",
     "text": [
      "\r",
      " 50%|█████████████████████████████████▋                                  | 496/1000 [03:06<03:08,  2.67it/s]"
     ]
    },
    {
     "name": "stderr",
     "output_type": "stream",
     "text": [
      "\r",
      " 50%|█████████████████████████████████▊                                  | 497/1000 [03:06<03:09,  2.66it/s]"
     ]
    },
    {
     "name": "stderr",
     "output_type": "stream",
     "text": [
      "\r",
      " 50%|█████████████████████████████████▊                                  | 498/1000 [03:06<03:05,  2.71it/s]"
     ]
    },
    {
     "name": "stderr",
     "output_type": "stream",
     "text": [
      "\r",
      " 50%|█████████████████████████████████▉                                  | 499/1000 [03:07<03:02,  2.75it/s]"
     ]
    },
    {
     "name": "stderr",
     "output_type": "stream",
     "text": [
      "\r",
      " 50%|██████████████████████████████████                                  | 500/1000 [03:07<03:02,  2.74it/s]"
     ]
    },
    {
     "name": "stderr",
     "output_type": "stream",
     "text": [
      "\r",
      " 50%|██████████████████████████████████                                  | 501/1000 [03:07<02:58,  2.80it/s]"
     ]
    },
    {
     "name": "stderr",
     "output_type": "stream",
     "text": [
      "\r",
      " 50%|██████████████████████████████████▏                                 | 502/1000 [03:08<02:59,  2.77it/s]"
     ]
    },
    {
     "name": "stderr",
     "output_type": "stream",
     "text": [
      "\r",
      " 50%|██████████████████████████████████▏                                 | 503/1000 [03:08<03:06,  2.66it/s]"
     ]
    },
    {
     "name": "stderr",
     "output_type": "stream",
     "text": [
      "\r",
      " 50%|██████████████████████████████████▎                                 | 504/1000 [03:09<03:03,  2.71it/s]"
     ]
    },
    {
     "name": "stderr",
     "output_type": "stream",
     "text": [
      "\r",
      " 50%|██████████████████████████████████▎                                 | 505/1000 [03:09<02:58,  2.77it/s]"
     ]
    },
    {
     "name": "stderr",
     "output_type": "stream",
     "text": [
      "\r",
      " 51%|██████████████████████████████████▍                                 | 506/1000 [03:09<02:58,  2.76it/s]"
     ]
    },
    {
     "name": "stderr",
     "output_type": "stream",
     "text": [
      "\r",
      " 51%|██████████████████████████████████▍                                 | 507/1000 [03:10<02:58,  2.77it/s]"
     ]
    },
    {
     "name": "stderr",
     "output_type": "stream",
     "text": [
      "\r",
      " 51%|██████████████████████████████████▌                                 | 508/1000 [03:10<02:58,  2.76it/s]"
     ]
    },
    {
     "name": "stderr",
     "output_type": "stream",
     "text": [
      "\r",
      " 51%|██████████████████████████████████▌                                 | 509/1000 [03:10<02:54,  2.81it/s]"
     ]
    },
    {
     "name": "stderr",
     "output_type": "stream",
     "text": [
      "\r",
      " 51%|██████████████████████████████████▋                                 | 510/1000 [03:11<02:57,  2.76it/s]"
     ]
    },
    {
     "name": "stderr",
     "output_type": "stream",
     "text": [
      "\r",
      " 51%|██████████████████████████████████▋                                 | 511/1000 [03:11<02:59,  2.73it/s]"
     ]
    },
    {
     "name": "stderr",
     "output_type": "stream",
     "text": [
      "\r",
      " 51%|██████████████████████████████████▊                                 | 512/1000 [03:11<03:00,  2.71it/s]"
     ]
    },
    {
     "name": "stderr",
     "output_type": "stream",
     "text": [
      "\r",
      " 51%|██████████████████████████████████▉                                 | 513/1000 [03:12<02:57,  2.74it/s]"
     ]
    },
    {
     "name": "stderr",
     "output_type": "stream",
     "text": [
      "\r",
      " 51%|██████████████████████████████████▉                                 | 514/1000 [03:12<02:56,  2.75it/s]"
     ]
    },
    {
     "name": "stderr",
     "output_type": "stream",
     "text": [
      "\r",
      " 52%|███████████████████████████████████                                 | 515/1000 [03:13<02:54,  2.78it/s]"
     ]
    },
    {
     "name": "stderr",
     "output_type": "stream",
     "text": [
      "\r",
      " 52%|███████████████████████████████████                                 | 516/1000 [03:13<02:52,  2.81it/s]"
     ]
    },
    {
     "name": "stderr",
     "output_type": "stream",
     "text": [
      "\r",
      " 52%|███████████████████████████████████▏                                | 517/1000 [03:13<02:56,  2.74it/s]"
     ]
    },
    {
     "name": "stderr",
     "output_type": "stream",
     "text": [
      "\r",
      " 52%|███████████████████████████████████▏                                | 518/1000 [03:14<02:55,  2.75it/s]"
     ]
    },
    {
     "name": "stderr",
     "output_type": "stream",
     "text": [
      "\r",
      " 52%|███████████████████████████████████▎                                | 519/1000 [03:14<02:54,  2.76it/s]"
     ]
    },
    {
     "name": "stderr",
     "output_type": "stream",
     "text": [
      "\r",
      " 52%|███████████████████████████████████▎                                | 520/1000 [03:14<02:56,  2.72it/s]"
     ]
    },
    {
     "name": "stderr",
     "output_type": "stream",
     "text": [
      "\r",
      " 52%|███████████████████████████████████▍                                | 521/1000 [03:15<02:57,  2.70it/s]"
     ]
    },
    {
     "name": "stderr",
     "output_type": "stream",
     "text": [
      "\r",
      " 52%|███████████████████████████████████▍                                | 522/1000 [03:15<02:58,  2.68it/s]"
     ]
    },
    {
     "name": "stderr",
     "output_type": "stream",
     "text": [
      "\r",
      " 52%|███████████████████████████████████▌                                | 523/1000 [03:15<02:57,  2.69it/s]"
     ]
    },
    {
     "name": "stderr",
     "output_type": "stream",
     "text": [
      "\r",
      " 52%|███████████████████████████████████▋                                | 524/1000 [03:16<02:55,  2.72it/s]"
     ]
    },
    {
     "name": "stderr",
     "output_type": "stream",
     "text": [
      "\r",
      " 52%|███████████████████████████████████▋                                | 525/1000 [03:16<02:51,  2.76it/s]"
     ]
    },
    {
     "name": "stderr",
     "output_type": "stream",
     "text": [
      "\r",
      " 53%|███████████████████████████████████▊                                | 526/1000 [03:17<02:53,  2.73it/s]"
     ]
    },
    {
     "name": "stderr",
     "output_type": "stream",
     "text": [
      "\r",
      " 53%|███████████████████████████████████▊                                | 527/1000 [03:17<03:00,  2.62it/s]"
     ]
    },
    {
     "name": "stderr",
     "output_type": "stream",
     "text": [
      "\r",
      " 53%|███████████████████████████████████▉                                | 528/1000 [03:17<02:57,  2.66it/s]"
     ]
    },
    {
     "name": "stderr",
     "output_type": "stream",
     "text": [
      "\r",
      " 53%|███████████████████████████████████▉                                | 529/1000 [03:18<02:58,  2.64it/s]"
     ]
    },
    {
     "name": "stderr",
     "output_type": "stream",
     "text": [
      "\r",
      " 53%|████████████████████████████████████                                | 530/1000 [03:18<02:56,  2.66it/s]"
     ]
    },
    {
     "name": "stderr",
     "output_type": "stream",
     "text": [
      "\r",
      " 53%|████████████████████████████████████                                | 531/1000 [03:18<02:57,  2.64it/s]"
     ]
    },
    {
     "name": "stderr",
     "output_type": "stream",
     "text": [
      "\r",
      " 53%|████████████████████████████████████▏                               | 532/1000 [03:19<02:59,  2.61it/s]"
     ]
    },
    {
     "name": "stderr",
     "output_type": "stream",
     "text": [
      "\r",
      " 53%|████████████████████████████████████▏                               | 533/1000 [03:19<03:00,  2.59it/s]"
     ]
    },
    {
     "name": "stderr",
     "output_type": "stream",
     "text": [
      "\r",
      " 53%|████████████████████████████████████▎                               | 534/1000 [03:20<02:57,  2.62it/s]"
     ]
    },
    {
     "name": "stderr",
     "output_type": "stream",
     "text": [
      "\r",
      " 54%|████████████████████████████████████▍                               | 535/1000 [03:20<02:56,  2.63it/s]"
     ]
    },
    {
     "name": "stderr",
     "output_type": "stream",
     "text": [
      "\r",
      " 54%|████████████████████████████████████▍                               | 536/1000 [03:20<02:52,  2.70it/s]"
     ]
    },
    {
     "name": "stderr",
     "output_type": "stream",
     "text": [
      "\r",
      " 54%|████████████████████████████████████▌                               | 537/1000 [03:21<02:52,  2.69it/s]"
     ]
    },
    {
     "name": "stderr",
     "output_type": "stream",
     "text": [
      "\r",
      " 54%|████████████████████████████████████▌                               | 538/1000 [03:21<02:51,  2.69it/s]"
     ]
    },
    {
     "name": "stderr",
     "output_type": "stream",
     "text": [
      "\r",
      " 54%|████████████████████████████████████▋                               | 539/1000 [03:21<02:50,  2.71it/s]"
     ]
    },
    {
     "name": "stderr",
     "output_type": "stream",
     "text": [
      "\r",
      " 54%|████████████████████████████████████▋                               | 540/1000 [03:22<02:48,  2.73it/s]"
     ]
    },
    {
     "name": "stderr",
     "output_type": "stream",
     "text": [
      "\r",
      " 54%|████████████████████████████████████▊                               | 541/1000 [03:22<02:49,  2.71it/s]"
     ]
    },
    {
     "name": "stderr",
     "output_type": "stream",
     "text": [
      "\r",
      " 54%|████████████████████████████████████▊                               | 542/1000 [03:23<02:47,  2.73it/s]"
     ]
    },
    {
     "name": "stderr",
     "output_type": "stream",
     "text": [
      "\r",
      " 54%|████████████████████████████████████▉                               | 543/1000 [03:23<02:49,  2.70it/s]"
     ]
    },
    {
     "name": "stderr",
     "output_type": "stream",
     "text": [
      "\r",
      " 54%|████████████████████████████████████▉                               | 544/1000 [03:23<02:47,  2.73it/s]"
     ]
    },
    {
     "name": "stderr",
     "output_type": "stream",
     "text": [
      "\r",
      " 55%|█████████████████████████████████████                               | 545/1000 [03:24<02:49,  2.68it/s]"
     ]
    },
    {
     "name": "stderr",
     "output_type": "stream",
     "text": [
      "\r",
      " 55%|█████████████████████████████████████▏                              | 546/1000 [03:24<02:50,  2.66it/s]"
     ]
    },
    {
     "name": "stderr",
     "output_type": "stream",
     "text": [
      "\r",
      " 55%|█████████████████████████████████████▏                              | 547/1000 [03:24<02:51,  2.64it/s]"
     ]
    },
    {
     "name": "stderr",
     "output_type": "stream",
     "text": [
      "\r",
      " 55%|█████████████████████████████████████▎                              | 548/1000 [03:25<02:52,  2.63it/s]"
     ]
    },
    {
     "name": "stderr",
     "output_type": "stream",
     "text": [
      "\r",
      " 55%|█████████████████████████████████████▎                              | 549/1000 [03:25<02:50,  2.65it/s]"
     ]
    },
    {
     "name": "stderr",
     "output_type": "stream",
     "text": [
      "\r",
      " 55%|█████████████████████████████████████▍                              | 550/1000 [03:26<02:49,  2.65it/s]"
     ]
    },
    {
     "name": "stderr",
     "output_type": "stream",
     "text": [
      "\r",
      " 55%|█████████████████████████████████████▍                              | 551/1000 [03:26<02:48,  2.67it/s]"
     ]
    },
    {
     "name": "stderr",
     "output_type": "stream",
     "text": [
      "\r",
      " 55%|█████████████████████████████████████▌                              | 552/1000 [03:26<02:42,  2.75it/s]"
     ]
    },
    {
     "name": "stderr",
     "output_type": "stream",
     "text": [
      "\r",
      " 55%|█████████████████████████████████████▌                              | 553/1000 [03:27<02:41,  2.77it/s]"
     ]
    },
    {
     "name": "stderr",
     "output_type": "stream",
     "text": [
      "\r",
      " 55%|█████████████████████████████████████▋                              | 554/1000 [03:27<02:40,  2.77it/s]"
     ]
    },
    {
     "name": "stderr",
     "output_type": "stream",
     "text": [
      "\r",
      " 56%|█████████████████████████████████████▋                              | 555/1000 [03:27<02:39,  2.80it/s]"
     ]
    },
    {
     "name": "stderr",
     "output_type": "stream",
     "text": [
      "\r",
      " 56%|█████████████████████████████████████▊                              | 556/1000 [03:28<02:41,  2.76it/s]"
     ]
    },
    {
     "name": "stderr",
     "output_type": "stream",
     "text": [
      "\r",
      " 56%|█████████████████████████████████████▉                              | 557/1000 [03:28<02:42,  2.72it/s]"
     ]
    },
    {
     "name": "stderr",
     "output_type": "stream",
     "text": [
      "\r",
      " 56%|█████████████████████████████████████▉                              | 558/1000 [03:28<02:39,  2.78it/s]"
     ]
    },
    {
     "name": "stderr",
     "output_type": "stream",
     "text": [
      "\r",
      " 56%|██████████████████████████████████████                              | 559/1000 [03:29<02:38,  2.79it/s]"
     ]
    },
    {
     "name": "stderr",
     "output_type": "stream",
     "text": [
      "\r",
      " 56%|██████████████████████████████████████                              | 560/1000 [03:29<02:38,  2.78it/s]"
     ]
    },
    {
     "name": "stderr",
     "output_type": "stream",
     "text": [
      "\r",
      " 56%|██████████████████████████████████████▏                             | 561/1000 [03:30<02:38,  2.76it/s]"
     ]
    },
    {
     "name": "stderr",
     "output_type": "stream",
     "text": [
      "\r",
      " 56%|██████████████████████████████████████▏                             | 562/1000 [03:30<02:36,  2.79it/s]"
     ]
    },
    {
     "name": "stderr",
     "output_type": "stream",
     "text": [
      "\r",
      " 56%|██████████████████████████████████████▎                             | 563/1000 [03:30<02:33,  2.85it/s]"
     ]
    },
    {
     "name": "stderr",
     "output_type": "stream",
     "text": [
      "\r",
      " 56%|██████████████████████████████████████▎                             | 564/1000 [03:31<02:34,  2.82it/s]"
     ]
    },
    {
     "name": "stderr",
     "output_type": "stream",
     "text": [
      "\r",
      " 56%|██████████████████████████████████████▍                             | 565/1000 [03:31<02:35,  2.80it/s]"
     ]
    },
    {
     "name": "stderr",
     "output_type": "stream",
     "text": [
      "\r",
      " 57%|██████████████████████████████████████▍                             | 566/1000 [03:31<02:34,  2.81it/s]"
     ]
    },
    {
     "name": "stderr",
     "output_type": "stream",
     "text": [
      "\r",
      " 57%|██████████████████████████████████████▌                             | 567/1000 [03:32<02:36,  2.76it/s]"
     ]
    },
    {
     "name": "stderr",
     "output_type": "stream",
     "text": [
      "\r",
      " 57%|██████████████████████████████████████▌                             | 568/1000 [03:32<02:36,  2.76it/s]"
     ]
    },
    {
     "name": "stderr",
     "output_type": "stream",
     "text": [
      "\r",
      " 57%|██████████████████████████████████████▋                             | 569/1000 [03:32<02:36,  2.76it/s]"
     ]
    },
    {
     "name": "stderr",
     "output_type": "stream",
     "text": [
      "\r",
      " 57%|██████████████████████████████████████▊                             | 570/1000 [03:33<02:35,  2.77it/s]"
     ]
    },
    {
     "name": "stderr",
     "output_type": "stream",
     "text": [
      "\r",
      " 57%|██████████████████████████████████████▊                             | 571/1000 [03:33<02:32,  2.82it/s]"
     ]
    },
    {
     "name": "stderr",
     "output_type": "stream",
     "text": [
      "\r",
      " 57%|██████████████████████████████████████▉                             | 572/1000 [03:33<02:31,  2.82it/s]"
     ]
    },
    {
     "name": "stderr",
     "output_type": "stream",
     "text": [
      "\r",
      " 57%|██████████████████████████████████████▉                             | 573/1000 [03:34<02:30,  2.85it/s]"
     ]
    },
    {
     "name": "stderr",
     "output_type": "stream",
     "text": [
      "\r",
      " 57%|███████████████████████████████████████                             | 574/1000 [03:34<02:32,  2.80it/s]"
     ]
    },
    {
     "name": "stderr",
     "output_type": "stream",
     "text": [
      "\r",
      " 57%|███████████████████████████████████████                             | 575/1000 [03:35<02:38,  2.68it/s]"
     ]
    },
    {
     "name": "stderr",
     "output_type": "stream",
     "text": [
      "\r",
      " 58%|███████████████████████████████████████▏                            | 576/1000 [03:35<02:41,  2.62it/s]"
     ]
    },
    {
     "name": "stderr",
     "output_type": "stream",
     "text": [
      "\r",
      " 58%|███████████████████████████████████████▏                            | 577/1000 [03:35<02:38,  2.68it/s]"
     ]
    },
    {
     "name": "stderr",
     "output_type": "stream",
     "text": [
      "\r",
      " 58%|███████████████████████████████████████▎                            | 578/1000 [03:36<02:39,  2.65it/s]"
     ]
    },
    {
     "name": "stderr",
     "output_type": "stream",
     "text": [
      "\r",
      " 58%|███████████████████████████████████████▎                            | 579/1000 [03:36<02:37,  2.67it/s]"
     ]
    },
    {
     "name": "stderr",
     "output_type": "stream",
     "text": [
      "\r",
      " 58%|███████████████████████████████████████▍                            | 580/1000 [03:36<02:36,  2.69it/s]"
     ]
    },
    {
     "name": "stderr",
     "output_type": "stream",
     "text": [
      "\r",
      " 58%|███████████████████████████████████████▌                            | 581/1000 [03:37<02:33,  2.73it/s]"
     ]
    },
    {
     "name": "stderr",
     "output_type": "stream",
     "text": [
      "\r",
      " 58%|███████████████████████████████████████▌                            | 582/1000 [03:37<02:33,  2.73it/s]"
     ]
    },
    {
     "name": "stderr",
     "output_type": "stream",
     "text": [
      "\r",
      " 58%|███████████████████████████████████████▋                            | 583/1000 [03:38<02:31,  2.75it/s]"
     ]
    },
    {
     "name": "stderr",
     "output_type": "stream",
     "text": [
      "\r",
      " 58%|███████████████████████████████████████▋                            | 584/1000 [03:38<02:27,  2.83it/s]"
     ]
    },
    {
     "name": "stderr",
     "output_type": "stream",
     "text": [
      "\r",
      " 58%|███████████████████████████████████████▊                            | 585/1000 [03:38<02:28,  2.80it/s]"
     ]
    },
    {
     "name": "stderr",
     "output_type": "stream",
     "text": [
      "\r",
      " 59%|███████████████████████████████████████▊                            | 586/1000 [03:39<02:28,  2.79it/s]"
     ]
    },
    {
     "name": "stderr",
     "output_type": "stream",
     "text": [
      "\r",
      " 59%|███████████████████████████████████████▉                            | 587/1000 [03:39<02:28,  2.78it/s]"
     ]
    },
    {
     "name": "stderr",
     "output_type": "stream",
     "text": [
      "\r",
      " 59%|███████████████████████████████████████▉                            | 588/1000 [03:39<02:29,  2.76it/s]"
     ]
    },
    {
     "name": "stderr",
     "output_type": "stream",
     "text": [
      "\r",
      " 59%|████████████████████████████████████████                            | 589/1000 [03:40<02:32,  2.69it/s]"
     ]
    },
    {
     "name": "stderr",
     "output_type": "stream",
     "text": [
      "\r",
      " 59%|████████████████████████████████████████                            | 590/1000 [03:40<02:30,  2.72it/s]"
     ]
    },
    {
     "name": "stderr",
     "output_type": "stream",
     "text": [
      "\r",
      " 59%|████████████████████████████████████████▏                           | 591/1000 [03:40<02:28,  2.75it/s]"
     ]
    },
    {
     "name": "stderr",
     "output_type": "stream",
     "text": [
      "\r",
      " 59%|████████████████████████████████████████▎                           | 592/1000 [03:41<02:27,  2.76it/s]"
     ]
    },
    {
     "name": "stderr",
     "output_type": "stream",
     "text": [
      "\r",
      " 59%|████████████████████████████████████████▎                           | 593/1000 [03:41<02:28,  2.74it/s]"
     ]
    },
    {
     "name": "stderr",
     "output_type": "stream",
     "text": [
      "\r",
      " 59%|████████████████████████████████████████▍                           | 594/1000 [03:42<02:28,  2.73it/s]"
     ]
    },
    {
     "name": "stderr",
     "output_type": "stream",
     "text": [
      "\r",
      " 60%|████████████████████████████████████████▍                           | 595/1000 [03:42<02:32,  2.66it/s]"
     ]
    },
    {
     "name": "stderr",
     "output_type": "stream",
     "text": [
      "\r",
      " 60%|████████████████████████████████████████▌                           | 596/1000 [03:42<02:35,  2.60it/s]"
     ]
    },
    {
     "name": "stderr",
     "output_type": "stream",
     "text": [
      "\r",
      " 60%|████████████████████████████████████████▌                           | 597/1000 [03:43<02:41,  2.50it/s]"
     ]
    },
    {
     "name": "stderr",
     "output_type": "stream",
     "text": [
      "\r",
      " 60%|████████████████████████████████████████▋                           | 598/1000 [03:43<02:36,  2.57it/s]"
     ]
    },
    {
     "name": "stderr",
     "output_type": "stream",
     "text": [
      "\r",
      " 60%|████████████████████████████████████████▋                           | 599/1000 [03:43<02:31,  2.64it/s]"
     ]
    },
    {
     "name": "stderr",
     "output_type": "stream",
     "text": [
      "\r",
      " 60%|████████████████████████████████████████▊                           | 600/1000 [03:44<02:27,  2.70it/s]"
     ]
    },
    {
     "name": "stderr",
     "output_type": "stream",
     "text": [
      "\r",
      " 60%|████████████████████████████████████████▊                           | 601/1000 [03:44<02:23,  2.78it/s]"
     ]
    },
    {
     "name": "stderr",
     "output_type": "stream",
     "text": [
      "\r",
      " 60%|████████████████████████████████████████▉                           | 602/1000 [03:45<02:23,  2.77it/s]"
     ]
    },
    {
     "name": "stderr",
     "output_type": "stream",
     "text": [
      "\r",
      " 60%|█████████████████████████████████████████                           | 603/1000 [03:45<02:25,  2.72it/s]"
     ]
    },
    {
     "name": "stderr",
     "output_type": "stream",
     "text": [
      "\r",
      " 60%|█████████████████████████████████████████                           | 604/1000 [03:45<02:26,  2.70it/s]"
     ]
    },
    {
     "name": "stderr",
     "output_type": "stream",
     "text": [
      "\r",
      " 60%|█████████████████████████████████████████▏                          | 605/1000 [03:46<02:24,  2.73it/s]"
     ]
    },
    {
     "name": "stderr",
     "output_type": "stream",
     "text": [
      "\r",
      " 61%|█████████████████████████████████████████▏                          | 606/1000 [03:46<02:25,  2.71it/s]"
     ]
    },
    {
     "name": "stderr",
     "output_type": "stream",
     "text": [
      "\r",
      " 61%|█████████████████████████████████████████▎                          | 607/1000 [03:46<02:24,  2.72it/s]"
     ]
    },
    {
     "name": "stderr",
     "output_type": "stream",
     "text": [
      "\r",
      " 61%|█████████████████████████████████████████▎                          | 608/1000 [03:47<02:24,  2.72it/s]"
     ]
    },
    {
     "name": "stderr",
     "output_type": "stream",
     "text": [
      "\r",
      " 61%|█████████████████████████████████████████▍                          | 609/1000 [03:47<02:24,  2.72it/s]"
     ]
    },
    {
     "name": "stderr",
     "output_type": "stream",
     "text": [
      "\r",
      " 61%|█████████████████████████████████████████▍                          | 610/1000 [03:47<02:22,  2.73it/s]"
     ]
    },
    {
     "name": "stderr",
     "output_type": "stream",
     "text": [
      "\r",
      " 61%|█████████████████████████████████████████▌                          | 611/1000 [03:48<02:22,  2.74it/s]"
     ]
    },
    {
     "name": "stderr",
     "output_type": "stream",
     "text": [
      "\r",
      " 61%|█████████████████████████████████████████▌                          | 612/1000 [03:48<02:19,  2.78it/s]"
     ]
    },
    {
     "name": "stderr",
     "output_type": "stream",
     "text": [
      "\r",
      " 61%|█████████████████████████████████████████▋                          | 613/1000 [03:49<02:19,  2.78it/s]"
     ]
    },
    {
     "name": "stderr",
     "output_type": "stream",
     "text": [
      "\r",
      " 61%|█████████████████████████████████████████▊                          | 614/1000 [03:49<02:17,  2.80it/s]"
     ]
    },
    {
     "name": "stderr",
     "output_type": "stream",
     "text": [
      "\r",
      " 62%|█████████████████████████████████████████▊                          | 615/1000 [03:49<02:16,  2.82it/s]"
     ]
    },
    {
     "name": "stderr",
     "output_type": "stream",
     "text": [
      "\r",
      " 62%|█████████████████████████████████████████▉                          | 616/1000 [03:50<02:18,  2.76it/s]"
     ]
    },
    {
     "name": "stderr",
     "output_type": "stream",
     "text": [
      "\r",
      " 62%|█████████████████████████████████████████▉                          | 617/1000 [03:50<02:18,  2.76it/s]"
     ]
    },
    {
     "name": "stderr",
     "output_type": "stream",
     "text": [
      "\r",
      " 62%|██████████████████████████████████████████                          | 618/1000 [03:50<02:18,  2.76it/s]"
     ]
    },
    {
     "name": "stderr",
     "output_type": "stream",
     "text": [
      "\r",
      " 62%|██████████████████████████████████████████                          | 619/1000 [03:51<02:15,  2.81it/s]"
     ]
    },
    {
     "name": "stderr",
     "output_type": "stream",
     "text": [
      "\r",
      " 62%|██████████████████████████████████████████▏                         | 620/1000 [03:51<02:14,  2.82it/s]"
     ]
    },
    {
     "name": "stderr",
     "output_type": "stream",
     "text": [
      "\r",
      " 62%|██████████████████████████████████████████▏                         | 621/1000 [03:51<02:12,  2.87it/s]"
     ]
    },
    {
     "name": "stderr",
     "output_type": "stream",
     "text": [
      "\r",
      " 62%|██████████████████████████████████████████▎                         | 622/1000 [03:52<02:12,  2.86it/s]"
     ]
    },
    {
     "name": "stderr",
     "output_type": "stream",
     "text": [
      "\r",
      " 62%|██████████████████████████████████████████▎                         | 623/1000 [03:52<02:12,  2.84it/s]"
     ]
    },
    {
     "name": "stderr",
     "output_type": "stream",
     "text": [
      "\r",
      " 62%|██████████████████████████████████████████▍                         | 624/1000 [03:52<02:14,  2.80it/s]"
     ]
    },
    {
     "name": "stderr",
     "output_type": "stream",
     "text": [
      "\r",
      " 62%|██████████████████████████████████████████▌                         | 625/1000 [03:53<02:13,  2.80it/s]"
     ]
    },
    {
     "name": "stderr",
     "output_type": "stream",
     "text": [
      "\r",
      " 63%|██████████████████████████████████████████▌                         | 626/1000 [03:53<02:14,  2.79it/s]"
     ]
    },
    {
     "name": "stderr",
     "output_type": "stream",
     "text": [
      "\r",
      " 63%|██████████████████████████████████████████▋                         | 627/1000 [03:54<02:14,  2.77it/s]"
     ]
    },
    {
     "name": "stderr",
     "output_type": "stream",
     "text": [
      "\r",
      " 63%|██████████████████████████████████████████▋                         | 628/1000 [03:54<02:14,  2.76it/s]"
     ]
    },
    {
     "name": "stderr",
     "output_type": "stream",
     "text": [
      "\r",
      " 63%|██████████████████████████████████████████▊                         | 629/1000 [03:54<02:14,  2.76it/s]"
     ]
    },
    {
     "name": "stderr",
     "output_type": "stream",
     "text": [
      "\r",
      " 63%|██████████████████████████████████████████▊                         | 630/1000 [03:55<02:15,  2.73it/s]"
     ]
    },
    {
     "name": "stderr",
     "output_type": "stream",
     "text": [
      "\r",
      " 63%|██████████████████████████████████████████▉                         | 631/1000 [03:55<02:18,  2.67it/s]"
     ]
    },
    {
     "name": "stderr",
     "output_type": "stream",
     "text": [
      "\r",
      " 63%|██████████████████████████████████████████▉                         | 632/1000 [03:55<02:20,  2.63it/s]"
     ]
    },
    {
     "name": "stderr",
     "output_type": "stream",
     "text": [
      "\r",
      " 63%|███████████████████████████████████████████                         | 633/1000 [03:56<02:18,  2.65it/s]"
     ]
    },
    {
     "name": "stderr",
     "output_type": "stream",
     "text": [
      "\r",
      " 63%|███████████████████████████████████████████                         | 634/1000 [03:56<02:18,  2.63it/s]"
     ]
    },
    {
     "name": "stderr",
     "output_type": "stream",
     "text": [
      "\r",
      " 64%|███████████████████████████████████████████▏                        | 635/1000 [03:57<02:21,  2.59it/s]"
     ]
    },
    {
     "name": "stderr",
     "output_type": "stream",
     "text": [
      "\r",
      " 64%|███████████████████████████████████████████▏                        | 636/1000 [03:57<02:18,  2.63it/s]"
     ]
    },
    {
     "name": "stderr",
     "output_type": "stream",
     "text": [
      "\r",
      " 64%|███████████████████████████████████████████▎                        | 637/1000 [03:57<02:15,  2.68it/s]"
     ]
    },
    {
     "name": "stderr",
     "output_type": "stream",
     "text": [
      "\r",
      " 64%|███████████████████████████████████████████▍                        | 638/1000 [03:58<02:13,  2.72it/s]"
     ]
    },
    {
     "name": "stderr",
     "output_type": "stream",
     "text": [
      "\r",
      " 64%|███████████████████████████████████████████▍                        | 639/1000 [03:58<02:11,  2.75it/s]"
     ]
    },
    {
     "name": "stderr",
     "output_type": "stream",
     "text": [
      "\r",
      " 64%|███████████████████████████████████████████▌                        | 640/1000 [03:58<02:08,  2.79it/s]"
     ]
    },
    {
     "name": "stderr",
     "output_type": "stream",
     "text": [
      "\r",
      " 64%|███████████████████████████████████████████▌                        | 641/1000 [03:59<02:10,  2.75it/s]"
     ]
    },
    {
     "name": "stderr",
     "output_type": "stream",
     "text": [
      "\r",
      " 64%|███████████████████████████████████████████▋                        | 642/1000 [03:59<02:10,  2.74it/s]"
     ]
    },
    {
     "name": "stderr",
     "output_type": "stream",
     "text": [
      "\r",
      " 64%|███████████████████████████████████████████▋                        | 643/1000 [03:59<02:09,  2.76it/s]"
     ]
    },
    {
     "name": "stderr",
     "output_type": "stream",
     "text": [
      "\r",
      " 64%|███████████████████████████████████████████▊                        | 644/1000 [04:00<02:08,  2.76it/s]"
     ]
    },
    {
     "name": "stderr",
     "output_type": "stream",
     "text": [
      "\r",
      " 64%|███████████████████████████████████████████▊                        | 645/1000 [04:00<02:09,  2.73it/s]"
     ]
    },
    {
     "name": "stderr",
     "output_type": "stream",
     "text": [
      "\r",
      " 65%|███████████████████████████████████████████▉                        | 646/1000 [04:01<02:08,  2.75it/s]"
     ]
    },
    {
     "name": "stderr",
     "output_type": "stream",
     "text": [
      "\r",
      " 65%|███████████████████████████████████████████▉                        | 647/1000 [04:01<02:05,  2.82it/s]"
     ]
    },
    {
     "name": "stderr",
     "output_type": "stream",
     "text": [
      "\r",
      " 65%|████████████████████████████████████████████                        | 648/1000 [04:01<02:05,  2.80it/s]"
     ]
    },
    {
     "name": "stderr",
     "output_type": "stream",
     "text": [
      "\r",
      " 65%|████████████████████████████████████████████▏                       | 649/1000 [04:02<02:06,  2.77it/s]"
     ]
    },
    {
     "name": "stderr",
     "output_type": "stream",
     "text": [
      "\r",
      " 65%|████████████████████████████████████████████▏                       | 650/1000 [04:02<02:08,  2.73it/s]"
     ]
    },
    {
     "name": "stderr",
     "output_type": "stream",
     "text": [
      "\r",
      " 65%|████████████████████████████████████████████▎                       | 651/1000 [04:02<02:06,  2.76it/s]"
     ]
    },
    {
     "name": "stderr",
     "output_type": "stream",
     "text": [
      "\r",
      " 65%|████████████████████████████████████████████▎                       | 652/1000 [04:03<02:07,  2.73it/s]"
     ]
    },
    {
     "name": "stderr",
     "output_type": "stream",
     "text": [
      "\r",
      " 65%|████████████████████████████████████████████▍                       | 653/1000 [04:03<02:09,  2.68it/s]"
     ]
    },
    {
     "name": "stderr",
     "output_type": "stream",
     "text": [
      "\r",
      " 65%|████████████████████████████████████████████▍                       | 654/1000 [04:04<02:08,  2.70it/s]"
     ]
    },
    {
     "name": "stderr",
     "output_type": "stream",
     "text": [
      "\r",
      " 66%|████████████████████████████████████████████▌                       | 655/1000 [04:04<02:04,  2.78it/s]"
     ]
    },
    {
     "name": "stderr",
     "output_type": "stream",
     "text": [
      "\r",
      " 66%|████████████████████████████████████████████▌                       | 656/1000 [04:04<02:04,  2.75it/s]"
     ]
    },
    {
     "name": "stderr",
     "output_type": "stream",
     "text": [
      "\r",
      " 66%|████████████████████████████████████████████▋                       | 657/1000 [04:05<02:10,  2.63it/s]"
     ]
    },
    {
     "name": "stderr",
     "output_type": "stream",
     "text": [
      "\r",
      " 66%|████████████████████████████████████████████▋                       | 658/1000 [04:05<02:13,  2.56it/s]"
     ]
    },
    {
     "name": "stderr",
     "output_type": "stream",
     "text": [
      "\r",
      " 66%|████████████████████████████████████████████▊                       | 659/1000 [04:05<02:15,  2.52it/s]"
     ]
    },
    {
     "name": "stderr",
     "output_type": "stream",
     "text": [
      "\r",
      " 66%|████████████████████████████████████████████▉                       | 660/1000 [04:06<02:10,  2.60it/s]"
     ]
    },
    {
     "name": "stderr",
     "output_type": "stream",
     "text": [
      "\r",
      " 66%|████████████████████████████████████████████▉                       | 661/1000 [04:06<02:09,  2.63it/s]"
     ]
    },
    {
     "name": "stderr",
     "output_type": "stream",
     "text": [
      "\r",
      " 66%|█████████████████████████████████████████████                       | 662/1000 [04:07<02:08,  2.64it/s]"
     ]
    },
    {
     "name": "stderr",
     "output_type": "stream",
     "text": [
      "\r",
      " 66%|█████████████████████████████████████████████                       | 663/1000 [04:07<02:06,  2.65it/s]"
     ]
    },
    {
     "name": "stderr",
     "output_type": "stream",
     "text": [
      "\r",
      " 66%|█████████████████████████████████████████████▏                      | 664/1000 [04:07<02:04,  2.70it/s]"
     ]
    },
    {
     "name": "stderr",
     "output_type": "stream",
     "text": [
      "\r",
      " 66%|█████████████████████████████████████████████▏                      | 665/1000 [04:08<02:07,  2.64it/s]"
     ]
    },
    {
     "name": "stderr",
     "output_type": "stream",
     "text": [
      "\r",
      " 67%|█████████████████████████████████████████████▎                      | 666/1000 [04:08<02:07,  2.62it/s]"
     ]
    },
    {
     "name": "stderr",
     "output_type": "stream",
     "text": [
      "\r",
      " 67%|█████████████████████████████████████████████▎                      | 667/1000 [04:08<02:07,  2.62it/s]"
     ]
    },
    {
     "name": "stderr",
     "output_type": "stream",
     "text": [
      "\r",
      " 67%|█████████████████████████████████████████████▍                      | 668/1000 [04:09<02:03,  2.69it/s]"
     ]
    },
    {
     "name": "stderr",
     "output_type": "stream",
     "text": [
      "\r",
      " 67%|█████████████████████████████████████████████▍                      | 669/1000 [04:09<02:00,  2.75it/s]"
     ]
    },
    {
     "name": "stderr",
     "output_type": "stream",
     "text": [
      "\r",
      " 67%|█████████████████████████████████████████████▌                      | 670/1000 [04:10<02:00,  2.73it/s]"
     ]
    },
    {
     "name": "stderr",
     "output_type": "stream",
     "text": [
      "\r",
      " 67%|█████████████████████████████████████████████▋                      | 671/1000 [04:10<01:57,  2.80it/s]"
     ]
    },
    {
     "name": "stderr",
     "output_type": "stream",
     "text": [
      "\r",
      " 67%|█████████████████████████████████████████████▋                      | 672/1000 [04:10<01:57,  2.80it/s]"
     ]
    },
    {
     "name": "stderr",
     "output_type": "stream",
     "text": [
      "\r",
      " 67%|█████████████████████████████████████████████▊                      | 673/1000 [04:11<01:57,  2.78it/s]"
     ]
    },
    {
     "name": "stderr",
     "output_type": "stream",
     "text": [
      "\r",
      " 67%|█████████████████████████████████████████████▊                      | 674/1000 [04:11<01:58,  2.74it/s]"
     ]
    },
    {
     "name": "stderr",
     "output_type": "stream",
     "text": [
      "\r",
      " 68%|█████████████████████████████████████████████▉                      | 675/1000 [04:11<01:56,  2.78it/s]"
     ]
    },
    {
     "name": "stderr",
     "output_type": "stream",
     "text": [
      "\r",
      " 68%|█████████████████████████████████████████████▉                      | 676/1000 [04:12<01:56,  2.78it/s]"
     ]
    },
    {
     "name": "stderr",
     "output_type": "stream",
     "text": [
      "\r",
      " 68%|██████████████████████████████████████████████                      | 677/1000 [04:12<01:55,  2.80it/s]"
     ]
    },
    {
     "name": "stderr",
     "output_type": "stream",
     "text": [
      "\r",
      " 68%|██████████████████████████████████████████████                      | 678/1000 [04:12<01:55,  2.80it/s]"
     ]
    },
    {
     "name": "stderr",
     "output_type": "stream",
     "text": [
      "\r",
      " 68%|██████████████████████████████████████████████▏                     | 679/1000 [04:13<01:53,  2.84it/s]"
     ]
    },
    {
     "name": "stderr",
     "output_type": "stream",
     "text": [
      "\r",
      " 68%|██████████████████████████████████████████████▏                     | 680/1000 [04:13<01:54,  2.80it/s]"
     ]
    },
    {
     "name": "stderr",
     "output_type": "stream",
     "text": [
      "\r",
      " 68%|██████████████████████████████████████████████▎                     | 681/1000 [04:13<01:53,  2.81it/s]"
     ]
    },
    {
     "name": "stderr",
     "output_type": "stream",
     "text": [
      "\r",
      " 68%|██████████████████████████████████████████████▍                     | 682/1000 [04:14<01:53,  2.81it/s]"
     ]
    },
    {
     "name": "stderr",
     "output_type": "stream",
     "text": [
      "\r",
      " 68%|██████████████████████████████████████████████▍                     | 683/1000 [04:14<01:52,  2.81it/s]"
     ]
    },
    {
     "name": "stderr",
     "output_type": "stream",
     "text": [
      "\r",
      " 68%|██████████████████████████████████████████████▌                     | 684/1000 [04:15<01:52,  2.80it/s]"
     ]
    },
    {
     "name": "stderr",
     "output_type": "stream",
     "text": [
      "\r",
      " 68%|██████████████████████████████████████████████▌                     | 685/1000 [04:15<01:52,  2.81it/s]"
     ]
    },
    {
     "name": "stderr",
     "output_type": "stream",
     "text": [
      "\r",
      " 69%|██████████████████████████████████████████████▋                     | 686/1000 [04:15<01:54,  2.75it/s]"
     ]
    },
    {
     "name": "stderr",
     "output_type": "stream",
     "text": [
      "\r",
      " 69%|██████████████████████████████████████████████▋                     | 687/1000 [04:16<01:55,  2.72it/s]"
     ]
    },
    {
     "name": "stderr",
     "output_type": "stream",
     "text": [
      "\r",
      " 69%|██████████████████████████████████████████████▊                     | 688/1000 [04:16<01:54,  2.73it/s]"
     ]
    },
    {
     "name": "stderr",
     "output_type": "stream",
     "text": [
      "\r",
      " 69%|██████████████████████████████████████████████▊                     | 689/1000 [04:16<01:52,  2.76it/s]"
     ]
    },
    {
     "name": "stderr",
     "output_type": "stream",
     "text": [
      "\r",
      " 69%|██████████████████████████████████████████████▉                     | 690/1000 [04:17<01:51,  2.78it/s]"
     ]
    },
    {
     "name": "stderr",
     "output_type": "stream",
     "text": [
      "\r",
      " 69%|██████████████████████████████████████████████▉                     | 691/1000 [04:17<01:52,  2.75it/s]"
     ]
    },
    {
     "name": "stderr",
     "output_type": "stream",
     "text": [
      "\r",
      " 69%|███████████████████████████████████████████████                     | 692/1000 [04:17<01:52,  2.74it/s]"
     ]
    },
    {
     "name": "stderr",
     "output_type": "stream",
     "text": [
      "\r",
      " 69%|███████████████████████████████████████████████                     | 693/1000 [04:18<01:49,  2.81it/s]"
     ]
    },
    {
     "name": "stderr",
     "output_type": "stream",
     "text": [
      "\r",
      " 69%|███████████████████████████████████████████████▏                    | 694/1000 [04:18<01:49,  2.80it/s]"
     ]
    },
    {
     "name": "stderr",
     "output_type": "stream",
     "text": [
      "\r",
      " 70%|███████████████████████████████████████████████▎                    | 695/1000 [04:18<01:48,  2.80it/s]"
     ]
    },
    {
     "name": "stderr",
     "output_type": "stream",
     "text": [
      "\r",
      " 70%|███████████████████████████████████████████████▎                    | 696/1000 [04:19<01:47,  2.82it/s]"
     ]
    },
    {
     "name": "stderr",
     "output_type": "stream",
     "text": [
      "\r",
      " 70%|███████████████████████████████████████████████▍                    | 697/1000 [04:19<01:48,  2.78it/s]"
     ]
    },
    {
     "name": "stderr",
     "output_type": "stream",
     "text": [
      "\r",
      " 70%|███████████████████████████████████████████████▍                    | 698/1000 [04:20<01:47,  2.80it/s]"
     ]
    },
    {
     "name": "stderr",
     "output_type": "stream",
     "text": [
      "\r",
      " 70%|███████████████████████████████████████████████▌                    | 699/1000 [04:20<01:47,  2.81it/s]"
     ]
    },
    {
     "name": "stderr",
     "output_type": "stream",
     "text": [
      "\r",
      " 70%|███████████████████████████████████████████████▌                    | 700/1000 [04:20<01:46,  2.81it/s]"
     ]
    },
    {
     "name": "stderr",
     "output_type": "stream",
     "text": [
      "\r",
      " 70%|███████████████████████████████████████████████▋                    | 701/1000 [04:21<01:45,  2.83it/s]"
     ]
    },
    {
     "name": "stderr",
     "output_type": "stream",
     "text": [
      "\r",
      " 70%|███████████████████████████████████████████████▋                    | 702/1000 [04:21<01:46,  2.80it/s]"
     ]
    },
    {
     "name": "stderr",
     "output_type": "stream",
     "text": [
      "\r",
      " 70%|███████████████████████████████████████████████▊                    | 703/1000 [04:21<01:46,  2.79it/s]"
     ]
    },
    {
     "name": "stderr",
     "output_type": "stream",
     "text": [
      "\r",
      " 70%|███████████████████████████████████████████████▊                    | 704/1000 [04:22<01:46,  2.78it/s]"
     ]
    },
    {
     "name": "stderr",
     "output_type": "stream",
     "text": [
      "\r",
      " 70%|███████████████████████████████████████████████▉                    | 705/1000 [04:22<01:47,  2.74it/s]"
     ]
    },
    {
     "name": "stderr",
     "output_type": "stream",
     "text": [
      "\r",
      " 71%|████████████████████████████████████████████████                    | 706/1000 [04:22<01:46,  2.77it/s]"
     ]
    },
    {
     "name": "stderr",
     "output_type": "stream",
     "text": [
      "\r",
      " 71%|████████████████████████████████████████████████                    | 707/1000 [04:23<01:45,  2.78it/s]"
     ]
    },
    {
     "name": "stderr",
     "output_type": "stream",
     "text": [
      "\r",
      " 71%|████████████████████████████████████████████████▏                   | 708/1000 [04:23<01:45,  2.76it/s]"
     ]
    },
    {
     "name": "stderr",
     "output_type": "stream",
     "text": [
      "\r",
      " 71%|████████████████████████████████████████████████▏                   | 709/1000 [04:24<01:45,  2.76it/s]"
     ]
    },
    {
     "name": "stderr",
     "output_type": "stream",
     "text": [
      "\r",
      " 71%|████████████████████████████████████████████████▎                   | 710/1000 [04:24<01:45,  2.76it/s]"
     ]
    },
    {
     "name": "stderr",
     "output_type": "stream",
     "text": [
      "\r",
      " 71%|████████████████████████████████████████████████▎                   | 711/1000 [04:24<01:45,  2.75it/s]"
     ]
    },
    {
     "name": "stderr",
     "output_type": "stream",
     "text": [
      "\r",
      " 71%|████████████████████████████████████████████████▍                   | 712/1000 [04:25<01:44,  2.75it/s]"
     ]
    },
    {
     "name": "stderr",
     "output_type": "stream",
     "text": [
      "\r",
      " 71%|████████████████████████████████████████████████▍                   | 713/1000 [04:25<01:44,  2.74it/s]"
     ]
    },
    {
     "name": "stderr",
     "output_type": "stream",
     "text": [
      "\r",
      " 71%|████████████████████████████████████████████████▌                   | 714/1000 [04:25<01:44,  2.74it/s]"
     ]
    },
    {
     "name": "stderr",
     "output_type": "stream",
     "text": [
      "\r",
      " 72%|████████████████████████████████████████████████▌                   | 715/1000 [04:26<01:43,  2.75it/s]"
     ]
    },
    {
     "name": "stderr",
     "output_type": "stream",
     "text": [
      "\r",
      " 72%|████████████████████████████████████████████████▋                   | 716/1000 [04:26<01:44,  2.72it/s]"
     ]
    },
    {
     "name": "stderr",
     "output_type": "stream",
     "text": [
      "\r",
      " 72%|████████████████████████████████████████████████▊                   | 717/1000 [04:26<01:44,  2.70it/s]"
     ]
    },
    {
     "name": "stderr",
     "output_type": "stream",
     "text": [
      "\r",
      " 72%|████████████████████████████████████████████████▊                   | 718/1000 [04:27<01:44,  2.70it/s]"
     ]
    },
    {
     "name": "stderr",
     "output_type": "stream",
     "text": [
      "\r",
      " 72%|████████████████████████████████████████████████▉                   | 719/1000 [04:27<01:42,  2.75it/s]"
     ]
    },
    {
     "name": "stderr",
     "output_type": "stream",
     "text": [
      "\r",
      " 72%|████████████████████████████████████████████████▉                   | 720/1000 [04:28<01:42,  2.74it/s]"
     ]
    },
    {
     "name": "stderr",
     "output_type": "stream",
     "text": [
      "\r",
      " 72%|█████████████████████████████████████████████████                   | 721/1000 [04:28<01:46,  2.62it/s]"
     ]
    },
    {
     "name": "stderr",
     "output_type": "stream",
     "text": [
      "\r",
      " 72%|█████████████████████████████████████████████████                   | 722/1000 [04:28<01:44,  2.66it/s]"
     ]
    },
    {
     "name": "stderr",
     "output_type": "stream",
     "text": [
      "\r",
      " 72%|█████████████████████████████████████████████████▏                  | 723/1000 [04:29<01:43,  2.69it/s]"
     ]
    },
    {
     "name": "stderr",
     "output_type": "stream",
     "text": [
      "\r",
      " 72%|█████████████████████████████████████████████████▏                  | 724/1000 [04:29<01:42,  2.69it/s]"
     ]
    },
    {
     "name": "stderr",
     "output_type": "stream",
     "text": [
      "\r",
      " 72%|█████████████████████████████████████████████████▎                  | 725/1000 [04:29<01:42,  2.67it/s]"
     ]
    },
    {
     "name": "stderr",
     "output_type": "stream",
     "text": [
      "\r",
      " 73%|█████████████████████████████████████████████████▎                  | 726/1000 [04:30<01:39,  2.76it/s]"
     ]
    },
    {
     "name": "stderr",
     "output_type": "stream",
     "text": [
      "\r",
      " 73%|█████████████████████████████████████████████████▍                  | 727/1000 [04:30<01:39,  2.75it/s]"
     ]
    },
    {
     "name": "stderr",
     "output_type": "stream",
     "text": [
      "\r",
      " 73%|█████████████████████████████████████████████████▌                  | 728/1000 [04:30<01:37,  2.78it/s]"
     ]
    },
    {
     "name": "stderr",
     "output_type": "stream",
     "text": [
      "\r",
      " 73%|█████████████████████████████████████████████████▌                  | 729/1000 [04:31<01:35,  2.82it/s]"
     ]
    },
    {
     "name": "stderr",
     "output_type": "stream",
     "text": [
      "\r",
      " 73%|█████████████████████████████████████████████████▋                  | 730/1000 [04:31<01:36,  2.81it/s]"
     ]
    },
    {
     "name": "stderr",
     "output_type": "stream",
     "text": [
      "\r",
      " 73%|█████████████████████████████████████████████████▋                  | 731/1000 [04:32<01:34,  2.85it/s]"
     ]
    },
    {
     "name": "stderr",
     "output_type": "stream",
     "text": [
      "\r",
      " 73%|█████████████████████████████████████████████████▊                  | 732/1000 [04:32<01:33,  2.87it/s]"
     ]
    },
    {
     "name": "stderr",
     "output_type": "stream",
     "text": [
      "\r",
      " 73%|█████████████████████████████████████████████████▊                  | 733/1000 [04:32<01:34,  2.82it/s]"
     ]
    },
    {
     "name": "stderr",
     "output_type": "stream",
     "text": [
      "\r",
      " 73%|█████████████████████████████████████████████████▉                  | 734/1000 [04:33<01:34,  2.81it/s]"
     ]
    },
    {
     "name": "stderr",
     "output_type": "stream",
     "text": [
      "\r",
      " 74%|█████████████████████████████████████████████████▉                  | 735/1000 [04:33<01:34,  2.80it/s]"
     ]
    },
    {
     "name": "stderr",
     "output_type": "stream",
     "text": [
      "\r",
      " 74%|██████████████████████████████████████████████████                  | 736/1000 [04:33<01:32,  2.86it/s]"
     ]
    },
    {
     "name": "stderr",
     "output_type": "stream",
     "text": [
      "\r",
      " 74%|██████████████████████████████████████████████████                  | 737/1000 [04:34<01:31,  2.87it/s]"
     ]
    },
    {
     "name": "stderr",
     "output_type": "stream",
     "text": [
      "\r",
      " 74%|██████████████████████████████████████████████████▏                 | 738/1000 [04:34<01:33,  2.81it/s]"
     ]
    },
    {
     "name": "stderr",
     "output_type": "stream",
     "text": [
      "\r",
      " 74%|██████████████████████████████████████████████████▎                 | 739/1000 [04:34<01:33,  2.78it/s]"
     ]
    },
    {
     "name": "stderr",
     "output_type": "stream",
     "text": [
      "\r",
      " 74%|██████████████████████████████████████████████████▎                 | 740/1000 [04:35<01:32,  2.81it/s]"
     ]
    },
    {
     "name": "stderr",
     "output_type": "stream",
     "text": [
      "\r",
      " 74%|██████████████████████████████████████████████████▍                 | 741/1000 [04:35<01:31,  2.83it/s]"
     ]
    },
    {
     "name": "stderr",
     "output_type": "stream",
     "text": [
      "\r",
      " 74%|██████████████████████████████████████████████████▍                 | 742/1000 [04:35<01:29,  2.89it/s]"
     ]
    },
    {
     "name": "stderr",
     "output_type": "stream",
     "text": [
      "\r",
      " 74%|██████████████████████████████████████████████████▌                 | 743/1000 [04:36<01:31,  2.82it/s]"
     ]
    },
    {
     "name": "stderr",
     "output_type": "stream",
     "text": [
      "\r",
      " 74%|██████████████████████████████████████████████████▌                 | 744/1000 [04:36<01:30,  2.84it/s]"
     ]
    },
    {
     "name": "stderr",
     "output_type": "stream",
     "text": [
      "\r",
      " 74%|██████████████████████████████████████████████████▋                 | 745/1000 [04:36<01:28,  2.88it/s]"
     ]
    },
    {
     "name": "stderr",
     "output_type": "stream",
     "text": [
      "\r",
      " 75%|██████████████████████████████████████████████████▋                 | 746/1000 [04:37<01:27,  2.90it/s]"
     ]
    },
    {
     "name": "stderr",
     "output_type": "stream",
     "text": [
      "\r",
      " 75%|██████████████████████████████████████████████████▊                 | 747/1000 [04:37<01:26,  2.91it/s]"
     ]
    },
    {
     "name": "stderr",
     "output_type": "stream",
     "text": [
      "\r",
      " 75%|██████████████████████████████████████████████████▊                 | 748/1000 [04:37<01:27,  2.88it/s]"
     ]
    },
    {
     "name": "stderr",
     "output_type": "stream",
     "text": [
      "\r",
      " 75%|██████████████████████████████████████████████████▉                 | 749/1000 [04:38<01:27,  2.85it/s]"
     ]
    },
    {
     "name": "stderr",
     "output_type": "stream",
     "text": [
      "\r",
      " 75%|███████████████████████████████████████████████████                 | 750/1000 [04:38<01:30,  2.77it/s]"
     ]
    },
    {
     "name": "stderr",
     "output_type": "stream",
     "text": [
      "\r",
      " 75%|███████████████████████████████████████████████████                 | 751/1000 [04:39<01:31,  2.72it/s]"
     ]
    },
    {
     "name": "stderr",
     "output_type": "stream",
     "text": [
      "\r",
      " 75%|███████████████████████████████████████████████████▏                | 752/1000 [04:39<01:31,  2.71it/s]"
     ]
    },
    {
     "name": "stderr",
     "output_type": "stream",
     "text": [
      "\r",
      " 75%|███████████████████████████████████████████████████▏                | 753/1000 [04:39<01:29,  2.77it/s]"
     ]
    },
    {
     "name": "stderr",
     "output_type": "stream",
     "text": [
      "\r",
      " 75%|███████████████████████████████████████████████████▎                | 754/1000 [04:40<01:31,  2.69it/s]"
     ]
    },
    {
     "name": "stderr",
     "output_type": "stream",
     "text": [
      "\r",
      " 76%|███████████████████████████████████████████████████▎                | 755/1000 [04:40<01:29,  2.73it/s]"
     ]
    },
    {
     "name": "stderr",
     "output_type": "stream",
     "text": [
      "\r",
      " 76%|███████████████████████████████████████████████████▍                | 756/1000 [04:40<01:29,  2.73it/s]"
     ]
    },
    {
     "name": "stderr",
     "output_type": "stream",
     "text": [
      "\r",
      " 76%|███████████████████████████████████████████████████▍                | 757/1000 [04:41<01:30,  2.69it/s]"
     ]
    },
    {
     "name": "stderr",
     "output_type": "stream",
     "text": [
      "\r",
      " 76%|███████████████████████████████████████████████████▌                | 758/1000 [04:41<01:29,  2.69it/s]"
     ]
    },
    {
     "name": "stderr",
     "output_type": "stream",
     "text": [
      "\r",
      " 76%|███████████████████████████████████████████████████▌                | 759/1000 [04:42<01:29,  2.69it/s]"
     ]
    },
    {
     "name": "stderr",
     "output_type": "stream",
     "text": [
      "\r",
      " 76%|███████████████████████████████████████████████████▋                | 760/1000 [04:42<01:28,  2.71it/s]"
     ]
    },
    {
     "name": "stderr",
     "output_type": "stream",
     "text": [
      "\r",
      " 76%|███████████████████████████████████████████████████▋                | 761/1000 [04:42<01:27,  2.74it/s]"
     ]
    },
    {
     "name": "stderr",
     "output_type": "stream",
     "text": [
      "\r",
      " 76%|███████████████████████████████████████████████████▊                | 762/1000 [04:43<01:26,  2.74it/s]"
     ]
    },
    {
     "name": "stderr",
     "output_type": "stream",
     "text": [
      "\r",
      " 76%|███████████████████████████████████████████████████▉                | 763/1000 [04:43<01:28,  2.67it/s]"
     ]
    },
    {
     "name": "stderr",
     "output_type": "stream",
     "text": [
      "\r",
      " 76%|███████████████████████████████████████████████████▉                | 764/1000 [04:43<01:31,  2.58it/s]"
     ]
    },
    {
     "name": "stderr",
     "output_type": "stream",
     "text": [
      "\r",
      " 76%|████████████████████████████████████████████████████                | 765/1000 [04:44<01:34,  2.50it/s]"
     ]
    },
    {
     "name": "stderr",
     "output_type": "stream",
     "text": [
      "\r",
      " 77%|████████████████████████████████████████████████████                | 766/1000 [04:44<01:31,  2.57it/s]"
     ]
    },
    {
     "name": "stderr",
     "output_type": "stream",
     "text": [
      "\r",
      " 77%|████████████████████████████████████████████████████▏               | 767/1000 [04:45<01:28,  2.62it/s]"
     ]
    },
    {
     "name": "stderr",
     "output_type": "stream",
     "text": [
      "\r",
      " 77%|████████████████████████████████████████████████████▏               | 768/1000 [04:45<01:27,  2.64it/s]"
     ]
    },
    {
     "name": "stderr",
     "output_type": "stream",
     "text": [
      "\r",
      " 77%|████████████████████████████████████████████████████▎               | 769/1000 [04:45<01:26,  2.67it/s]"
     ]
    },
    {
     "name": "stderr",
     "output_type": "stream",
     "text": [
      "\r",
      " 77%|████████████████████████████████████████████████████▎               | 770/1000 [04:46<01:26,  2.67it/s]"
     ]
    },
    {
     "name": "stderr",
     "output_type": "stream",
     "text": [
      "\r",
      " 77%|████████████████████████████████████████████████████▍               | 771/1000 [04:46<01:26,  2.64it/s]"
     ]
    },
    {
     "name": "stderr",
     "output_type": "stream",
     "text": [
      "\r",
      " 77%|████████████████████████████████████████████████████▍               | 772/1000 [04:46<01:24,  2.69it/s]"
     ]
    },
    {
     "name": "stderr",
     "output_type": "stream",
     "text": [
      "\r",
      " 77%|████████████████████████████████████████████████████▌               | 773/1000 [04:47<01:24,  2.69it/s]"
     ]
    },
    {
     "name": "stderr",
     "output_type": "stream",
     "text": [
      "\r",
      " 77%|████████████████████████████████████████████████████▋               | 774/1000 [04:47<01:22,  2.73it/s]"
     ]
    },
    {
     "name": "stderr",
     "output_type": "stream",
     "text": [
      "\r",
      " 78%|████████████████████████████████████████████████████▋               | 775/1000 [04:48<01:21,  2.75it/s]"
     ]
    },
    {
     "name": "stderr",
     "output_type": "stream",
     "text": [
      "\r",
      " 78%|████████████████████████████████████████████████████▊               | 776/1000 [04:48<01:21,  2.75it/s]"
     ]
    },
    {
     "name": "stderr",
     "output_type": "stream",
     "text": [
      "\r",
      " 78%|████████████████████████████████████████████████████▊               | 777/1000 [04:48<01:19,  2.80it/s]"
     ]
    },
    {
     "name": "stderr",
     "output_type": "stream",
     "text": [
      "\r",
      " 78%|████████████████████████████████████████████████████▉               | 778/1000 [04:49<01:18,  2.83it/s]"
     ]
    },
    {
     "name": "stderr",
     "output_type": "stream",
     "text": [
      "\r",
      " 78%|████████████████████████████████████████████████████▉               | 779/1000 [04:49<01:18,  2.82it/s]"
     ]
    },
    {
     "name": "stderr",
     "output_type": "stream",
     "text": [
      "\r",
      " 78%|█████████████████████████████████████████████████████               | 780/1000 [04:49<01:17,  2.83it/s]"
     ]
    },
    {
     "name": "stderr",
     "output_type": "stream",
     "text": [
      "\r",
      " 78%|█████████████████████████████████████████████████████               | 781/1000 [04:50<01:17,  2.84it/s]"
     ]
    },
    {
     "name": "stderr",
     "output_type": "stream",
     "text": [
      "\r",
      " 78%|█████████████████████████████████████████████████████▏              | 782/1000 [04:50<01:17,  2.83it/s]"
     ]
    },
    {
     "name": "stderr",
     "output_type": "stream",
     "text": [
      "\r",
      " 78%|█████████████████████████████████████████████████████▏              | 783/1000 [04:50<01:16,  2.82it/s]"
     ]
    },
    {
     "name": "stderr",
     "output_type": "stream",
     "text": [
      "\r",
      " 78%|█████████████████████████████████████████████████████▎              | 784/1000 [04:51<01:16,  2.81it/s]"
     ]
    },
    {
     "name": "stderr",
     "output_type": "stream",
     "text": [
      "\r",
      " 78%|█████████████████████████████████████████████████████▍              | 785/1000 [04:51<01:16,  2.80it/s]"
     ]
    },
    {
     "name": "stderr",
     "output_type": "stream",
     "text": [
      "\r",
      " 79%|█████████████████████████████████████████████████████▍              | 786/1000 [04:51<01:15,  2.85it/s]"
     ]
    },
    {
     "name": "stderr",
     "output_type": "stream",
     "text": [
      "\r",
      " 79%|█████████████████████████████████████████████████████▌              | 787/1000 [04:52<01:13,  2.88it/s]"
     ]
    },
    {
     "name": "stderr",
     "output_type": "stream",
     "text": [
      "\r",
      " 79%|█████████████████████████████████████████████████████▌              | 788/1000 [04:52<01:12,  2.90it/s]"
     ]
    },
    {
     "name": "stderr",
     "output_type": "stream",
     "text": [
      "\r",
      " 79%|█████████████████████████████████████████████████████▋              | 789/1000 [04:52<01:13,  2.87it/s]"
     ]
    },
    {
     "name": "stderr",
     "output_type": "stream",
     "text": [
      "\r",
      " 79%|█████████████████████████████████████████████████████▋              | 790/1000 [04:53<01:13,  2.85it/s]"
     ]
    },
    {
     "name": "stderr",
     "output_type": "stream",
     "text": [
      "\r",
      " 79%|█████████████████████████████████████████████████████▊              | 791/1000 [04:53<01:13,  2.83it/s]"
     ]
    },
    {
     "name": "stderr",
     "output_type": "stream",
     "text": [
      "\r",
      " 79%|█████████████████████████████████████████████████████▊              | 792/1000 [04:54<01:14,  2.78it/s]"
     ]
    },
    {
     "name": "stderr",
     "output_type": "stream",
     "text": [
      "\r",
      " 79%|█████████████████████████████████████████████████████▉              | 793/1000 [04:54<01:15,  2.74it/s]"
     ]
    },
    {
     "name": "stderr",
     "output_type": "stream",
     "text": [
      "\r",
      " 79%|█████████████████████████████████████████████████████▉              | 794/1000 [04:54<01:14,  2.78it/s]"
     ]
    },
    {
     "name": "stderr",
     "output_type": "stream",
     "text": [
      "\r",
      " 80%|██████████████████████████████████████████████████████              | 795/1000 [04:55<01:13,  2.79it/s]"
     ]
    },
    {
     "name": "stderr",
     "output_type": "stream",
     "text": [
      "\r",
      " 80%|██████████████████████████████████████████████████████▏             | 796/1000 [04:55<01:12,  2.80it/s]"
     ]
    },
    {
     "name": "stderr",
     "output_type": "stream",
     "text": [
      "\r",
      " 80%|██████████████████████████████████████████████████████▏             | 797/1000 [04:55<01:12,  2.81it/s]"
     ]
    },
    {
     "name": "stderr",
     "output_type": "stream",
     "text": [
      "\r",
      " 80%|██████████████████████████████████████████████████████▎             | 798/1000 [04:56<01:12,  2.80it/s]"
     ]
    },
    {
     "name": "stderr",
     "output_type": "stream",
     "text": [
      "\r",
      " 80%|██████████████████████████████████████████████████████▎             | 799/1000 [04:56<01:13,  2.72it/s]"
     ]
    },
    {
     "name": "stderr",
     "output_type": "stream",
     "text": [
      "\r",
      " 80%|██████████████████████████████████████████████████████▍             | 800/1000 [04:56<01:13,  2.72it/s]"
     ]
    },
    {
     "name": "stderr",
     "output_type": "stream",
     "text": [
      "\r",
      " 80%|██████████████████████████████████████████████████████▍             | 801/1000 [04:57<01:11,  2.77it/s]"
     ]
    },
    {
     "name": "stderr",
     "output_type": "stream",
     "text": [
      "\r",
      " 80%|██████████████████████████████████████████████████████▌             | 802/1000 [04:57<01:13,  2.71it/s]"
     ]
    },
    {
     "name": "stderr",
     "output_type": "stream",
     "text": [
      "\r",
      " 80%|██████████████████████████████████████████████████████▌             | 803/1000 [04:58<01:14,  2.64it/s]"
     ]
    },
    {
     "name": "stderr",
     "output_type": "stream",
     "text": [
      "\r",
      " 80%|██████████████████████████████████████████████████████▋             | 804/1000 [04:58<01:12,  2.69it/s]"
     ]
    },
    {
     "name": "stderr",
     "output_type": "stream",
     "text": [
      "\r",
      " 80%|██████████████████████████████████████████████████████▋             | 805/1000 [04:58<01:12,  2.68it/s]"
     ]
    },
    {
     "name": "stderr",
     "output_type": "stream",
     "text": [
      "\r",
      " 81%|██████████████████████████████████████████████████████▊             | 806/1000 [04:59<01:13,  2.66it/s]"
     ]
    },
    {
     "name": "stderr",
     "output_type": "stream",
     "text": [
      "\r",
      " 81%|██████████████████████████████████████████████████████▉             | 807/1000 [04:59<01:13,  2.64it/s]"
     ]
    },
    {
     "name": "stderr",
     "output_type": "stream",
     "text": [
      "\r",
      " 81%|██████████████████████████████████████████████████████▉             | 808/1000 [05:00<01:14,  2.58it/s]"
     ]
    },
    {
     "name": "stderr",
     "output_type": "stream",
     "text": [
      "\r",
      " 81%|███████████████████████████████████████████████████████             | 809/1000 [05:00<01:13,  2.60it/s]"
     ]
    },
    {
     "name": "stderr",
     "output_type": "stream",
     "text": [
      "\r",
      " 81%|███████████████████████████████████████████████████████             | 810/1000 [05:00<01:14,  2.56it/s]"
     ]
    },
    {
     "name": "stderr",
     "output_type": "stream",
     "text": [
      "\r",
      " 81%|███████████████████████████████████████████████████████▏            | 811/1000 [05:01<01:13,  2.58it/s]"
     ]
    },
    {
     "name": "stderr",
     "output_type": "stream",
     "text": [
      "\r",
      " 81%|███████████████████████████████████████████████████████▏            | 812/1000 [05:01<01:12,  2.58it/s]"
     ]
    },
    {
     "name": "stderr",
     "output_type": "stream",
     "text": [
      "\r",
      " 81%|███████████████████████████████████████████████████████▎            | 813/1000 [05:01<01:13,  2.54it/s]"
     ]
    },
    {
     "name": "stderr",
     "output_type": "stream",
     "text": [
      "\r",
      " 81%|███████████████████████████████████████████████████████▎            | 814/1000 [05:02<01:11,  2.59it/s]"
     ]
    },
    {
     "name": "stderr",
     "output_type": "stream",
     "text": [
      "\r",
      " 82%|███████████████████████████████████████████████████████▍            | 815/1000 [05:02<01:12,  2.57it/s]"
     ]
    },
    {
     "name": "stderr",
     "output_type": "stream",
     "text": [
      "\r",
      " 82%|███████████████████████████████████████████████████████▍            | 816/1000 [05:03<01:11,  2.57it/s]"
     ]
    },
    {
     "name": "stderr",
     "output_type": "stream",
     "text": [
      "\r",
      " 82%|███████████████████████████████████████████████████████▌            | 817/1000 [05:03<01:11,  2.55it/s]"
     ]
    },
    {
     "name": "stderr",
     "output_type": "stream",
     "text": [
      "\r",
      " 82%|███████████████████████████████████████████████████████▌            | 818/1000 [05:03<01:12,  2.52it/s]"
     ]
    },
    {
     "name": "stderr",
     "output_type": "stream",
     "text": [
      "\r",
      " 82%|███████████████████████████████████████████████████████▋            | 819/1000 [05:04<01:11,  2.52it/s]"
     ]
    },
    {
     "name": "stderr",
     "output_type": "stream",
     "text": [
      "\r",
      " 82%|███████████████████████████████████████████████████████▊            | 820/1000 [05:04<01:12,  2.50it/s]"
     ]
    },
    {
     "name": "stderr",
     "output_type": "stream",
     "text": [
      "\r",
      " 82%|███████████████████████████████████████████████████████▊            | 821/1000 [05:05<01:12,  2.47it/s]"
     ]
    },
    {
     "name": "stderr",
     "output_type": "stream",
     "text": [
      "\r",
      " 82%|███████████████████████████████████████████████████████▉            | 822/1000 [05:05<01:13,  2.44it/s]"
     ]
    },
    {
     "name": "stderr",
     "output_type": "stream",
     "text": [
      "\r",
      " 82%|███████████████████████████████████████████████████████▉            | 823/1000 [05:06<01:13,  2.42it/s]"
     ]
    },
    {
     "name": "stderr",
     "output_type": "stream",
     "text": [
      "\r",
      " 82%|████████████████████████████████████████████████████████            | 824/1000 [05:06<01:10,  2.49it/s]"
     ]
    },
    {
     "name": "stderr",
     "output_type": "stream",
     "text": [
      "\r",
      " 82%|████████████████████████████████████████████████████████            | 825/1000 [05:06<01:11,  2.44it/s]"
     ]
    },
    {
     "name": "stderr",
     "output_type": "stream",
     "text": [
      "\r",
      " 83%|████████████████████████████████████████████████████████▏           | 826/1000 [05:07<01:10,  2.48it/s]"
     ]
    },
    {
     "name": "stderr",
     "output_type": "stream",
     "text": [
      "\r",
      " 83%|████████████████████████████████████████████████████████▏           | 827/1000 [05:07<01:10,  2.45it/s]"
     ]
    },
    {
     "name": "stderr",
     "output_type": "stream",
     "text": [
      "\r",
      " 83%|████████████████████████████████████████████████████████▎           | 828/1000 [05:08<01:09,  2.48it/s]"
     ]
    },
    {
     "name": "stderr",
     "output_type": "stream",
     "text": [
      "\r",
      " 83%|████████████████████████████████████████████████████████▎           | 829/1000 [05:08<01:08,  2.49it/s]"
     ]
    },
    {
     "name": "stderr",
     "output_type": "stream",
     "text": [
      "\r",
      " 83%|████████████████████████████████████████████████████████▍           | 830/1000 [05:08<01:05,  2.61it/s]"
     ]
    },
    {
     "name": "stderr",
     "output_type": "stream",
     "text": [
      "\r",
      " 83%|████████████████████████████████████████████████████████▌           | 831/1000 [05:09<01:03,  2.64it/s]"
     ]
    },
    {
     "name": "stderr",
     "output_type": "stream",
     "text": [
      "\r",
      " 83%|████████████████████████████████████████████████████████▌           | 832/1000 [05:09<01:04,  2.62it/s]"
     ]
    },
    {
     "name": "stderr",
     "output_type": "stream",
     "text": [
      "\r",
      " 83%|████████████████████████████████████████████████████████▋           | 833/1000 [05:09<01:02,  2.68it/s]"
     ]
    },
    {
     "name": "stderr",
     "output_type": "stream",
     "text": [
      "\r",
      " 83%|████████████████████████████████████████████████████████▋           | 834/1000 [05:10<01:01,  2.69it/s]"
     ]
    },
    {
     "name": "stderr",
     "output_type": "stream",
     "text": [
      "\r",
      " 84%|████████████████████████████████████████████████████████▊           | 835/1000 [05:10<01:00,  2.72it/s]"
     ]
    },
    {
     "name": "stderr",
     "output_type": "stream",
     "text": [
      "\r",
      " 84%|████████████████████████████████████████████████████████▊           | 836/1000 [05:10<00:58,  2.80it/s]"
     ]
    },
    {
     "name": "stderr",
     "output_type": "stream",
     "text": [
      "\r",
      " 84%|████████████████████████████████████████████████████████▉           | 837/1000 [05:11<00:56,  2.88it/s]"
     ]
    },
    {
     "name": "stderr",
     "output_type": "stream",
     "text": [
      "\r",
      " 84%|████████████████████████████████████████████████████████▉           | 838/1000 [05:11<00:56,  2.86it/s]"
     ]
    },
    {
     "name": "stderr",
     "output_type": "stream",
     "text": [
      "\r",
      " 84%|█████████████████████████████████████████████████████████           | 839/1000 [05:11<00:56,  2.86it/s]"
     ]
    },
    {
     "name": "stderr",
     "output_type": "stream",
     "text": [
      "\r",
      " 84%|█████████████████████████████████████████████████████████           | 840/1000 [05:12<00:54,  2.91it/s]"
     ]
    },
    {
     "name": "stderr",
     "output_type": "stream",
     "text": [
      "\r",
      " 84%|█████████████████████████████████████████████████████████▏          | 841/1000 [05:12<00:55,  2.88it/s]"
     ]
    },
    {
     "name": "stderr",
     "output_type": "stream",
     "text": [
      "\r",
      " 84%|█████████████████████████████████████████████████████████▎          | 842/1000 [05:12<00:55,  2.86it/s]"
     ]
    },
    {
     "name": "stderr",
     "output_type": "stream",
     "text": [
      "\r",
      " 84%|█████████████████████████████████████████████████████████▎          | 843/1000 [05:13<00:54,  2.88it/s]"
     ]
    },
    {
     "name": "stderr",
     "output_type": "stream",
     "text": [
      "\r",
      " 84%|█████████████████████████████████████████████████████████▍          | 844/1000 [05:13<00:54,  2.86it/s]"
     ]
    },
    {
     "name": "stderr",
     "output_type": "stream",
     "text": [
      "\r",
      " 84%|█████████████████████████████████████████████████████████▍          | 845/1000 [05:14<00:55,  2.81it/s]"
     ]
    },
    {
     "name": "stderr",
     "output_type": "stream",
     "text": [
      "\r",
      " 85%|█████████████████████████████████████████████████████████▌          | 846/1000 [05:14<00:54,  2.81it/s]"
     ]
    },
    {
     "name": "stderr",
     "output_type": "stream",
     "text": [
      "\r",
      " 85%|█████████████████████████████████████████████████████████▌          | 847/1000 [05:14<00:54,  2.79it/s]"
     ]
    },
    {
     "name": "stderr",
     "output_type": "stream",
     "text": [
      "\r",
      " 85%|█████████████████████████████████████████████████████████▋          | 848/1000 [05:15<00:55,  2.74it/s]"
     ]
    },
    {
     "name": "stderr",
     "output_type": "stream",
     "text": [
      "\r",
      " 85%|█████████████████████████████████████████████████████████▋          | 849/1000 [05:15<00:55,  2.70it/s]"
     ]
    },
    {
     "name": "stderr",
     "output_type": "stream",
     "text": [
      "\r",
      " 85%|█████████████████████████████████████████████████████████▊          | 850/1000 [05:15<00:55,  2.68it/s]"
     ]
    },
    {
     "name": "stderr",
     "output_type": "stream",
     "text": [
      "\r",
      " 85%|█████████████████████████████████████████████████████████▊          | 851/1000 [05:16<00:55,  2.70it/s]"
     ]
    },
    {
     "name": "stderr",
     "output_type": "stream",
     "text": [
      "\r",
      " 85%|█████████████████████████████████████████████████████████▉          | 852/1000 [05:16<00:55,  2.69it/s]"
     ]
    },
    {
     "name": "stderr",
     "output_type": "stream",
     "text": [
      "\r",
      " 85%|██████████████████████████████████████████████████████████          | 853/1000 [05:17<00:55,  2.65it/s]"
     ]
    },
    {
     "name": "stderr",
     "output_type": "stream",
     "text": [
      "\r",
      " 85%|██████████████████████████████████████████████████████████          | 854/1000 [05:17<00:53,  2.71it/s]"
     ]
    },
    {
     "name": "stderr",
     "output_type": "stream",
     "text": [
      "\r",
      " 86%|██████████████████████████████████████████████████████████▏         | 855/1000 [05:17<00:53,  2.74it/s]"
     ]
    },
    {
     "name": "stderr",
     "output_type": "stream",
     "text": [
      "\r",
      " 86%|██████████████████████████████████████████████████████████▏         | 856/1000 [05:18<00:52,  2.77it/s]"
     ]
    },
    {
     "name": "stderr",
     "output_type": "stream",
     "text": [
      "\r",
      " 86%|██████████████████████████████████████████████████████████▎         | 857/1000 [05:18<00:51,  2.79it/s]"
     ]
    },
    {
     "name": "stderr",
     "output_type": "stream",
     "text": [
      "\r",
      " 86%|██████████████████████████████████████████████████████████▎         | 858/1000 [05:18<00:50,  2.80it/s]"
     ]
    },
    {
     "name": "stderr",
     "output_type": "stream",
     "text": [
      "\r",
      " 86%|██████████████████████████████████████████████████████████▍         | 859/1000 [05:19<00:50,  2.80it/s]"
     ]
    },
    {
     "name": "stderr",
     "output_type": "stream",
     "text": [
      "\r",
      " 86%|██████████████████████████████████████████████████████████▍         | 860/1000 [05:19<00:50,  2.75it/s]"
     ]
    },
    {
     "name": "stderr",
     "output_type": "stream",
     "text": [
      "\r",
      " 86%|██████████████████████████████████████████████████████████▌         | 861/1000 [05:19<00:50,  2.78it/s]"
     ]
    },
    {
     "name": "stderr",
     "output_type": "stream",
     "text": [
      "\r",
      " 86%|██████████████████████████████████████████████████████████▌         | 862/1000 [05:20<00:48,  2.84it/s]"
     ]
    },
    {
     "name": "stderr",
     "output_type": "stream",
     "text": [
      "\r",
      " 86%|██████████████████████████████████████████████████████████▋         | 863/1000 [05:20<00:48,  2.82it/s]"
     ]
    },
    {
     "name": "stderr",
     "output_type": "stream",
     "text": [
      "\r",
      " 86%|██████████████████████████████████████████████████████████▊         | 864/1000 [05:20<00:48,  2.82it/s]"
     ]
    },
    {
     "name": "stderr",
     "output_type": "stream",
     "text": [
      "\r",
      " 86%|██████████████████████████████████████████████████████████▊         | 865/1000 [05:21<00:47,  2.83it/s]"
     ]
    },
    {
     "name": "stderr",
     "output_type": "stream",
     "text": [
      "\r",
      " 87%|██████████████████████████████████████████████████████████▉         | 866/1000 [05:21<00:47,  2.82it/s]"
     ]
    },
    {
     "name": "stderr",
     "output_type": "stream",
     "text": [
      "\r",
      " 87%|██████████████████████████████████████████████████████████▉         | 867/1000 [05:22<00:47,  2.80it/s]"
     ]
    },
    {
     "name": "stderr",
     "output_type": "stream",
     "text": [
      "\r",
      " 87%|███████████████████████████████████████████████████████████         | 868/1000 [05:22<00:46,  2.82it/s]"
     ]
    },
    {
     "name": "stderr",
     "output_type": "stream",
     "text": [
      "\r",
      " 87%|███████████████████████████████████████████████████████████         | 869/1000 [05:22<00:46,  2.80it/s]"
     ]
    },
    {
     "name": "stderr",
     "output_type": "stream",
     "text": [
      "\r",
      " 87%|███████████████████████████████████████████████████████████▏        | 870/1000 [05:23<00:46,  2.79it/s]"
     ]
    },
    {
     "name": "stderr",
     "output_type": "stream",
     "text": [
      "\r",
      " 87%|███████████████████████████████████████████████████████████▏        | 871/1000 [05:23<00:47,  2.74it/s]"
     ]
    },
    {
     "name": "stderr",
     "output_type": "stream",
     "text": [
      "\r",
      " 87%|███████████████████████████████████████████████████████████▎        | 872/1000 [05:23<00:47,  2.70it/s]"
     ]
    },
    {
     "name": "stderr",
     "output_type": "stream",
     "text": [
      "\r",
      " 87%|███████████████████████████████████████████████████████████▎        | 873/1000 [05:24<00:47,  2.66it/s]"
     ]
    },
    {
     "name": "stderr",
     "output_type": "stream",
     "text": [
      "\r",
      " 87%|███████████████████████████████████████████████████████████▍        | 874/1000 [05:24<00:47,  2.67it/s]"
     ]
    },
    {
     "name": "stderr",
     "output_type": "stream",
     "text": [
      "\r",
      " 88%|███████████████████████████████████████████████████████████▌        | 875/1000 [05:24<00:46,  2.68it/s]"
     ]
    },
    {
     "name": "stderr",
     "output_type": "stream",
     "text": [
      "\r",
      " 88%|███████████████████████████████████████████████████████████▌        | 876/1000 [05:25<00:45,  2.75it/s]"
     ]
    },
    {
     "name": "stderr",
     "output_type": "stream",
     "text": [
      "\r",
      " 88%|███████████████████████████████████████████████████████████▋        | 877/1000 [05:25<00:44,  2.79it/s]"
     ]
    },
    {
     "name": "stderr",
     "output_type": "stream",
     "text": [
      "\r",
      " 88%|███████████████████████████████████████████████████████████▋        | 878/1000 [05:26<00:43,  2.83it/s]"
     ]
    },
    {
     "name": "stderr",
     "output_type": "stream",
     "text": [
      "\r",
      " 88%|███████████████████████████████████████████████████████████▊        | 879/1000 [05:26<00:42,  2.84it/s]"
     ]
    },
    {
     "name": "stderr",
     "output_type": "stream",
     "text": [
      "\r",
      " 88%|███████████████████████████████████████████████████████████▊        | 880/1000 [05:26<00:43,  2.76it/s]"
     ]
    },
    {
     "name": "stderr",
     "output_type": "stream",
     "text": [
      "\r",
      " 88%|███████████████████████████████████████████████████████████▉        | 881/1000 [05:27<00:43,  2.71it/s]"
     ]
    },
    {
     "name": "stderr",
     "output_type": "stream",
     "text": [
      "\r",
      " 88%|███████████████████████████████████████████████████████████▉        | 882/1000 [05:27<00:43,  2.70it/s]"
     ]
    },
    {
     "name": "stderr",
     "output_type": "stream",
     "text": [
      "\r",
      " 88%|████████████████████████████████████████████████████████████        | 883/1000 [05:27<00:43,  2.72it/s]"
     ]
    },
    {
     "name": "stderr",
     "output_type": "stream",
     "text": [
      "\r",
      " 88%|████████████████████████████████████████████████████████████        | 884/1000 [05:28<00:42,  2.76it/s]"
     ]
    },
    {
     "name": "stderr",
     "output_type": "stream",
     "text": [
      "\r",
      " 88%|████████████████████████████████████████████████████████████▏       | 885/1000 [05:28<00:41,  2.77it/s]"
     ]
    },
    {
     "name": "stderr",
     "output_type": "stream",
     "text": [
      "\r",
      " 89%|████████████████████████████████████████████████████████████▏       | 886/1000 [05:28<00:40,  2.81it/s]"
     ]
    },
    {
     "name": "stderr",
     "output_type": "stream",
     "text": [
      "\r",
      " 89%|████████████████████████████████████████████████████████████▎       | 887/1000 [05:29<00:40,  2.82it/s]"
     ]
    },
    {
     "name": "stderr",
     "output_type": "stream",
     "text": [
      "\r",
      " 89%|████████████████████████████████████████████████████████████▍       | 888/1000 [05:29<00:39,  2.83it/s]"
     ]
    },
    {
     "name": "stderr",
     "output_type": "stream",
     "text": [
      "\r",
      " 89%|████████████████████████████████████████████████████████████▍       | 889/1000 [05:29<00:39,  2.83it/s]"
     ]
    },
    {
     "name": "stderr",
     "output_type": "stream",
     "text": [
      "\r",
      " 89%|████████████████████████████████████████████████████████████▌       | 890/1000 [05:30<00:38,  2.84it/s]"
     ]
    },
    {
     "name": "stderr",
     "output_type": "stream",
     "text": [
      "\r",
      " 89%|████████████████████████████████████████████████████████████▌       | 891/1000 [05:30<00:39,  2.79it/s]"
     ]
    },
    {
     "name": "stderr",
     "output_type": "stream",
     "text": [
      "\r",
      " 89%|████████████████████████████████████████████████████████████▋       | 892/1000 [05:31<00:38,  2.81it/s]"
     ]
    },
    {
     "name": "stderr",
     "output_type": "stream",
     "text": [
      "\r",
      " 89%|████████████████████████████████████████████████████████████▋       | 893/1000 [05:31<00:37,  2.85it/s]"
     ]
    },
    {
     "name": "stderr",
     "output_type": "stream",
     "text": [
      "\r",
      " 89%|████████████████████████████████████████████████████████████▊       | 894/1000 [05:31<00:37,  2.79it/s]"
     ]
    },
    {
     "name": "stderr",
     "output_type": "stream",
     "text": [
      "\r",
      " 90%|████████████████████████████████████████████████████████████▊       | 895/1000 [05:32<00:37,  2.77it/s]"
     ]
    },
    {
     "name": "stderr",
     "output_type": "stream",
     "text": [
      "\r",
      " 90%|████████████████████████████████████████████████████████████▉       | 896/1000 [05:32<00:38,  2.73it/s]"
     ]
    },
    {
     "name": "stderr",
     "output_type": "stream",
     "text": [
      "\r",
      " 90%|████████████████████████████████████████████████████████████▉       | 897/1000 [05:32<00:38,  2.68it/s]"
     ]
    },
    {
     "name": "stderr",
     "output_type": "stream",
     "text": [
      "\r",
      " 90%|█████████████████████████████████████████████████████████████       | 898/1000 [05:33<00:38,  2.68it/s]"
     ]
    },
    {
     "name": "stderr",
     "output_type": "stream",
     "text": [
      "\r",
      " 90%|█████████████████████████████████████████████████████████████▏      | 899/1000 [05:33<00:37,  2.70it/s]"
     ]
    },
    {
     "name": "stderr",
     "output_type": "stream",
     "text": [
      "\r",
      " 90%|█████████████████████████████████████████████████████████████▏      | 900/1000 [05:33<00:36,  2.73it/s]"
     ]
    },
    {
     "name": "stderr",
     "output_type": "stream",
     "text": [
      "\r",
      " 90%|█████████████████████████████████████████████████████████████▎      | 901/1000 [05:34<00:35,  2.76it/s]"
     ]
    },
    {
     "name": "stderr",
     "output_type": "stream",
     "text": [
      "\r",
      " 90%|█████████████████████████████████████████████████████████████▎      | 902/1000 [05:34<00:35,  2.78it/s]"
     ]
    },
    {
     "name": "stderr",
     "output_type": "stream",
     "text": [
      "\r",
      " 90%|█████████████████████████████████████████████████████████████▍      | 903/1000 [05:35<00:34,  2.79it/s]"
     ]
    },
    {
     "name": "stderr",
     "output_type": "stream",
     "text": [
      "\r",
      " 90%|█████████████████████████████████████████████████████████████▍      | 904/1000 [05:35<00:34,  2.77it/s]"
     ]
    },
    {
     "name": "stderr",
     "output_type": "stream",
     "text": [
      "\r",
      " 90%|█████████████████████████████████████████████████████████████▌      | 905/1000 [05:35<00:34,  2.79it/s]"
     ]
    },
    {
     "name": "stderr",
     "output_type": "stream",
     "text": [
      "\r",
      " 91%|█████████████████████████████████████████████████████████████▌      | 906/1000 [05:36<00:33,  2.81it/s]"
     ]
    },
    {
     "name": "stderr",
     "output_type": "stream",
     "text": [
      "\r",
      " 91%|█████████████████████████████████████████████████████████████▋      | 907/1000 [05:36<00:33,  2.78it/s]"
     ]
    },
    {
     "name": "stderr",
     "output_type": "stream",
     "text": [
      "\r",
      " 91%|█████████████████████████████████████████████████████████████▋      | 908/1000 [05:36<00:32,  2.79it/s]"
     ]
    },
    {
     "name": "stderr",
     "output_type": "stream",
     "text": [
      "\r",
      " 91%|█████████████████████████████████████████████████████████████▊      | 909/1000 [05:37<00:34,  2.66it/s]"
     ]
    },
    {
     "name": "stderr",
     "output_type": "stream",
     "text": [
      "\r",
      " 91%|█████████████████████████████████████████████████████████████▉      | 910/1000 [05:37<00:33,  2.67it/s]"
     ]
    },
    {
     "name": "stderr",
     "output_type": "stream",
     "text": [
      "\r",
      " 91%|█████████████████████████████████████████████████████████████▉      | 911/1000 [05:37<00:32,  2.72it/s]"
     ]
    },
    {
     "name": "stderr",
     "output_type": "stream",
     "text": [
      "\r",
      " 91%|██████████████████████████████████████████████████████████████      | 912/1000 [05:38<00:31,  2.76it/s]"
     ]
    },
    {
     "name": "stderr",
     "output_type": "stream",
     "text": [
      "\r",
      " 91%|██████████████████████████████████████████████████████████████      | 913/1000 [05:38<00:31,  2.80it/s]"
     ]
    },
    {
     "name": "stderr",
     "output_type": "stream",
     "text": [
      "\r",
      " 91%|██████████████████████████████████████████████████████████████▏     | 914/1000 [05:39<00:30,  2.80it/s]"
     ]
    },
    {
     "name": "stderr",
     "output_type": "stream",
     "text": [
      "\r",
      " 92%|██████████████████████████████████████████████████████████████▏     | 915/1000 [05:39<00:30,  2.79it/s]"
     ]
    },
    {
     "name": "stderr",
     "output_type": "stream",
     "text": [
      "\r",
      " 92%|██████████████████████████████████████████████████████████████▎     | 916/1000 [05:39<00:30,  2.80it/s]"
     ]
    },
    {
     "name": "stderr",
     "output_type": "stream",
     "text": [
      "\r",
      " 92%|██████████████████████████████████████████████████████████████▎     | 917/1000 [05:40<00:29,  2.79it/s]"
     ]
    },
    {
     "name": "stderr",
     "output_type": "stream",
     "text": [
      "\r",
      " 92%|██████████████████████████████████████████████████████████████▍     | 918/1000 [05:40<00:29,  2.79it/s]"
     ]
    },
    {
     "name": "stderr",
     "output_type": "stream",
     "text": [
      "\r",
      " 92%|██████████████████████████████████████████████████████████████▍     | 919/1000 [05:40<00:28,  2.81it/s]"
     ]
    },
    {
     "name": "stderr",
     "output_type": "stream",
     "text": [
      "\r",
      " 92%|██████████████████████████████████████████████████████████████▌     | 920/1000 [05:41<00:28,  2.80it/s]"
     ]
    },
    {
     "name": "stderr",
     "output_type": "stream",
     "text": [
      "\r",
      " 92%|██████████████████████████████████████████████████████████████▋     | 921/1000 [05:41<00:27,  2.83it/s]"
     ]
    },
    {
     "name": "stderr",
     "output_type": "stream",
     "text": [
      "\r",
      " 92%|██████████████████████████████████████████████████████████████▋     | 922/1000 [05:41<00:27,  2.83it/s]"
     ]
    },
    {
     "name": "stderr",
     "output_type": "stream",
     "text": [
      "\r",
      " 92%|██████████████████████████████████████████████████████████████▊     | 923/1000 [05:42<00:27,  2.80it/s]"
     ]
    },
    {
     "name": "stderr",
     "output_type": "stream",
     "text": [
      "\r",
      " 92%|██████████████████████████████████████████████████████████████▊     | 924/1000 [05:42<00:27,  2.74it/s]"
     ]
    },
    {
     "name": "stderr",
     "output_type": "stream",
     "text": [
      "\r",
      " 92%|██████████████████████████████████████████████████████████████▉     | 925/1000 [05:42<00:27,  2.75it/s]"
     ]
    },
    {
     "name": "stderr",
     "output_type": "stream",
     "text": [
      "\r",
      " 93%|██████████████████████████████████████████████████████████████▉     | 926/1000 [05:43<00:26,  2.76it/s]"
     ]
    },
    {
     "name": "stderr",
     "output_type": "stream",
     "text": [
      "\r",
      " 93%|███████████████████████████████████████████████████████████████     | 927/1000 [05:43<00:26,  2.78it/s]"
     ]
    },
    {
     "name": "stderr",
     "output_type": "stream",
     "text": [
      "\r",
      " 93%|███████████████████████████████████████████████████████████████     | 928/1000 [05:44<00:25,  2.80it/s]"
     ]
    },
    {
     "name": "stderr",
     "output_type": "stream",
     "text": [
      "\r",
      " 93%|███████████████████████████████████████████████████████████████▏    | 929/1000 [05:44<00:26,  2.70it/s]"
     ]
    },
    {
     "name": "stderr",
     "output_type": "stream",
     "text": [
      "\r",
      " 93%|███████████████████████████████████████████████████████████████▏    | 930/1000 [05:44<00:26,  2.67it/s]"
     ]
    },
    {
     "name": "stderr",
     "output_type": "stream",
     "text": [
      "\r",
      " 93%|███████████████████████████████████████████████████████████████▎    | 931/1000 [05:45<00:27,  2.52it/s]"
     ]
    },
    {
     "name": "stderr",
     "output_type": "stream",
     "text": [
      "\r",
      " 93%|███████████████████████████████████████████████████████████████▍    | 932/1000 [05:45<00:26,  2.54it/s]"
     ]
    },
    {
     "name": "stderr",
     "output_type": "stream",
     "text": [
      "\r",
      " 93%|███████████████████████████████████████████████████████████████▍    | 933/1000 [05:46<00:25,  2.63it/s]"
     ]
    },
    {
     "name": "stderr",
     "output_type": "stream",
     "text": [
      "\r",
      " 93%|███████████████████████████████████████████████████████████████▌    | 934/1000 [05:46<00:24,  2.75it/s]"
     ]
    },
    {
     "name": "stderr",
     "output_type": "stream",
     "text": [
      "\r",
      " 94%|███████████████████████████████████████████████████████████████▌    | 935/1000 [05:46<00:23,  2.75it/s]"
     ]
    },
    {
     "name": "stderr",
     "output_type": "stream",
     "text": [
      "\r",
      " 94%|███████████████████████████████████████████████████████████████▋    | 936/1000 [05:47<00:23,  2.67it/s]"
     ]
    },
    {
     "name": "stderr",
     "output_type": "stream",
     "text": [
      "\r",
      " 94%|███████████████████████████████████████████████████████████████▋    | 937/1000 [05:47<00:23,  2.63it/s]"
     ]
    },
    {
     "name": "stderr",
     "output_type": "stream",
     "text": [
      "\r",
      " 94%|███████████████████████████████████████████████████████████████▊    | 938/1000 [05:47<00:23,  2.67it/s]"
     ]
    },
    {
     "name": "stderr",
     "output_type": "stream",
     "text": [
      "\r",
      " 94%|███████████████████████████████████████████████████████████████▊    | 939/1000 [05:48<00:22,  2.75it/s]"
     ]
    },
    {
     "name": "stderr",
     "output_type": "stream",
     "text": [
      "\r",
      " 94%|███████████████████████████████████████████████████████████████▉    | 940/1000 [05:48<00:21,  2.75it/s]"
     ]
    },
    {
     "name": "stderr",
     "output_type": "stream",
     "text": [
      "\r",
      " 94%|███████████████████████████████████████████████████████████████▉    | 941/1000 [05:48<00:21,  2.75it/s]"
     ]
    },
    {
     "name": "stderr",
     "output_type": "stream",
     "text": [
      "\r",
      " 94%|████████████████████████████████████████████████████████████████    | 942/1000 [05:49<00:20,  2.80it/s]"
     ]
    },
    {
     "name": "stderr",
     "output_type": "stream",
     "text": [
      "\r",
      " 94%|████████████████████████████████████████████████████████████████    | 943/1000 [05:49<00:20,  2.78it/s]"
     ]
    },
    {
     "name": "stderr",
     "output_type": "stream",
     "text": [
      "\r",
      " 94%|████████████████████████████████████████████████████████████████▏   | 944/1000 [05:50<00:20,  2.77it/s]"
     ]
    },
    {
     "name": "stderr",
     "output_type": "stream",
     "text": [
      "\r",
      " 94%|████████████████████████████████████████████████████████████████▎   | 945/1000 [05:50<00:19,  2.83it/s]"
     ]
    },
    {
     "name": "stderr",
     "output_type": "stream",
     "text": [
      "\r",
      " 95%|████████████████████████████████████████████████████████████████▎   | 946/1000 [05:50<00:18,  2.86it/s]"
     ]
    },
    {
     "name": "stderr",
     "output_type": "stream",
     "text": [
      "\r",
      " 95%|████████████████████████████████████████████████████████████████▍   | 947/1000 [05:51<00:18,  2.89it/s]"
     ]
    },
    {
     "name": "stderr",
     "output_type": "stream",
     "text": [
      "\r",
      " 95%|████████████████████████████████████████████████████████████████▍   | 948/1000 [05:51<00:17,  2.91it/s]"
     ]
    },
    {
     "name": "stderr",
     "output_type": "stream",
     "text": [
      "\r",
      " 95%|████████████████████████████████████████████████████████████████▌   | 949/1000 [05:51<00:17,  2.85it/s]"
     ]
    },
    {
     "name": "stderr",
     "output_type": "stream",
     "text": [
      "\r",
      " 95%|████████████████████████████████████████████████████████████████▌   | 950/1000 [05:52<00:17,  2.84it/s]"
     ]
    },
    {
     "name": "stderr",
     "output_type": "stream",
     "text": [
      "\r",
      " 95%|████████████████████████████████████████████████████████████████▋   | 951/1000 [05:52<00:17,  2.88it/s]"
     ]
    },
    {
     "name": "stderr",
     "output_type": "stream",
     "text": [
      "\r",
      " 95%|████████████████████████████████████████████████████████████████▋   | 952/1000 [05:52<00:16,  2.90it/s]"
     ]
    },
    {
     "name": "stderr",
     "output_type": "stream",
     "text": [
      "\r",
      " 95%|████████████████████████████████████████████████████████████████▊   | 953/1000 [05:53<00:16,  2.90it/s]"
     ]
    },
    {
     "name": "stderr",
     "output_type": "stream",
     "text": [
      "\r",
      " 95%|████████████████████████████████████████████████████████████████▊   | 954/1000 [05:53<00:16,  2.86it/s]"
     ]
    },
    {
     "name": "stderr",
     "output_type": "stream",
     "text": [
      "\r",
      " 96%|████████████████████████████████████████████████████████████████▉   | 955/1000 [05:53<00:15,  2.83it/s]"
     ]
    },
    {
     "name": "stderr",
     "output_type": "stream",
     "text": [
      "\r",
      " 96%|█████████████████████████████████████████████████████████████████   | 956/1000 [05:54<00:15,  2.81it/s]"
     ]
    },
    {
     "name": "stderr",
     "output_type": "stream",
     "text": [
      "\r",
      " 96%|█████████████████████████████████████████████████████████████████   | 957/1000 [05:54<00:15,  2.82it/s]"
     ]
    },
    {
     "name": "stderr",
     "output_type": "stream",
     "text": [
      "\r",
      " 96%|█████████████████████████████████████████████████████████████████▏  | 958/1000 [05:54<00:15,  2.79it/s]"
     ]
    },
    {
     "name": "stderr",
     "output_type": "stream",
     "text": [
      "\r",
      " 96%|█████████████████████████████████████████████████████████████████▏  | 959/1000 [05:55<00:14,  2.84it/s]"
     ]
    },
    {
     "name": "stderr",
     "output_type": "stream",
     "text": [
      "\r",
      " 96%|█████████████████████████████████████████████████████████████████▎  | 960/1000 [05:55<00:13,  2.86it/s]"
     ]
    },
    {
     "name": "stderr",
     "output_type": "stream",
     "text": [
      "\r",
      " 96%|█████████████████████████████████████████████████████████████████▎  | 961/1000 [05:55<00:13,  2.86it/s]"
     ]
    },
    {
     "name": "stderr",
     "output_type": "stream",
     "text": [
      "\r",
      " 96%|█████████████████████████████████████████████████████████████████▍  | 962/1000 [05:56<00:13,  2.85it/s]"
     ]
    },
    {
     "name": "stderr",
     "output_type": "stream",
     "text": [
      "\r",
      " 96%|█████████████████████████████████████████████████████████████████▍  | 963/1000 [05:56<00:12,  2.85it/s]"
     ]
    },
    {
     "name": "stderr",
     "output_type": "stream",
     "text": [
      "\r",
      " 96%|█████████████████████████████████████████████████████████████████▌  | 964/1000 [05:57<00:12,  2.83it/s]"
     ]
    },
    {
     "name": "stderr",
     "output_type": "stream",
     "text": [
      "\r",
      " 96%|█████████████████████████████████████████████████████████████████▌  | 965/1000 [05:57<00:12,  2.83it/s]"
     ]
    },
    {
     "name": "stderr",
     "output_type": "stream",
     "text": [
      "\r",
      " 97%|█████████████████████████████████████████████████████████████████▋  | 966/1000 [05:57<00:12,  2.81it/s]"
     ]
    },
    {
     "name": "stderr",
     "output_type": "stream",
     "text": [
      "\r",
      " 97%|█████████████████████████████████████████████████████████████████▊  | 967/1000 [05:58<00:11,  2.85it/s]"
     ]
    },
    {
     "name": "stderr",
     "output_type": "stream",
     "text": [
      "\r",
      " 97%|█████████████████████████████████████████████████████████████████▊  | 968/1000 [05:58<00:11,  2.87it/s]"
     ]
    },
    {
     "name": "stderr",
     "output_type": "stream",
     "text": [
      "\r",
      " 97%|█████████████████████████████████████████████████████████████████▉  | 969/1000 [05:58<00:10,  2.84it/s]"
     ]
    },
    {
     "name": "stderr",
     "output_type": "stream",
     "text": [
      "\r",
      " 97%|█████████████████████████████████████████████████████████████████▉  | 970/1000 [05:59<00:10,  2.84it/s]"
     ]
    },
    {
     "name": "stderr",
     "output_type": "stream",
     "text": [
      "\r",
      " 97%|██████████████████████████████████████████████████████████████████  | 971/1000 [05:59<00:10,  2.84it/s]"
     ]
    },
    {
     "name": "stderr",
     "output_type": "stream",
     "text": [
      "\r",
      " 97%|██████████████████████████████████████████████████████████████████  | 972/1000 [05:59<00:09,  2.85it/s]"
     ]
    },
    {
     "name": "stderr",
     "output_type": "stream",
     "text": [
      "\r",
      " 97%|██████████████████████████████████████████████████████████████████▏ | 973/1000 [06:00<00:09,  2.88it/s]"
     ]
    },
    {
     "name": "stderr",
     "output_type": "stream",
     "text": [
      "\r",
      " 97%|██████████████████████████████████████████████████████████████████▏ | 974/1000 [06:00<00:08,  2.92it/s]"
     ]
    },
    {
     "name": "stderr",
     "output_type": "stream",
     "text": [
      "\r",
      " 98%|██████████████████████████████████████████████████████████████████▎ | 975/1000 [06:00<00:08,  2.89it/s]"
     ]
    },
    {
     "name": "stderr",
     "output_type": "stream",
     "text": [
      "\r",
      " 98%|██████████████████████████████████████████████████████████████████▎ | 976/1000 [06:01<00:08,  2.88it/s]"
     ]
    },
    {
     "name": "stderr",
     "output_type": "stream",
     "text": [
      "\r",
      " 98%|██████████████████████████████████████████████████████████████████▍ | 977/1000 [06:01<00:08,  2.87it/s]"
     ]
    },
    {
     "name": "stderr",
     "output_type": "stream",
     "text": [
      "\r",
      " 98%|██████████████████████████████████████████████████████████████████▌ | 978/1000 [06:01<00:07,  2.90it/s]"
     ]
    },
    {
     "name": "stderr",
     "output_type": "stream",
     "text": [
      "\r",
      " 98%|██████████████████████████████████████████████████████████████████▌ | 979/1000 [06:02<00:07,  2.89it/s]"
     ]
    },
    {
     "name": "stderr",
     "output_type": "stream",
     "text": [
      "\r",
      " 98%|██████████████████████████████████████████████████████████████████▋ | 980/1000 [06:02<00:06,  2.86it/s]"
     ]
    },
    {
     "name": "stderr",
     "output_type": "stream",
     "text": [
      "\r",
      " 98%|██████████████████████████████████████████████████████████████████▋ | 981/1000 [06:02<00:06,  2.88it/s]"
     ]
    },
    {
     "name": "stderr",
     "output_type": "stream",
     "text": [
      "\r",
      " 98%|██████████████████████████████████████████████████████████████████▊ | 982/1000 [06:03<00:06,  2.91it/s]"
     ]
    },
    {
     "name": "stderr",
     "output_type": "stream",
     "text": [
      "\r",
      " 98%|██████████████████████████████████████████████████████████████████▊ | 983/1000 [06:03<00:05,  2.93it/s]"
     ]
    },
    {
     "name": "stderr",
     "output_type": "stream",
     "text": [
      "\r",
      " 98%|██████████████████████████████████████████████████████████████████▉ | 984/1000 [06:03<00:05,  2.94it/s]"
     ]
    },
    {
     "name": "stderr",
     "output_type": "stream",
     "text": [
      "\r",
      " 98%|██████████████████████████████████████████████████████████████████▉ | 985/1000 [06:04<00:05,  2.91it/s]"
     ]
    },
    {
     "name": "stderr",
     "output_type": "stream",
     "text": [
      "\r",
      " 99%|███████████████████████████████████████████████████████████████████ | 986/1000 [06:04<00:04,  2.89it/s]"
     ]
    },
    {
     "name": "stderr",
     "output_type": "stream",
     "text": [
      "\r",
      " 99%|███████████████████████████████████████████████████████████████████ | 987/1000 [06:05<00:04,  2.81it/s]"
     ]
    },
    {
     "name": "stderr",
     "output_type": "stream",
     "text": [
      "\r",
      " 99%|███████████████████████████████████████████████████████████████████▏| 988/1000 [06:05<00:04,  2.82it/s]"
     ]
    },
    {
     "name": "stderr",
     "output_type": "stream",
     "text": [
      "\r",
      " 99%|███████████████████████████████████████████████████████████████████▎| 989/1000 [06:05<00:03,  2.81it/s]"
     ]
    },
    {
     "name": "stderr",
     "output_type": "stream",
     "text": [
      "\r",
      " 99%|███████████████████████████████████████████████████████████████████▎| 990/1000 [06:06<00:03,  2.84it/s]"
     ]
    },
    {
     "name": "stderr",
     "output_type": "stream",
     "text": [
      "\r",
      " 99%|███████████████████████████████████████████████████████████████████▍| 991/1000 [06:06<00:03,  2.83it/s]"
     ]
    },
    {
     "name": "stderr",
     "output_type": "stream",
     "text": [
      "\r",
      " 99%|███████████████████████████████████████████████████████████████████▍| 992/1000 [06:06<00:02,  2.84it/s]"
     ]
    },
    {
     "name": "stderr",
     "output_type": "stream",
     "text": [
      "\r",
      " 99%|███████████████████████████████████████████████████████████████████▌| 993/1000 [06:07<00:02,  2.83it/s]"
     ]
    },
    {
     "name": "stderr",
     "output_type": "stream",
     "text": [
      "\r",
      " 99%|███████████████████████████████████████████████████████████████████▌| 994/1000 [06:07<00:02,  2.85it/s]"
     ]
    },
    {
     "name": "stderr",
     "output_type": "stream",
     "text": [
      "\r",
      "100%|███████████████████████████████████████████████████████████████████▋| 995/1000 [06:07<00:01,  2.81it/s]"
     ]
    },
    {
     "name": "stderr",
     "output_type": "stream",
     "text": [
      "\r",
      "100%|███████████████████████████████████████████████████████████████████▋| 996/1000 [06:08<00:01,  2.74it/s]"
     ]
    },
    {
     "name": "stderr",
     "output_type": "stream",
     "text": [
      "\r",
      "100%|███████████████████████████████████████████████████████████████████▊| 997/1000 [06:08<00:01,  2.78it/s]"
     ]
    },
    {
     "name": "stderr",
     "output_type": "stream",
     "text": [
      "\r",
      "100%|███████████████████████████████████████████████████████████████████▊| 998/1000 [06:08<00:00,  2.81it/s]"
     ]
    },
    {
     "name": "stderr",
     "output_type": "stream",
     "text": [
      "\r",
      "100%|███████████████████████████████████████████████████████████████████▉| 999/1000 [06:09<00:00,  2.86it/s]"
     ]
    },
    {
     "name": "stderr",
     "output_type": "stream",
     "text": [
      "\r",
      "100%|███████████████████████████████████████████████████████████████████| 1000/1000 [06:09<00:00,  2.86it/s]"
     ]
    },
    {
     "name": "stderr",
     "output_type": "stream",
     "text": [
      "\r",
      "100%|███████████████████████████████████████████████████████████████████| 1000/1000 [06:09<00:00,  2.70it/s]"
     ]
    },
    {
     "name": "stderr",
     "output_type": "stream",
     "text": [
      "\n"
     ]
    }
   ],
   "source": [
    "del pp_net.output_writer\n",
    "ow = pp.timeseries.OutputWriter(pp_net)\n",
    "ow.log_variable('res_bus_3ph', 'vm_a_pu', index=pp_net.bus.index)\n",
    "ow.log_variable('res_bus_3ph', 'vm_b_pu', index=pp_net.bus.index)\n",
    "ow.log_variable('res_bus_3ph', 'vm_c_pu', index=pp_net.bus.index)\n",
    "ow.log_variable('res_line_3ph', 'loading_percent', index=pp_net.line.index)\n",
    "\n",
    "# run\n",
    "start = time.time()\n",
    "pp.timeseries.run_timeseries(\n",
    "    pp_net,\n",
    "    run=pp.runpp_3ph,\n",
    "    time_steps=time_steps,\n",
    "    calculate_voltage_angles=True,\n",
    "    distributed_slack=True, \n",
    "    lightsim2grid=use_lightsim2grid\n",
    ")\n",
    "end = time.time()\n",
    "summary_df.loc['Time series asymmetric calculation', 'PandaPower Newton-Raphson'] = end - start"
   ]
  },
  {
   "cell_type": "markdown",
   "id": "03feb9a2",
   "metadata": {},
   "source": [
    "### Fix Point Method of OpenDSS"
   ]
  },
  {
   "cell_type": "code",
   "execution_count": 23,
   "id": "589779e3",
   "metadata": {},
   "outputs": [],
   "source": [
    "# first calculation with solver initialization\n",
    "start = time.time()\n",
    "dss_engine.Text.Command = \"set mode=Daily\"\n",
    "dss_engine.Text.Command = \"set Stepsize=3600s\"\n",
    "dss_engine.Text.Command = f\"set Number={n_step}\"\n",
    "dss_engine.Text.Command = \"set controlmode=static\"\n",
    "dss_engine.ActiveCircuit.Solution.Solve()\n",
    "end = time.time()\n",
    "summary_df.loc['Time series asymmetric calculation', 'OpenDSS Fix Point'] = end - start\n"
   ]
  },
  {
   "cell_type": "code",
   "execution_count": 24,
   "id": "dd8c7169",
   "metadata": {},
   "outputs": [],
   "source": [
    "# get results\n",
    "all_results = []\n",
    "\n",
    "# source\n",
    "flag = dss_engine.ActiveCircuit.Monitors.First\n",
    "assert flag != 0\n",
    "all_results += [dss_engine.ActiveCircuit.Monitors.Channel(1), dss_engine.ActiveCircuit.Monitors.Channel(2), dss_engine.ActiveCircuit.Monitors.Channel(3)]\n",
    "\n",
    "# others\n",
    "flag = dss_engine.ActiveCircuit.Monitors.Next\n",
    "while flag != 0:\n",
    "    all_results.append(dss_engine.ActiveCircuit.Monitors.Channel(1))\n",
    "    flag = dss_engine.ActiveCircuit.Monitors.Next\n",
    "\n",
    "dss_voltage = np.stack(all_results, axis=1)\n",
    "dss_voltage = dss_voltage.reshape(n_step, -1, 3)\n",
    "dss_voltage /= 10e3 / np.sqrt(3)\n"
   ]
  },
  {
   "cell_type": "markdown",
   "id": "28d06b1a",
   "metadata": {},
   "source": [
    "### Calculate Deviation for Newton-Raphson Method"
   ]
  },
  {
   "cell_type": "code",
   "execution_count": 25,
   "id": "1a7f075f",
   "metadata": {},
   "outputs": [],
   "source": [
    "pp_u_pu = []\n",
    "for p in ['a', 'b', 'c']:\n",
    "    pp_u_pu.append(pp_net.output_writer.iloc[0, 0].output[f'res_bus_3ph.vm_{p}_pu'].to_numpy())\n",
    "pp_u_pu = np.stack(pp_u_pu, axis=-1)\n",
    "comparison_df.loc['Time series asymmetric calculation', 'Deviation Voltage (p.u.)'] = \\\n",
    "    np.abs(pp_u_pu - pgm_result['node']['u_pu']).max()\n",
    "\n",
    "pp_loading = pp_net.output_writer.iloc[0, 0].output[r'res_line_3ph.loading_percent'].to_numpy() * 1e-2\n",
    "comparison_df.loc['Time series asymmetric calculation', 'Deviation Loading (p.u.)'] = \\\n",
    "    np.abs(pp_loading - pgm_result['line']['loading']).max()\n",
    "\n",
    "comparison_df.loc['Time series asymmetric calculation', 'Deviation Voltage (p.u.) OpenDSS'] = \\\n",
    "    np.abs(dss_voltage - pgm_result['node']['u_pu']).max()"
   ]
  },
  {
   "cell_type": "markdown",
   "id": "5b259f80",
   "metadata": {},
   "source": [
    "# N-1 Scenario Calculation\n",
    "\n",
    "We execute a N-1 scenario calculation. There are `n_line` scenarios. In each scenario one line will be disabled. Since the original network is radial, part of the network will be unenergized due to the switch-off of a line.\n",
    "\n",
    "## Preparation\n",
    "\n",
    "The N-1 scenario input is generated for `power-grid-model`. Since `pandapower` does not have a built-in N-1 scenario calculation, we execute the power flow per scenario in a loop."
   ]
  },
  {
   "cell_type": "code",
   "execution_count": 26,
   "id": "3bbe4faa",
   "metadata": {},
   "outputs": [],
   "source": [
    "# re-generate dataset\n",
    "\n",
    "pp_net = deepcopy(fictional_dataset[\"pp_net\"])\n",
    "pgm_dataset = fictional_dataset[\"pgm_dataset\"]\n",
    "\n",
    "# update dataset for power grid model\n",
    "# disable one line per batch\n",
    "pgm_line_profile = {\n",
    "    \"id\": pgm_dataset[\"line\"][\"id\"].reshape(-1, 1).copy(),\n",
    "    \"from_status\": np.zeros((n_line, 1), dtype=np.int8),\n",
    "    \"to_status\": np.zeros((n_line, 1), dtype=np.int8),\n",
    "}\n",
    "pgm_update_dataset = {\"line\": pgm_line_profile}"
   ]
  },
  {
   "cell_type": "markdown",
   "id": "7e7890a5",
   "metadata": {},
   "source": [
    "## Symmetric"
   ]
  },
  {
   "cell_type": "markdown",
   "id": "36a9bf89",
   "metadata": {},
   "source": [
    "### power-grid-model"
   ]
  },
  {
   "cell_type": "code",
   "execution_count": 27,
   "id": "ab0c5fc2",
   "metadata": {},
   "outputs": [],
   "source": [
    "pgm_result = benchmark_pgm_power_flow(symmetric=True, calculation_type='N-1 symmetric calculation', update_data=pgm_update_dataset)\n"
   ]
  },
  {
   "cell_type": "markdown",
   "id": "e9044a03",
   "metadata": {},
   "source": [
    "### Newton-Raphson Method of pandapower"
   ]
  },
  {
   "cell_type": "code",
   "execution_count": 28,
   "id": "d1a08656",
   "metadata": {},
   "outputs": [],
   "source": [
    "# prepare pandapower result dataset\n",
    "pp_u_pu = np.empty(shape=(n_line, n_node), dtype=np.float64)\n",
    "pp_loading = np.empty(shape=(n_line, n_line), dtype=np.float64)\n",
    "\n",
    "start = time.time()\n",
    "# loop to calcualte pandapower N-1\n",
    "for i in pp_net.line.index:\n",
    "    # set one line out of service\n",
    "    pp_net.line.loc[i, 'in_service'] = False\n",
    "    pp.runpp(pp_net, algorithm='nr', calculate_voltage_angles=True, distributed_slack=True, lightsim2grid=use_lightsim2grid)\n",
    "    # restore that line\n",
    "    pp_net.line.loc[i, 'in_service'] = True\n",
    "    # get result\n",
    "    pp_u_pu[i, :] = pp_net.res_bus['vm_pu']\n",
    "    pp_loading[i, :] = pp_net.res_line['loading_percent'] * 1e-2\n",
    "end = time.time()\n",
    "summary_df.loc['N-1 symmetric calculation', 'PandaPower Newton-Raphson'] = end - start\n",
    "\n",
    "# set nan to 0.0 to make a meaningful comparison\n",
    "pp_u_pu[np.isnan(pp_u_pu)] = 0.0\n",
    "pp_loading[np.isnan(pp_loading)] = 0.0"
   ]
  },
  {
   "cell_type": "markdown",
   "id": "59d1eb45",
   "metadata": {},
   "source": [
    "### Calculate Deviation for Newton-Raphson Method"
   ]
  },
  {
   "cell_type": "code",
   "execution_count": 29,
   "id": "040c08a0",
   "metadata": {},
   "outputs": [],
   "source": [
    "comparison_df.loc['N-1 symmetric calculation', 'Deviation Voltage (p.u.)'] = \\\n",
    "    np.abs(pp_u_pu - pgm_result['node']['u_pu']).max()\n",
    "comparison_df.loc['N-1 symmetric calculation', 'Deviation Loading (p.u.)'] = \\\n",
    "    np.abs(pp_loading - pgm_result['line']['loading']).max()"
   ]
  },
  {
   "cell_type": "markdown",
   "id": "e88d7a46",
   "metadata": {},
   "source": [
    "## Asymmetric"
   ]
  },
  {
   "cell_type": "markdown",
   "id": "162236d4",
   "metadata": {},
   "source": [
    "### power-grid-model"
   ]
  },
  {
   "cell_type": "code",
   "execution_count": 30,
   "id": "c0e18e41",
   "metadata": {},
   "outputs": [],
   "source": [
    "pgm_result = benchmark_pgm_power_flow(symmetric=False, calculation_type='N-1 asymmetric calculation', update_data=pgm_update_dataset)\n"
   ]
  },
  {
   "cell_type": "markdown",
   "id": "cf3913e3",
   "metadata": {},
   "source": [
    "### Newton-Raphson Method of pandapower"
   ]
  },
  {
   "cell_type": "code",
   "execution_count": 31,
   "id": "65ecfde0",
   "metadata": {},
   "outputs": [],
   "source": [
    "%%capture\n",
    "\n",
    "# prepare pandapower result dataset\n",
    "pp_u_pu = np.empty(shape=(n_line, n_node, 3), dtype=np.float64)\n",
    "pp_loading = np.empty(shape=(n_line, n_line), dtype=np.float64)\n",
    "\n",
    "start = time.time()\n",
    "# loop to calcualte pandapower N-1\n",
    "for i in pp_net.line.index:\n",
    "    # set one line out of service\n",
    "    pp_net.line.loc[i, 'in_service'] = False\n",
    "    pp.runpp_3ph(pp_net, algorithm='nr', calculate_voltage_angles=True, distributed_slack=True, lightsim2grid=use_lightsim2grid)\n",
    "    # restore that line\n",
    "    pp_net.line.loc[i, 'in_service'] = True\n",
    "    # get result\n",
    "    pp_u_pu[i, ...] = pp_net.res_bus_3ph[['vm_a_pu', 'vm_b_pu', 'vm_c_pu']]\n",
    "    pp_loading[i, :] = pp_net.res_line_3ph['loading_percent'] * 1e-2\n",
    "end = time.time()\n",
    "summary_df.loc['N-1 asymmetric calculation', 'PandaPower Newton-Raphson'] = end - start\n",
    "\n",
    "# set nan to 0.0 to make a meaningful comparison\n",
    "pp_u_pu[np.isnan(pp_u_pu)] = 0.0\n",
    "pp_loading[np.isnan(pp_loading)] = 0.0"
   ]
  },
  {
   "cell_type": "markdown",
   "id": "6be215a8",
   "metadata": {},
   "source": [
    "### Calculate Deviation for Newton-Raphson Method"
   ]
  },
  {
   "cell_type": "code",
   "execution_count": 32,
   "id": "11accf7c",
   "metadata": {},
   "outputs": [],
   "source": [
    "comparison_df.loc['N-1 asymmetric calculation', 'Deviation Voltage (p.u.)'] = \\\n",
    "    np.abs(pp_u_pu - pgm_result['node']['u_pu']).max()\n",
    "comparison_df.loc['N-1 asymmetric calculation', 'Deviation Loading (p.u.)'] = \\\n",
    "    np.abs(pp_loading - pgm_result['line']['loading']).max()"
   ]
  },
  {
   "cell_type": "markdown",
   "id": "ff983dfb",
   "metadata": {},
   "source": [
    "# Summary"
   ]
  },
  {
   "cell_type": "markdown",
   "id": "1438d2af",
   "metadata": {},
   "source": [
    "## Deviation of Results\n",
    "\n",
    "Below is the table of deviation between the results from `power-grid-model`, `pandapower`, and `OpenDSS`. It matches to the order of `1e-6`. Note there are no comparisons for `OpenDSS` for symmetric calculations."
   ]
  },
  {
   "cell_type": "code",
   "execution_count": 33,
   "id": "300e650a",
   "metadata": {},
   "outputs": [
    {
     "data": {
      "text/html": [
       "<div>\n",
       "<style scoped>\n",
       "    .dataframe tbody tr th:only-of-type {\n",
       "        vertical-align: middle;\n",
       "    }\n",
       "\n",
       "    .dataframe tbody tr th {\n",
       "        vertical-align: top;\n",
       "    }\n",
       "\n",
       "    .dataframe thead th {\n",
       "        text-align: right;\n",
       "    }\n",
       "</style>\n",
       "<table border=\"1\" class=\"dataframe\">\n",
       "  <thead>\n",
       "    <tr style=\"text-align: right;\">\n",
       "      <th></th>\n",
       "      <th>Deviation Voltage (p.u.)</th>\n",
       "      <th>Deviation Loading (p.u.)</th>\n",
       "      <th>Deviation Voltage (p.u.) OpenDSS</th>\n",
       "    </tr>\n",
       "  </thead>\n",
       "  <tbody>\n",
       "    <tr>\n",
       "      <th>Symmetric calculation</th>\n",
       "      <td>1.623590e-12</td>\n",
       "      <td>5.166423e-13</td>\n",
       "      <td>NaN</td>\n",
       "    </tr>\n",
       "    <tr>\n",
       "      <th>Asymmetric calculation</th>\n",
       "      <td>5.796954e-10</td>\n",
       "      <td>8.192067e-09</td>\n",
       "      <td>5.401338e-09</td>\n",
       "    </tr>\n",
       "    <tr>\n",
       "      <th>Time series symmetric calculation</th>\n",
       "      <td>1.783462e-12</td>\n",
       "      <td>1.300737e-12</td>\n",
       "      <td>NaN</td>\n",
       "    </tr>\n",
       "    <tr>\n",
       "      <th>Time series asymmetric calculation</th>\n",
       "      <td>5.894751e-10</td>\n",
       "      <td>3.375877e-09</td>\n",
       "      <td>4.059398e-06</td>\n",
       "    </tr>\n",
       "    <tr>\n",
       "      <th>N-1 symmetric calculation</th>\n",
       "      <td>1.634692e-12</td>\n",
       "      <td>6.065148e-13</td>\n",
       "      <td>NaN</td>\n",
       "    </tr>\n",
       "    <tr>\n",
       "      <th>N-1 asymmetric calculation</th>\n",
       "      <td>5.797138e-10</td>\n",
       "      <td>8.192209e-09</td>\n",
       "      <td>NaN</td>\n",
       "    </tr>\n",
       "  </tbody>\n",
       "</table>\n",
       "</div>"
      ],
      "text/plain": [
       "                                    Deviation Voltage (p.u.)  \\\n",
       "Symmetric calculation                           1.623590e-12   \n",
       "Asymmetric calculation                          5.796954e-10   \n",
       "Time series symmetric calculation               1.783462e-12   \n",
       "Time series asymmetric calculation              5.894751e-10   \n",
       "N-1 symmetric calculation                       1.634692e-12   \n",
       "N-1 asymmetric calculation                      5.797138e-10   \n",
       "\n",
       "                                    Deviation Loading (p.u.)  \\\n",
       "Symmetric calculation                           5.166423e-13   \n",
       "Asymmetric calculation                          8.192067e-09   \n",
       "Time series symmetric calculation               1.300737e-12   \n",
       "Time series asymmetric calculation              3.375877e-09   \n",
       "N-1 symmetric calculation                       6.065148e-13   \n",
       "N-1 asymmetric calculation                      8.192209e-09   \n",
       "\n",
       "                                    Deviation Voltage (p.u.) OpenDSS  \n",
       "Symmetric calculation                                            NaN  \n",
       "Asymmetric calculation                                  5.401338e-09  \n",
       "Time series symmetric calculation                                NaN  \n",
       "Time series asymmetric calculation                      4.059398e-06  \n",
       "N-1 symmetric calculation                                        NaN  \n",
       "N-1 asymmetric calculation                                       NaN  "
      ]
     },
     "metadata": {},
     "output_type": "display_data"
    }
   ],
   "source": [
    "display(comparison_df)"
   ]
  },
  {
   "cell_type": "markdown",
   "id": "88cff8be",
   "metadata": {},
   "source": [
    "## Performance Comparison\n",
    "\n",
    "Below is the table of the measured time of all calculations. Note there are no comparisons for `OpenDSS` for symmetric calculations."
   ]
  },
  {
   "cell_type": "code",
   "execution_count": 34,
   "id": "4f897355",
   "metadata": {},
   "outputs": [
    {
     "data": {
      "text/html": [
       "<div>\n",
       "<style scoped>\n",
       "    .dataframe tbody tr th:only-of-type {\n",
       "        vertical-align: middle;\n",
       "    }\n",
       "\n",
       "    .dataframe tbody tr th {\n",
       "        vertical-align: top;\n",
       "    }\n",
       "\n",
       "    .dataframe thead th {\n",
       "        text-align: right;\n",
       "    }\n",
       "</style>\n",
       "<table border=\"1\" class=\"dataframe\">\n",
       "  <thead>\n",
       "    <tr style=\"text-align: right;\">\n",
       "      <th></th>\n",
       "      <th>PGM Linear Impedance</th>\n",
       "      <th>PGM Linear Current</th>\n",
       "      <th>PGM Newton-Raphson</th>\n",
       "      <th>PGM Iterative Current</th>\n",
       "      <th>PandaPower Newton-Raphson</th>\n",
       "      <th>OpenDSS Fix Point</th>\n",
       "    </tr>\n",
       "  </thead>\n",
       "  <tbody>\n",
       "    <tr>\n",
       "      <th>Symmetric calculation with solver initialization</th>\n",
       "      <td>0.000826</td>\n",
       "      <td>0.001251</td>\n",
       "      <td>0.001370</td>\n",
       "      <td>0.000958</td>\n",
       "      <td>0.019768</td>\n",
       "      <td>inf</td>\n",
       "    </tr>\n",
       "    <tr>\n",
       "      <th>Symmetric calculation without solver initialization</th>\n",
       "      <td>0.000296</td>\n",
       "      <td>0.000307</td>\n",
       "      <td>0.000554</td>\n",
       "      <td>0.000414</td>\n",
       "      <td>0.013425</td>\n",
       "      <td>inf</td>\n",
       "    </tr>\n",
       "    <tr>\n",
       "      <th>Asymmetric calculation with solver initialization</th>\n",
       "      <td>0.001525</td>\n",
       "      <td>0.001365</td>\n",
       "      <td>0.003647</td>\n",
       "      <td>0.001905</td>\n",
       "      <td>0.914279</td>\n",
       "      <td>0.024600</td>\n",
       "    </tr>\n",
       "    <tr>\n",
       "      <th>Asymmetric calculation without solver initialization</th>\n",
       "      <td>0.001026</td>\n",
       "      <td>0.000964</td>\n",
       "      <td>0.003057</td>\n",
       "      <td>0.001343</td>\n",
       "      <td>0.313200</td>\n",
       "      <td>0.001905</td>\n",
       "    </tr>\n",
       "    <tr>\n",
       "      <th>Time series symmetric calculation</th>\n",
       "      <td>0.253536</td>\n",
       "      <td>0.248633</td>\n",
       "      <td>0.551781</td>\n",
       "      <td>0.385110</td>\n",
       "      <td>15.164719</td>\n",
       "      <td>inf</td>\n",
       "    </tr>\n",
       "    <tr>\n",
       "      <th>Time series asymmetric calculation</th>\n",
       "      <td>0.757085</td>\n",
       "      <td>0.743661</td>\n",
       "      <td>2.821736</td>\n",
       "      <td>1.130341</td>\n",
       "      <td>434.682227</td>\n",
       "      <td>3.462924</td>\n",
       "    </tr>\n",
       "    <tr>\n",
       "      <th>N-1 symmetric calculation</th>\n",
       "      <td>0.718100</td>\n",
       "      <td>0.734812</td>\n",
       "      <td>1.045905</td>\n",
       "      <td>0.819550</td>\n",
       "      <td>14.723394</td>\n",
       "      <td>inf</td>\n",
       "    </tr>\n",
       "    <tr>\n",
       "      <th>N-1 asymmetric calculation</th>\n",
       "      <td>1.348980</td>\n",
       "      <td>1.353632</td>\n",
       "      <td>3.534676</td>\n",
       "      <td>1.760051</td>\n",
       "      <td>380.370041</td>\n",
       "      <td>inf</td>\n",
       "    </tr>\n",
       "  </tbody>\n",
       "</table>\n",
       "</div>"
      ],
      "text/plain": [
       "                                                    PGM Linear Impedance  \\\n",
       "Symmetric calculation with solver initialization                0.000826   \n",
       "Symmetric calculation without solver initializa...              0.000296   \n",
       "Asymmetric calculation with solver initialization               0.001525   \n",
       "Asymmetric calculation without solver initializ...              0.001026   \n",
       "Time series symmetric calculation                               0.253536   \n",
       "Time series asymmetric calculation                              0.757085   \n",
       "N-1 symmetric calculation                                       0.718100   \n",
       "N-1 asymmetric calculation                                      1.348980   \n",
       "\n",
       "                                                    PGM Linear Current  \\\n",
       "Symmetric calculation with solver initialization              0.001251   \n",
       "Symmetric calculation without solver initializa...            0.000307   \n",
       "Asymmetric calculation with solver initialization             0.001365   \n",
       "Asymmetric calculation without solver initializ...            0.000964   \n",
       "Time series symmetric calculation                             0.248633   \n",
       "Time series asymmetric calculation                            0.743661   \n",
       "N-1 symmetric calculation                                     0.734812   \n",
       "N-1 asymmetric calculation                                    1.353632   \n",
       "\n",
       "                                                    PGM Newton-Raphson  \\\n",
       "Symmetric calculation with solver initialization              0.001370   \n",
       "Symmetric calculation without solver initializa...            0.000554   \n",
       "Asymmetric calculation with solver initialization             0.003647   \n",
       "Asymmetric calculation without solver initializ...            0.003057   \n",
       "Time series symmetric calculation                             0.551781   \n",
       "Time series asymmetric calculation                            2.821736   \n",
       "N-1 symmetric calculation                                     1.045905   \n",
       "N-1 asymmetric calculation                                    3.534676   \n",
       "\n",
       "                                                    PGM Iterative Current  \\\n",
       "Symmetric calculation with solver initialization                 0.000958   \n",
       "Symmetric calculation without solver initializa...               0.000414   \n",
       "Asymmetric calculation with solver initialization                0.001905   \n",
       "Asymmetric calculation without solver initializ...               0.001343   \n",
       "Time series symmetric calculation                                0.385110   \n",
       "Time series asymmetric calculation                               1.130341   \n",
       "N-1 symmetric calculation                                        0.819550   \n",
       "N-1 asymmetric calculation                                       1.760051   \n",
       "\n",
       "                                                    PandaPower Newton-Raphson  \\\n",
       "Symmetric calculation with solver initialization                     0.019768   \n",
       "Symmetric calculation without solver initializa...                   0.013425   \n",
       "Asymmetric calculation with solver initialization                    0.914279   \n",
       "Asymmetric calculation without solver initializ...                   0.313200   \n",
       "Time series symmetric calculation                                   15.164719   \n",
       "Time series asymmetric calculation                                 434.682227   \n",
       "N-1 symmetric calculation                                           14.723394   \n",
       "N-1 asymmetric calculation                                         380.370041   \n",
       "\n",
       "                                                    OpenDSS Fix Point  \n",
       "Symmetric calculation with solver initialization                  inf  \n",
       "Symmetric calculation without solver initializa...                inf  \n",
       "Asymmetric calculation with solver initialization            0.024600  \n",
       "Asymmetric calculation without solver initializ...           0.001905  \n",
       "Time series symmetric calculation                                 inf  \n",
       "Time series asymmetric calculation                           3.462924  \n",
       "N-1 symmetric calculation                                         inf  \n",
       "N-1 asymmetric calculation                                        inf  "
      ]
     },
     "metadata": {},
     "output_type": "display_data"
    }
   ],
   "source": [
    "display(summary_df)"
   ]
  },
  {
   "cell_type": "code",
   "execution_count": 35,
   "id": "6c921324",
   "metadata": {},
   "outputs": [
    {
     "data": {
      "text/html": [
       "<style type=\"text/css\">\n",
       "</style>\n",
       "<table id=\"T_727bf\">\n",
       "  <thead>\n",
       "    <tr>\n",
       "      <th class=\"blank level0\" >&nbsp;</th>\n",
       "      <th id=\"T_727bf_level0_col0\" class=\"col_heading level0 col0\" >PGM Linear Impedance</th>\n",
       "      <th id=\"T_727bf_level0_col1\" class=\"col_heading level0 col1\" >PGM Linear Current</th>\n",
       "      <th id=\"T_727bf_level0_col2\" class=\"col_heading level0 col2\" >PGM Newton-Raphson</th>\n",
       "      <th id=\"T_727bf_level0_col3\" class=\"col_heading level0 col3\" >PGM Iterative Current</th>\n",
       "      <th id=\"T_727bf_level0_col4\" class=\"col_heading level0 col4\" >PandaPower Newton-Raphson</th>\n",
       "      <th id=\"T_727bf_level0_col5\" class=\"col_heading level0 col5\" >OpenDSS Fix Point</th>\n",
       "    </tr>\n",
       "  </thead>\n",
       "  <tbody>\n",
       "    <tr>\n",
       "      <th id=\"T_727bf_level0_row0\" class=\"row_heading level0 row0\" >Symmetric calculation with solver initialization</th>\n",
       "      <td id=\"T_727bf_row0_col0\" class=\"data row0 col0\" >23.92x</td>\n",
       "      <td id=\"T_727bf_row0_col1\" class=\"data row0 col1\" >15.80x</td>\n",
       "      <td id=\"T_727bf_row0_col2\" class=\"data row0 col2\" >14.43x</td>\n",
       "      <td id=\"T_727bf_row0_col3\" class=\"data row0 col3\" >20.63x</td>\n",
       "      <td id=\"T_727bf_row0_col4\" class=\"data row0 col4\" >1.00x</td>\n",
       "      <td id=\"T_727bf_row0_col5\" class=\"data row0 col5\" >0.00x</td>\n",
       "    </tr>\n",
       "    <tr>\n",
       "      <th id=\"T_727bf_level0_row1\" class=\"row_heading level0 row1\" >Symmetric calculation without solver initialization</th>\n",
       "      <td id=\"T_727bf_row1_col0\" class=\"data row1 col0\" >45.41x</td>\n",
       "      <td id=\"T_727bf_row1_col1\" class=\"data row1 col1\" >43.75x</td>\n",
       "      <td id=\"T_727bf_row1_col2\" class=\"data row1 col2\" >24.25x</td>\n",
       "      <td id=\"T_727bf_row1_col3\" class=\"data row1 col3\" >32.42x</td>\n",
       "      <td id=\"T_727bf_row1_col4\" class=\"data row1 col4\" >1.00x</td>\n",
       "      <td id=\"T_727bf_row1_col5\" class=\"data row1 col5\" >0.00x</td>\n",
       "    </tr>\n",
       "    <tr>\n",
       "      <th id=\"T_727bf_level0_row2\" class=\"row_heading level0 row2\" >Asymmetric calculation with solver initialization</th>\n",
       "      <td id=\"T_727bf_row2_col0\" class=\"data row2 col0\" >599.37x</td>\n",
       "      <td id=\"T_727bf_row2_col1\" class=\"data row2 col1\" >669.71x</td>\n",
       "      <td id=\"T_727bf_row2_col2\" class=\"data row2 col2\" >250.72x</td>\n",
       "      <td id=\"T_727bf_row2_col3\" class=\"data row2 col3\" >479.83x</td>\n",
       "      <td id=\"T_727bf_row2_col4\" class=\"data row2 col4\" >1.00x</td>\n",
       "      <td id=\"T_727bf_row2_col5\" class=\"data row2 col5\" >37.17x</td>\n",
       "    </tr>\n",
       "    <tr>\n",
       "      <th id=\"T_727bf_level0_row3\" class=\"row_heading level0 row3\" >Asymmetric calculation without solver initialization</th>\n",
       "      <td id=\"T_727bf_row3_col0\" class=\"data row3 col0\" >305.15x</td>\n",
       "      <td id=\"T_727bf_row3_col1\" class=\"data row3 col1\" >324.84x</td>\n",
       "      <td id=\"T_727bf_row3_col2\" class=\"data row3 col2\" >102.45x</td>\n",
       "      <td id=\"T_727bf_row3_col3\" class=\"data row3 col3\" >233.12x</td>\n",
       "      <td id=\"T_727bf_row3_col4\" class=\"data row3 col4\" >1.00x</td>\n",
       "      <td id=\"T_727bf_row3_col5\" class=\"data row3 col5\" >164.43x</td>\n",
       "    </tr>\n",
       "    <tr>\n",
       "      <th id=\"T_727bf_level0_row4\" class=\"row_heading level0 row4\" >Time series symmetric calculation</th>\n",
       "      <td id=\"T_727bf_row4_col0\" class=\"data row4 col0\" >59.81x</td>\n",
       "      <td id=\"T_727bf_row4_col1\" class=\"data row4 col1\" >60.99x</td>\n",
       "      <td id=\"T_727bf_row4_col2\" class=\"data row4 col2\" >27.48x</td>\n",
       "      <td id=\"T_727bf_row4_col3\" class=\"data row4 col3\" >39.38x</td>\n",
       "      <td id=\"T_727bf_row4_col4\" class=\"data row4 col4\" >1.00x</td>\n",
       "      <td id=\"T_727bf_row4_col5\" class=\"data row4 col5\" >0.00x</td>\n",
       "    </tr>\n",
       "    <tr>\n",
       "      <th id=\"T_727bf_level0_row5\" class=\"row_heading level0 row5\" >Time series asymmetric calculation</th>\n",
       "      <td id=\"T_727bf_row5_col0\" class=\"data row5 col0\" >574.15x</td>\n",
       "      <td id=\"T_727bf_row5_col1\" class=\"data row5 col1\" >584.52x</td>\n",
       "      <td id=\"T_727bf_row5_col2\" class=\"data row5 col2\" >154.05x</td>\n",
       "      <td id=\"T_727bf_row5_col3\" class=\"data row5 col3\" >384.56x</td>\n",
       "      <td id=\"T_727bf_row5_col4\" class=\"data row5 col4\" >1.00x</td>\n",
       "      <td id=\"T_727bf_row5_col5\" class=\"data row5 col5\" >125.52x</td>\n",
       "    </tr>\n",
       "    <tr>\n",
       "      <th id=\"T_727bf_level0_row6\" class=\"row_heading level0 row6\" >N-1 symmetric calculation</th>\n",
       "      <td id=\"T_727bf_row6_col0\" class=\"data row6 col0\" >20.50x</td>\n",
       "      <td id=\"T_727bf_row6_col1\" class=\"data row6 col1\" >20.04x</td>\n",
       "      <td id=\"T_727bf_row6_col2\" class=\"data row6 col2\" >14.08x</td>\n",
       "      <td id=\"T_727bf_row6_col3\" class=\"data row6 col3\" >17.97x</td>\n",
       "      <td id=\"T_727bf_row6_col4\" class=\"data row6 col4\" >1.00x</td>\n",
       "      <td id=\"T_727bf_row6_col5\" class=\"data row6 col5\" >0.00x</td>\n",
       "    </tr>\n",
       "    <tr>\n",
       "      <th id=\"T_727bf_level0_row7\" class=\"row_heading level0 row7\" >N-1 asymmetric calculation</th>\n",
       "      <td id=\"T_727bf_row7_col0\" class=\"data row7 col0\" >281.97x</td>\n",
       "      <td id=\"T_727bf_row7_col1\" class=\"data row7 col1\" >281.00x</td>\n",
       "      <td id=\"T_727bf_row7_col2\" class=\"data row7 col2\" >107.61x</td>\n",
       "      <td id=\"T_727bf_row7_col3\" class=\"data row7 col3\" >216.11x</td>\n",
       "      <td id=\"T_727bf_row7_col4\" class=\"data row7 col4\" >1.00x</td>\n",
       "      <td id=\"T_727bf_row7_col5\" class=\"data row7 col5\" >0.00x</td>\n",
       "    </tr>\n",
       "  </tbody>\n",
       "</table>\n"
      ],
      "text/plain": [
       "<pandas.io.formats.style.Styler at 0x7f93c5642c30>"
      ]
     },
     "metadata": {},
     "output_type": "display_data"
    }
   ],
   "source": [
    "relative_df = summary_df.div(summary_df['PandaPower Newton-Raphson'], axis=0)\n",
    "speedup_df = 1 / relative_df\n",
    "display(speedup_df.style.format(\"{:0.2f}x\"))"
   ]
  },
  {
   "cell_type": "markdown",
   "id": "37444b58",
   "metadata": {},
   "source": []
  },
  {
   "cell_type": "code",
   "execution_count": null,
   "id": "ddc61ec0",
   "metadata": {},
   "outputs": [],
   "source": []
  }
 ],
 "metadata": {
  "kernelspec": {
   "display_name": "Python 3 (ipykernel)",
   "language": "python",
   "name": "python3"
  },
  "language_info": {
   "codemirror_mode": {
    "name": "ipython",
    "version": 3
   },
   "file_extension": ".py",
   "mimetype": "text/x-python",
   "name": "python",
   "nbconvert_exporter": "python",
   "pygments_lexer": "ipython3",
   "version": "3.12.7"
  }
 },
 "nbformat": 4,
 "nbformat_minor": 5
}
