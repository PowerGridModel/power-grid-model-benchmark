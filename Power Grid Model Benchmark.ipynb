{
 "cells": [
  {
   "cell_type": "markdown",
   "id": "cd7b594e",
   "metadata": {},
   "source": [
    "# Introduction\n",
    "\n",
    "This notebook presents a benchmark comparison between `power-grid-model` and \n",
    "[`pandapower`](https://github.com/e2nIEE/pandapower).\n",
    "It runs several calculations, measures the calculation time, and compares the results.\n",
    "\n",
    "## Test Network\n",
    "\n",
    "The test network is fictionally generated using pre-defined random criteria. It is a radial network as follows:\n",
    "\n",
    "```\n",
    "\n",
    "source --- source_node ---| ---line--- node ---line--- node ...   (n_node_per_feeder)\n",
    "                          |              |              |\n",
    "                          |            load            load ...\n",
    "                          |\n",
    "                          | ---line--- ...\n",
    "                          | .\n",
    "                          | .\n",
    "                          | .\n",
    "                          | (n_feeder)\n",
    "\n",
    "```\n",
    "\n",
    "There is a node which is connected to a source (external network). From the source node there are `n_feeder` feeders. For each feeder there are `n_node_per_feeder` nodes, lines, and asymmetric loads. There are in total `n_feeder * n_node_per_feeder + 1` nodes in the network.\n",
    "\n",
    "\n",
    "## Calculation\n",
    "\n",
    "The notebook runs a power flow calculation with the same input data in `power-grid-model` and `pandapower`. It runs the following calculations:\n",
    "\n",
    "* Single calculation with solver initialization.\n",
    "* Single calculation without solver initialization (using pre-cached internal matrices).\n",
    "* Time-series calculation\n",
    "* N-1 calculation\n",
    "\n",
    "The calculation is run symmetrically and asymmetrically. Both `power-grid-model` and `pandapower` supports asymmetric loads in symmetric calculations: the three-phase load is aggregated into one symmetric load.\n",
    "\n",
    "We use the Newton-Raphson method for both libraries. In addition, we also use the iterative current and linear method in `power-grid-model` to see how much performance you can gain in exchange for accuracy.\n",
    "\n",
    "## Results Comparison\n",
    "\n",
    "The following results are compared between `power-grid-model` and `pandapower`:\n",
    "\n",
    "* Per unit voltage of nodes (buses). For asymmetric calculation, it compares the value per phase.\n",
    "* Loading of the lines.\n",
    "\n",
    "It only compares the results of the Newton-Raphson, since the linear method of `power-grid-model` will produce a less accurate result.\n",
    "\n",
    "## Performance Benchmark\n",
    "\n",
    "The CPU time is measured for the **calculation part** of the program. The data preparation and model initialization is not measured. Furthermore, the single calculation is benchmarked with and without solver initialization. The former needs to execute connectivity check and initialize internal matrices (for example node admittance matrix). The latter uses the pre-cached connectivity and internal matrices."
   ]
  },
  {
   "cell_type": "markdown",
   "id": "f9268706",
   "metadata": {},
   "source": [
    "# Preparation\n",
    "\n",
    "## Import Libraries\n",
    "\n",
    "We import neede libraries here. The fictional network generation and time-series profile generation is in a different Python file\n",
    "[generate_fictional_dataset.py](./generate_fictional_dataset.py)."
   ]
  },
  {
   "cell_type": "code",
   "execution_count": 1,
   "id": "0267ac98",
   "metadata": {},
   "outputs": [],
   "source": [
    "import time\n",
    "from pathlib import Path\n",
    "\n",
    "import numpy as np\n",
    "import pandapower as pp\n",
    "import pandas as pd\n",
    "import power_grid_model as pgm\n",
    "\n",
    "from generate_fictional_dataset import generate_fictional_grid\n"
   ]
  },
  {
   "cell_type": "markdown",
   "id": "99bb7abf",
   "metadata": {},
   "source": [
    "## Prepare Tables\n",
    "\n",
    "The performance comparison table and result deviation table is initialized below."
   ]
  },
  {
   "cell_type": "code",
   "execution_count": 2,
   "id": "34db0eaa",
   "metadata": {},
   "outputs": [],
   "source": [
    "# summary\n",
    "summary_df = pd.DataFrame(\n",
    "    np.full(shape=(8, 5), dtype=np.float64, fill_value=np.inf),\n",
    "    columns=['PGM Linear Impedance', 'PGM Linear Current' ,'PGM Newton-Raphson', 'PGM Iterative Current', 'PandaPower Newton-Raphson'],\n",
    "    index=[\n",
    "        'Symmetric calculation with solver initialization',\n",
    "        'Symmetric calculation without solver initialization',\n",
    "        'Asymmetric calculation with solver initialization',\n",
    "        'Asymmetric calculation without solver initialization',\n",
    "        'Time series symmetric calculation',\n",
    "        'Time series asymmetric calculation',\n",
    "        'N-1 symmetric calculation',\n",
    "        'N-1 asymmetric calculation',\n",
    "    ]\n",
    ")\n",
    "\n",
    "comparison_df = pd.DataFrame(\n",
    "    np.full(shape=(6, 2), dtype=np.float64, fill_value=np.nan),\n",
    "    columns=['Deviation Voltage (p.u.)', 'Deviation Loading (p.u.)'],\n",
    "    index=[\n",
    "        'Symmetric calculation',\n",
    "        'Asymmetric calculation',\n",
    "        'Time series symmetric calculation',\n",
    "        'Time series asymmetric calculation',\n",
    "        'N-1 symmetric calculation',\n",
    "        'N-1 asymmetric calculation',\n",
    "    ]\n",
    ")"
   ]
  },
  {
   "cell_type": "markdown",
   "id": "fd10cde7",
   "metadata": {},
   "source": [
    "## Simulation Parameters\n",
    "\n",
    "The simulation parameters, for example, the total number of feeders `n_feeder`, are defined below."
   ]
  },
  {
   "cell_type": "code",
   "execution_count": 3,
   "id": "ece0138d",
   "metadata": {},
   "outputs": [],
   "source": [
    "# fictional grid parameters\n",
    "\n",
    "n_node_per_feeder = 10\n",
    "n_feeder = 100\n",
    "\n",
    "cable_length_km_min = 0.8\n",
    "cable_length_km_max = 1.2\n",
    "load_p_w_max = 0.4e6 * 0.8\n",
    "load_p_w_min = 0.4e6 * 1.2\n",
    "pf = 0.95\n",
    "\n",
    "load_scaling_min = 0.5\n",
    "load_scaling_max = 1.5\n",
    "n_step = 1000\n",
    "\n",
    "\n",
    "use_lightsim2grid = True"
   ]
  },
  {
   "cell_type": "code",
   "execution_count": 4,
   "id": "19a1b1f3",
   "metadata": {},
   "outputs": [],
   "source": [
    "# override small network\n",
    "\n",
    "n_node_per_feeder = 3\n",
    "n_feeder = 2\n",
    "n_step = 10\n"
   ]
  },
  {
   "cell_type": "code",
   "execution_count": 5,
   "id": "8301d2a0",
   "metadata": {},
   "outputs": [],
   "source": [
    "# derived values\n",
    "\n",
    "n_node = n_node_per_feeder * n_feeder + 1\n",
    "n_line = n_node_per_feeder * n_feeder\n",
    "n_load = n_node_per_feeder * n_feeder"
   ]
  },
  {
   "cell_type": "markdown",
   "id": "aab0f11d",
   "metadata": {},
   "source": [
    "## Pre-cache Library\n",
    "\n",
    "To make a fair comparison, we run one small network so that both `power-grid-model` and `pandapower` can cache their dependent libraries into the memory.\n",
    "\n",
    "* For `pandapower` the `numba` functions are JIT compiled and cached in the memory."
   ]
  },
  {
   "cell_type": "code",
   "execution_count": 6,
   "id": "cc656c47",
   "metadata": {},
   "outputs": [],
   "source": [
    "fictional_dataset = generate_fictional_grid(\n",
    "    n_node_per_feeder=3,\n",
    "    n_feeder=2,\n",
    "    cable_length_km_min=cable_length_km_min,\n",
    "    cable_length_km_max=cable_length_km_max,\n",
    "    load_p_w_max=load_p_w_max,\n",
    "    load_p_w_min=load_p_w_min,\n",
    "    pf=pf,\n",
    "    n_step=n_step,\n",
    "    load_scaling_min=load_scaling_min,\n",
    "    load_scaling_max=load_scaling_max,\n",
    ")\n",
    "\n",
    "pp.runpp(fictional_dataset['pp_net'], algorithm='nr', calculate_voltage_angles=True, distributed_slack=True, \n",
    "         lightsim2grid=use_lightsim2grid)\n",
    "pgm_model = pgm.PowerGridModel(fictional_dataset['pgm_dataset'])\n",
    "pgm_result = pgm_model.calculate_power_flow()"
   ]
  },
  {
   "cell_type": "markdown",
   "id": "9a0e5684",
   "metadata": {},
   "source": [
    "# Generate Dataset\n",
    "\n",
    "First generate the fictional datasets."
   ]
  },
  {
   "cell_type": "code",
   "execution_count": 7,
   "id": "7909cdd9",
   "metadata": {
    "scrolled": true
   },
   "outputs": [],
   "source": [
    "fictional_dataset = generate_fictional_grid(\n",
    "    n_node_per_feeder=n_node_per_feeder,\n",
    "    n_feeder=n_feeder,\n",
    "    cable_length_km_min=cable_length_km_min,\n",
    "    cable_length_km_max=cable_length_km_max,\n",
    "    load_p_w_max=load_p_w_max,\n",
    "    load_p_w_min=load_p_w_min,\n",
    "    pf=pf,\n",
    "    n_step=n_step,\n",
    "    load_scaling_min=load_scaling_min,\n",
    "    load_scaling_max=load_scaling_max,\n",
    ")\n",
    "\n",
    "pp_net = fictional_dataset[\"pp_net\"]\n",
    "pgm_dataset = fictional_dataset[\"pgm_dataset\"]\n",
    "pgm_update_dataset = fictional_dataset[\"pgm_update_dataset\"]\n",
    "pp_time_series_dataset = fictional_dataset[\"pp_time_series_dataset\"]"
   ]
  },
  {
   "cell_type": "markdown",
   "id": "f604c5a4",
   "metadata": {},
   "source": [
    "# Benchmark Function"
   ]
  },
  {
   "cell_type": "code",
   "execution_count": 8,
   "id": "2540d408",
   "metadata": {},
   "outputs": [],
   "source": [
    "def benchmark_pgm_power_flow(symmetric: bool, calculation_type: str, update_data=None, with_intialization: bool = False):\n",
    "    method_dict = {\n",
    "        'linear': 'PGM Linear Impedance',\n",
    "        'linear_current': 'PGM Linear Current',\n",
    "        'iterative_current': 'PGM Iterative Current',\n",
    "        'newton_raphson': 'PGM Newton-Raphson'\n",
    "    }\n",
    "    for method in ['linear', 'linear_current', 'iterative_current', 'newton_raphson']:\n",
    "        model_instance = pgm.PowerGridModel(pgm_dataset)\n",
    "        # cachec internal state if we do not benchmark solver intialization\n",
    "        if not with_intialization:\n",
    "            model_instance.calculate_power_flow(symmetric=symmetric, calculation_method=method)\n",
    "        start = time.time()\n",
    "        pgm_result = model_instance.calculate_power_flow(symmetric=symmetric, calculation_method=method, update_data=update_data)\n",
    "        end = time.time()\n",
    "        summary_df.loc[calculation_type, method_dict[method]] = end - start\n",
    "    return pgm_result"
   ]
  },
  {
   "cell_type": "markdown",
   "id": "9ca1e1b7",
   "metadata": {},
   "source": [
    "# Single Calculation\n",
    "\n",
    "We begin with a single power flow calculation."
   ]
  },
  {
   "cell_type": "markdown",
   "id": "681b407b",
   "metadata": {},
   "source": [
    "## Symmetric"
   ]
  },
  {
   "cell_type": "markdown",
   "id": "eb823e12",
   "metadata": {},
   "source": [
    "### power-grid-model"
   ]
  },
  {
   "cell_type": "code",
   "execution_count": 9,
   "id": "612d3384",
   "metadata": {},
   "outputs": [],
   "source": [
    "benchmark_pgm_power_flow(symmetric=True, calculation_type='Symmetric calculation with solver initialization', with_intialization=True)\n",
    "pgm_result = benchmark_pgm_power_flow(symmetric=True, calculation_type='Symmetric calculation without solver initialization', with_intialization=False)\n"
   ]
  },
  {
   "cell_type": "markdown",
   "id": "8d60c97d",
   "metadata": {},
   "source": [
    "### Newton-Raphson Method of pandapower"
   ]
  },
  {
   "cell_type": "code",
   "execution_count": 10,
   "id": "75a86adc",
   "metadata": {},
   "outputs": [],
   "source": [
    "# first calculation with solver initialization\n",
    "start = time.time()\n",
    "pp.runpp(pp_net, algorithm='nr', calculate_voltage_angles=True, distributed_slack=True, lightsim2grid=use_lightsim2grid)\n",
    "end = time.time()\n",
    "summary_df.loc['Symmetric calculation with solver initialization', 'PandaPower Newton-Raphson'] = end - start\n",
    "\n",
    "# second calculation with existing solver\n",
    "start = time.time()\n",
    "pp.runpp(pp_net, algorithm='nr', calculate_voltage_angles=True, distributed_slack=True, lightsim2grid=use_lightsim2grid)\n",
    "end = time.time()\n",
    "summary_df.loc['Symmetric calculation without solver initialization', 'PandaPower Newton-Raphson'] = end - start"
   ]
  },
  {
   "cell_type": "markdown",
   "id": "0d6c3b2a",
   "metadata": {},
   "source": [
    "### Calculate Deviation for Newton-Raphson Method"
   ]
  },
  {
   "cell_type": "code",
   "execution_count": 11,
   "id": "f532a8ed",
   "metadata": {},
   "outputs": [],
   "source": [
    "comparison_df.loc['Symmetric calculation', 'Deviation Voltage (p.u.)'] = \\\n",
    "    np.abs(pp_net.res_bus['vm_pu'] - pgm_result['node']['u_pu']).max()\n",
    "comparison_df.loc['Symmetric calculation', 'Deviation Loading (p.u.)'] = \\\n",
    "    np.abs(pp_net.res_line['loading_percent'] * 1e-2 - pgm_result['line']['loading']).max()"
   ]
  },
  {
   "cell_type": "markdown",
   "id": "4e07f6c0",
   "metadata": {},
   "source": [
    "## Asymmetric"
   ]
  },
  {
   "cell_type": "markdown",
   "id": "711d1a46",
   "metadata": {},
   "source": [
    "### power-grid-model"
   ]
  },
  {
   "cell_type": "code",
   "execution_count": 12,
   "id": "c76f1366",
   "metadata": {},
   "outputs": [],
   "source": [
    "benchmark_pgm_power_flow(symmetric=False, calculation_type='Asymmetric calculation with solver initialization', with_intialization=True)\n",
    "pgm_result = benchmark_pgm_power_flow(symmetric=False, calculation_type='Asymmetric calculation without solver initialization', with_intialization=False)"
   ]
  },
  {
   "cell_type": "markdown",
   "id": "df97fecd",
   "metadata": {},
   "source": [
    "### Newton-Raphson Method of pandapower"
   ]
  },
  {
   "cell_type": "code",
   "execution_count": 13,
   "id": "5357e649",
   "metadata": {},
   "outputs": [],
   "source": [
    "# first calculation with solver initialization\n",
    "start = time.time()\n",
    "pp.runpp_3ph(pp_net, algorithm='nr', calculate_voltage_angles=True, distributed_slack=True, lightsim2grid=use_lightsim2grid)\n",
    "end = time.time()\n",
    "summary_df.loc['Asymmetric calculation with solver initialization', 'PandaPower Newton-Raphson'] = end - start\n",
    "\n",
    "# second calculation with existing solver\n",
    "start = time.time()\n",
    "pp.runpp_3ph(pp_net, algorithm='nr', calculate_voltage_angles=True, distributed_slack=True, lightsim2grid=use_lightsim2grid)\n",
    "end = time.time()\n",
    "summary_df.loc['Asymmetric calculation without solver initialization', 'PandaPower Newton-Raphson'] = end - start\n"
   ]
  },
  {
   "cell_type": "markdown",
   "id": "95846622",
   "metadata": {},
   "source": [
    "### Calculate Deviation for Newton-Raphson Method"
   ]
  },
  {
   "cell_type": "code",
   "execution_count": 14,
   "id": "840e9f29",
   "metadata": {},
   "outputs": [],
   "source": [
    "comparison_df.loc['Asymmetric calculation', 'Deviation Voltage (p.u.)'] = \\\n",
    "    np.abs(pp_net.res_bus_3ph[['vm_a_pu', 'vm_b_pu', 'vm_c_pu']].to_numpy() - pgm_result['node']['u_pu']).max()\n",
    "comparison_df.loc['Asymmetric calculation', 'Deviation Loading (p.u.)'] = \\\n",
    "    np.abs(pp_net.res_line_3ph['loading_percent'] * 1e-2 - pgm_result['line']['loading']).max()"
   ]
  },
  {
   "cell_type": "markdown",
   "id": "bd10ecd4",
   "metadata": {},
   "source": [
    "# Time Series Calculation\n",
    "\n",
    "We execute a time-series power flow with `n_step` timestamps. \n",
    "\n",
    "## Preparation\n",
    "\n",
    "The load profile is randomly generated by the function `generate_time_series`. It produces the relevant input format for both libraries."
   ]
  },
  {
   "cell_type": "code",
   "execution_count": 15,
   "id": "ab571db2",
   "metadata": {},
   "outputs": [],
   "source": [
    "\n",
    "time_steps = np.arange(n_step)\n",
    "\n",
    "for x, y in zip(['p', 'q'], ['mw', 'mvar']):\n",
    "    for p in ['a', 'b', 'c']:\n",
    "        name = f'{x}_{p}_{y}'\n",
    "        pp.control.ConstControl(\n",
    "            pp_net,\n",
    "            element='asymmetric_load',\n",
    "            element_index=pp_net.asymmetric_load.index,\n",
    "            variable=name,\n",
    "            data_source=pp_time_series_dataset[name],\n",
    "            profile_name=pp_net.asymmetric_load.index\n",
    "        )\n"
   ]
  },
  {
   "cell_type": "markdown",
   "id": "c0c68b83",
   "metadata": {},
   "source": [
    "## Symmetric"
   ]
  },
  {
   "cell_type": "markdown",
   "id": "5d2f8fd3",
   "metadata": {},
   "source": [
    "### power-grid-model"
   ]
  },
  {
   "cell_type": "code",
   "execution_count": 16,
   "id": "bae29ebf",
   "metadata": {},
   "outputs": [],
   "source": [
    "pgm_result = benchmark_pgm_power_flow(symmetric=True, calculation_type='Time series symmetric calculation', update_data=pgm_update_dataset)\n",
    "\n"
   ]
  },
  {
   "cell_type": "markdown",
   "id": "09030805",
   "metadata": {},
   "source": [
    "### Newton-Raphson Method of pandapower"
   ]
  },
  {
   "cell_type": "code",
   "execution_count": 17,
   "id": "b943bdee",
   "metadata": {},
   "outputs": [
    {
     "name": "stderr",
     "output_type": "stream",
     "text": [
      "100%|██████████| 10/10 [00:00<00:00, 113.54it/s]\n"
     ]
    }
   ],
   "source": [
    "pp.timeseries.OutputWriter(\n",
    "    pp_net,\n",
    "    log_variables=[\n",
    "        ('res_bus', 'vm_pu'),\n",
    "        ('res_line', 'loading_percent'),\n",
    "    ]\n",
    ")\n",
    "\n",
    "start = time.time()\n",
    "pp.timeseries.run_timeseries(\n",
    "    pp_net, run=pp.runpp, time_steps=time_steps,\n",
    "    calculate_voltage_angles=True, distributed_slack=True, lightsim2grid=use_lightsim2grid\n",
    ")\n",
    "end = time.time()\n",
    "summary_df.loc['Time series symmetric calculation', 'PandaPower Newton-Raphson'] = end - start"
   ]
  },
  {
   "cell_type": "markdown",
   "id": "13e0b644",
   "metadata": {},
   "source": [
    "### Calculate Deviation for Newton-Raphson Method"
   ]
  },
  {
   "cell_type": "code",
   "execution_count": 18,
   "id": "75977fb6",
   "metadata": {},
   "outputs": [],
   "source": [
    "pp_u_pu = pp_net.output_writer.iloc[0, 0].output['res_bus.vm_pu'].to_numpy()\n",
    "comparison_df.loc['Time series symmetric calculation', 'Deviation Voltage (p.u.)'] = \\\n",
    "    np.abs(pp_u_pu - pgm_result['node']['u_pu']).max()\n",
    "pp_loading = pp_net.output_writer.iloc[0, 0].output['res_line.loading_percent'].to_numpy() * 1e-2\n",
    "comparison_df.loc['Time series symmetric calculation', 'Deviation Loading (p.u.)'] = \\\n",
    "    np.abs(pp_loading - pgm_result['line']['loading']).max()\n"
   ]
  },
  {
   "cell_type": "markdown",
   "id": "b9bff694",
   "metadata": {},
   "source": [
    "## Asymmetric"
   ]
  },
  {
   "cell_type": "markdown",
   "id": "219efc5c",
   "metadata": {},
   "source": [
    "### power-grid-model"
   ]
  },
  {
   "cell_type": "code",
   "execution_count": 19,
   "id": "4735161f",
   "metadata": {},
   "outputs": [],
   "source": [
    "pgm_result = benchmark_pgm_power_flow(symmetric=False, calculation_type='Time series asymmetric calculation', update_data=pgm_update_dataset)\n"
   ]
  },
  {
   "cell_type": "markdown",
   "id": "35320697",
   "metadata": {},
   "source": [
    "### Newton-Raphson Method of pandapower"
   ]
  },
  {
   "cell_type": "code",
   "execution_count": 20,
   "id": "d1b2d792",
   "metadata": {},
   "outputs": [
    {
     "name": "stderr",
     "output_type": "stream",
     "text": [
      "100%|██████████| 10/10 [00:00<00:00, 45.37it/s]\n"
     ]
    }
   ],
   "source": [
    "del pp_net.output_writer\n",
    "ow = pp.timeseries.OutputWriter(pp_net)\n",
    "ow.log_variable('res_bus_3ph', 'vm_a_pu', index=pp_net.bus.index)\n",
    "ow.log_variable('res_bus_3ph', 'vm_b_pu', index=pp_net.bus.index)\n",
    "ow.log_variable('res_bus_3ph', 'vm_c_pu', index=pp_net.bus.index)\n",
    "ow.log_variable('res_line_3ph', 'loading_percent', index=pp_net.line.index)\n",
    "\n",
    "# run\n",
    "start = time.time()\n",
    "pp.timeseries.run_timeseries(\n",
    "    pp_net,\n",
    "    run=pp.runpp_3ph,\n",
    "    time_steps=time_steps,\n",
    "    calculate_voltage_angles=True,\n",
    "    distributed_slack=True, \n",
    "    lightsim2grid=use_lightsim2grid\n",
    ")\n",
    "end = time.time()\n",
    "summary_df.loc['Time series asymmetric calculation', 'PandaPower Newton-Raphson'] = end - start"
   ]
  },
  {
   "cell_type": "markdown",
   "id": "28d06b1a",
   "metadata": {},
   "source": [
    "### Calculate Deviation for Newton-Raphson Method"
   ]
  },
  {
   "cell_type": "code",
   "execution_count": 21,
   "id": "1a7f075f",
   "metadata": {},
   "outputs": [],
   "source": [
    "pp_u_pu = []\n",
    "for p in ['a', 'b', 'c']:\n",
    "    pp_u_pu.append(pp_net.output_writer.iloc[0, 0].output[f'res_bus_3ph.vm_{p}_pu'].to_numpy())\n",
    "pp_u_pu = np.stack(pp_u_pu, axis=-1)\n",
    "comparison_df.loc['Time series asymmetric calculation', 'Deviation Voltage (p.u.)'] = \\\n",
    "    np.abs(pp_u_pu - pgm_result['node']['u_pu']).max()\n",
    "\n",
    "pp_loading = pp_net.output_writer.iloc[0, 0].output[r'res_line_3ph.loading_percent'].to_numpy() * 1e-2\n",
    "comparison_df.loc['Time series asymmetric calculation', 'Deviation Loading (p.u.)'] = \\\n",
    "    np.abs(pp_loading - pgm_result['line']['loading']).max()"
   ]
  },
  {
   "cell_type": "markdown",
   "id": "5b259f80",
   "metadata": {},
   "source": [
    "# N-1 Scenario Calculation\n",
    "\n",
    "We execute a N-1 scenario calculation. There are `n_line` scenarios. In each scenario one line will be disabled. Since the original network is radial, part of the network will be unenergized due to the switch-off of a line.\n",
    "\n",
    "## Preparation\n",
    "\n",
    "The N-1 scenario input is generated for `power-grid-model`. Since `pandapower` does not have a built-in N-1 scenario calculation, we execute the power flow per scenario in a loop."
   ]
  },
  {
   "cell_type": "code",
   "execution_count": 22,
   "id": "3bbe4faa",
   "metadata": {},
   "outputs": [
    {
     "ename": "TypeError",
     "evalue": "generate_fictional_grid() missing 3 required positional arguments: 'n_step', 'load_scaling_min', and 'load_scaling_max'",
     "output_type": "error",
     "traceback": [
      "\u001b[0;31m---------------------------------------------------------------------------\u001b[0m",
      "\u001b[0;31mTypeError\u001b[0m                                 Traceback (most recent call last)",
      "Cell \u001b[0;32mIn[22], line 2\u001b[0m\n\u001b[1;32m      1\u001b[0m \u001b[39m# re-generate dataset\u001b[39;00m\n\u001b[0;32m----> 2\u001b[0m fictional_dataset \u001b[39m=\u001b[39m generate_fictional_grid(\n\u001b[1;32m      3\u001b[0m     n_node_per_feeder\u001b[39m=\u001b[39;49mn_node_per_feeder,\n\u001b[1;32m      4\u001b[0m     n_feeder\u001b[39m=\u001b[39;49mn_feeder,\n\u001b[1;32m      5\u001b[0m     cable_length_km_min\u001b[39m=\u001b[39;49mcable_length_km_min,\n\u001b[1;32m      6\u001b[0m     cable_length_km_max\u001b[39m=\u001b[39;49mcable_length_km_max,\n\u001b[1;32m      7\u001b[0m     load_p_w_max\u001b[39m=\u001b[39;49mload_p_w_max,\n\u001b[1;32m      8\u001b[0m     load_p_w_min\u001b[39m=\u001b[39;49mload_p_w_min,\n\u001b[1;32m      9\u001b[0m     pf\u001b[39m=\u001b[39;49mpf\n\u001b[1;32m     10\u001b[0m )\n\u001b[1;32m     12\u001b[0m pp_net \u001b[39m=\u001b[39m fictional_dataset[\u001b[39m'\u001b[39m\u001b[39mpp_net\u001b[39m\u001b[39m'\u001b[39m]\n\u001b[1;32m     13\u001b[0m pgm_dataset \u001b[39m=\u001b[39m fictional_dataset[\u001b[39m'\u001b[39m\u001b[39mpgm_dataset\u001b[39m\u001b[39m'\u001b[39m]\n",
      "\u001b[0;31mTypeError\u001b[0m: generate_fictional_grid() missing 3 required positional arguments: 'n_step', 'load_scaling_min', and 'load_scaling_max'"
     ]
    }
   ],
   "source": [
    "# re-generate dataset\n",
    "fictional_dataset = generate_fictional_grid(\n",
    "    n_node_per_feeder=n_node_per_feeder,\n",
    "    n_feeder=n_feeder,\n",
    "    cable_length_km_min=cable_length_km_min,\n",
    "    cable_length_km_max=cable_length_km_max,\n",
    "    load_p_w_max=load_p_w_max,\n",
    "    load_p_w_min=load_p_w_min,\n",
    "    pf=pf,\n",
    "    n_step=n_step,\n",
    "    load_scaling_min=load_scaling_min,\n",
    "    load_scaling_max=load_scaling_max,\n",
    ")\n",
    "\n",
    "pp_net = fictional_dataset[\"pp_net\"]\n",
    "pgm_dataset = fictional_dataset[\"pgm_dataset\"]\n",
    "\n",
    "# update dataset for power grid model\n",
    "# disable one line per batch\n",
    "pgm_line_profile = pgm.initialize_array(\"update\", \"line\", (n_line, n_line))\n",
    "pgm_line_profile[\"id\"] = pgm_dataset[\"line\"][\"id\"]\n",
    "pgm_line_profile[\"from_status\"] = 1\n",
    "pgm_line_profile[\"to_status\"] = 1\n",
    "np.fill_diagonal(pgm_line_profile[\"from_status\"], 0)\n",
    "np.fill_diagonal(pgm_line_profile[\"to_status\"], 0)\n",
    "pgm_update_dataset = {\"line\": pgm_line_profile}"
   ]
  },
  {
   "cell_type": "markdown",
   "id": "7e7890a5",
   "metadata": {},
   "source": [
    "## Symmetric"
   ]
  },
  {
   "cell_type": "markdown",
   "id": "36a9bf89",
   "metadata": {},
   "source": [
    "### power-grid-model"
   ]
  },
  {
   "cell_type": "code",
   "execution_count": null,
   "id": "ab0c5fc2",
   "metadata": {},
   "outputs": [],
   "source": [
    "pgm_result = benchmark_pgm_power_flow(symmetric=True, calculation_type='N-1 symmetric calculation', update_data=pgm_update_dataset)\n"
   ]
  },
  {
   "cell_type": "markdown",
   "id": "e9044a03",
   "metadata": {},
   "source": [
    "### Newton-Raphson Method of pandapower"
   ]
  },
  {
   "cell_type": "code",
   "execution_count": null,
   "id": "d1a08656",
   "metadata": {},
   "outputs": [],
   "source": [
    "# prepare pandapower result dataset\n",
    "pp_u_pu = np.empty(shape=(n_line, n_node), dtype=np.float64)\n",
    "pp_loading = np.empty(shape=(n_line, n_line), dtype=np.float64)\n",
    "\n",
    "start = time.time()\n",
    "# loop to calcualte pandapower N-1\n",
    "for i in pp_net.line.index:\n",
    "    # set one line out of service\n",
    "    pp_net.line.loc[i, 'in_service'] = False\n",
    "    pp.runpp(pp_net, algorithm='nr', calculate_voltage_angles=True, distributed_slack=True, lightsim2grid=use_lightsim2grid)\n",
    "    # restore that line\n",
    "    pp_net.line.loc[i, 'in_service'] = True\n",
    "    # get result\n",
    "    pp_u_pu[i, :] = pp_net.res_bus['vm_pu']\n",
    "    pp_loading[i, :] = pp_net.res_line['loading_percent'] * 1e-2\n",
    "end = time.time()\n",
    "summary_df.loc['N-1 symmetric calculation', 'PandaPower Newton-Raphson'] = end - start\n",
    "\n",
    "# set nan to 0.0 to make a meaningful comparison\n",
    "pp_u_pu[np.isnan(pp_u_pu)] = 0.0\n",
    "pp_loading[np.isnan(pp_loading)] = 0.0"
   ]
  },
  {
   "cell_type": "markdown",
   "id": "59d1eb45",
   "metadata": {},
   "source": [
    "### Calculate Deviation for Newton-Raphson Method"
   ]
  },
  {
   "cell_type": "code",
   "execution_count": null,
   "id": "040c08a0",
   "metadata": {},
   "outputs": [],
   "source": [
    "comparison_df.loc['N-1 symmetric calculation', 'Deviation Voltage (p.u.)'] = \\\n",
    "    np.abs(pp_u_pu - pgm_result['node']['u_pu']).max()\n",
    "comparison_df.loc['N-1 symmetric calculation', 'Deviation Loading (p.u.)'] = \\\n",
    "    np.abs(pp_loading - pgm_result['line']['loading']).max()"
   ]
  },
  {
   "cell_type": "markdown",
   "id": "e88d7a46",
   "metadata": {},
   "source": [
    "## Asymmetric"
   ]
  },
  {
   "cell_type": "markdown",
   "id": "162236d4",
   "metadata": {},
   "source": [
    "### power-grid-model"
   ]
  },
  {
   "cell_type": "code",
   "execution_count": null,
   "id": "c0e18e41",
   "metadata": {},
   "outputs": [],
   "source": [
    "pgm_result = benchmark_pgm_power_flow(symmetric=False, calculation_type='N-1 asymmetric calculation', update_data=pgm_update_dataset)\n"
   ]
  },
  {
   "cell_type": "markdown",
   "id": "cf3913e3",
   "metadata": {},
   "source": [
    "### Newton-Raphson Method of pandapower"
   ]
  },
  {
   "cell_type": "code",
   "execution_count": null,
   "id": "65ecfde0",
   "metadata": {},
   "outputs": [],
   "source": [
    "%%capture\n",
    "\n",
    "# prepare pandapower result dataset\n",
    "pp_u_pu = np.empty(shape=(n_line, n_node, 3), dtype=np.float64)\n",
    "pp_loading = np.empty(shape=(n_line, n_line), dtype=np.float64)\n",
    "\n",
    "start = time.time()\n",
    "# loop to calcualte pandapower N-1\n",
    "for i in pp_net.line.index:\n",
    "    # set one line out of service\n",
    "    pp_net.line.loc[i, 'in_service'] = False\n",
    "    pp.runpp_3ph(pp_net, algorithm='nr', calculate_voltage_angles=True, distributed_slack=True, lightsim2grid=use_lightsim2grid)\n",
    "    # restore that line\n",
    "    pp_net.line.loc[i, 'in_service'] = True\n",
    "    # get result\n",
    "    pp_u_pu[i, ...] = pp_net.res_bus_3ph[['vm_a_pu', 'vm_b_pu', 'vm_c_pu']]\n",
    "    pp_loading[i, :] = pp_net.res_line_3ph['loading_percent'] * 1e-2\n",
    "end = time.time()\n",
    "summary_df.loc['N-1 asymmetric calculation', 'PandaPower Newton-Raphson'] = end - start\n",
    "\n",
    "# set nan to 0.0 to make a meaningful comparison\n",
    "pp_u_pu[np.isnan(pp_u_pu)] = 0.0\n",
    "pp_loading[np.isnan(pp_loading)] = 0.0"
   ]
  },
  {
   "cell_type": "markdown",
   "id": "6be215a8",
   "metadata": {},
   "source": [
    "### Calculate Deviation for Newton-Raphson Method"
   ]
  },
  {
   "cell_type": "code",
   "execution_count": null,
   "id": "11accf7c",
   "metadata": {},
   "outputs": [],
   "source": [
    "comparison_df.loc['N-1 asymmetric calculation', 'Deviation Voltage (p.u.)'] = \\\n",
    "    np.abs(pp_u_pu - pgm_result['node']['u_pu']).max()\n",
    "comparison_df.loc['N-1 asymmetric calculation', 'Deviation Loading (p.u.)'] = \\\n",
    "    np.abs(pp_loading - pgm_result['line']['loading']).max()"
   ]
  },
  {
   "cell_type": "markdown",
   "id": "ff983dfb",
   "metadata": {},
   "source": [
    "# Summary"
   ]
  },
  {
   "cell_type": "markdown",
   "id": "1438d2af",
   "metadata": {},
   "source": [
    "## Deviation of Results\n",
    "\n",
    "Below is the table of deviation between the results from `power-grid-model` and `pandapower`. It matches to the order of `1e-7`."
   ]
  },
  {
   "cell_type": "code",
   "execution_count": null,
   "id": "300e650a",
   "metadata": {},
   "outputs": [
    {
     "data": {
      "text/html": [
       "<div>\n",
       "<style scoped>\n",
       "    .dataframe tbody tr th:only-of-type {\n",
       "        vertical-align: middle;\n",
       "    }\n",
       "\n",
       "    .dataframe tbody tr th {\n",
       "        vertical-align: top;\n",
       "    }\n",
       "\n",
       "    .dataframe thead th {\n",
       "        text-align: right;\n",
       "    }\n",
       "</style>\n",
       "<table border=\"1\" class=\"dataframe\">\n",
       "  <thead>\n",
       "    <tr style=\"text-align: right;\">\n",
       "      <th></th>\n",
       "      <th>Deviation Voltage (p.u.)</th>\n",
       "      <th>Deviation Loading (p.u.)</th>\n",
       "    </tr>\n",
       "  </thead>\n",
       "  <tbody>\n",
       "    <tr>\n",
       "      <th>Symmetric calculation</th>\n",
       "      <td>1.517986e-11</td>\n",
       "      <td>2.034896e-10</td>\n",
       "    </tr>\n",
       "    <tr>\n",
       "      <th>Asymmetric calculation</th>\n",
       "      <td>4.105902e-10</td>\n",
       "      <td>2.976015e-09</td>\n",
       "    </tr>\n",
       "    <tr>\n",
       "      <th>Time series symmetric calculation</th>\n",
       "      <td>2.969180e-11</td>\n",
       "      <td>3.913771e-10</td>\n",
       "    </tr>\n",
       "    <tr>\n",
       "      <th>Time series asymmetric calculation</th>\n",
       "      <td>1.228256e-09</td>\n",
       "      <td>1.378687e-08</td>\n",
       "    </tr>\n",
       "    <tr>\n",
       "      <th>N-1 symmetric calculation</th>\n",
       "      <td>1.517830e-11</td>\n",
       "      <td>2.035167e-10</td>\n",
       "    </tr>\n",
       "    <tr>\n",
       "      <th>N-1 asymmetric calculation</th>\n",
       "      <td>4.105933e-10</td>\n",
       "      <td>2.976018e-09</td>\n",
       "    </tr>\n",
       "  </tbody>\n",
       "</table>\n",
       "</div>"
      ],
      "text/plain": [
       "                                    Deviation Voltage (p.u.)   \n",
       "Symmetric calculation                           1.517986e-11  \\\n",
       "Asymmetric calculation                          4.105902e-10   \n",
       "Time series symmetric calculation               2.969180e-11   \n",
       "Time series asymmetric calculation              1.228256e-09   \n",
       "N-1 symmetric calculation                       1.517830e-11   \n",
       "N-1 asymmetric calculation                      4.105933e-10   \n",
       "\n",
       "                                    Deviation Loading (p.u.)  \n",
       "Symmetric calculation                           2.034896e-10  \n",
       "Asymmetric calculation                          2.976015e-09  \n",
       "Time series symmetric calculation               3.913771e-10  \n",
       "Time series asymmetric calculation              1.378687e-08  \n",
       "N-1 symmetric calculation                       2.035167e-10  \n",
       "N-1 asymmetric calculation                      2.976018e-09  "
      ]
     },
     "metadata": {},
     "output_type": "display_data"
    }
   ],
   "source": [
    "display(comparison_df)"
   ]
  },
  {
   "cell_type": "markdown",
   "id": "88cff8be",
   "metadata": {},
   "source": [
    "## Performance Comparison\n",
    "\n",
    "Below is the table of the measured time of all calculations."
   ]
  },
  {
   "cell_type": "code",
   "execution_count": null,
   "id": "4f897355",
   "metadata": {},
   "outputs": [
    {
     "data": {
      "text/html": [
       "<div>\n",
       "<style scoped>\n",
       "    .dataframe tbody tr th:only-of-type {\n",
       "        vertical-align: middle;\n",
       "    }\n",
       "\n",
       "    .dataframe tbody tr th {\n",
       "        vertical-align: top;\n",
       "    }\n",
       "\n",
       "    .dataframe thead th {\n",
       "        text-align: right;\n",
       "    }\n",
       "</style>\n",
       "<table border=\"1\" class=\"dataframe\">\n",
       "  <thead>\n",
       "    <tr style=\"text-align: right;\">\n",
       "      <th></th>\n",
       "      <th>PGM Linear Impedance</th>\n",
       "      <th>PGM Linear Current</th>\n",
       "      <th>PGM Newton-Raphson</th>\n",
       "      <th>PGM Iterative Current</th>\n",
       "      <th>PandaPower Newton-Raphson</th>\n",
       "    </tr>\n",
       "  </thead>\n",
       "  <tbody>\n",
       "    <tr>\n",
       "      <th>Symmetric calculation with solver initialization</th>\n",
       "      <td>0.000451</td>\n",
       "      <td>0.000117</td>\n",
       "      <td>0.000092</td>\n",
       "      <td>0.000095</td>\n",
       "      <td>0.013131</td>\n",
       "    </tr>\n",
       "    <tr>\n",
       "      <th>Symmetric calculation without solver initialization</th>\n",
       "      <td>0.000079</td>\n",
       "      <td>0.000069</td>\n",
       "      <td>0.000073</td>\n",
       "      <td>0.000077</td>\n",
       "      <td>0.011888</td>\n",
       "    </tr>\n",
       "    <tr>\n",
       "      <th>Asymmetric calculation with solver initialization</th>\n",
       "      <td>0.002263</td>\n",
       "      <td>0.000559</td>\n",
       "      <td>0.000356</td>\n",
       "      <td>0.000324</td>\n",
       "      <td>0.027545</td>\n",
       "    </tr>\n",
       "    <tr>\n",
       "      <th>Asymmetric calculation without solver initialization</th>\n",
       "      <td>0.000237</td>\n",
       "      <td>0.000197</td>\n",
       "      <td>0.000217</td>\n",
       "      <td>0.000217</td>\n",
       "      <td>0.021305</td>\n",
       "    </tr>\n",
       "    <tr>\n",
       "      <th>Time series symmetric calculation</th>\n",
       "      <td>0.000288</td>\n",
       "      <td>0.000175</td>\n",
       "      <td>0.000214</td>\n",
       "      <td>0.000234</td>\n",
       "      <td>0.097591</td>\n",
       "    </tr>\n",
       "    <tr>\n",
       "      <th>Time series asymmetric calculation</th>\n",
       "      <td>0.000622</td>\n",
       "      <td>0.000214</td>\n",
       "      <td>0.000412</td>\n",
       "      <td>0.000260</td>\n",
       "      <td>0.230883</td>\n",
       "    </tr>\n",
       "    <tr>\n",
       "      <th>N-1 symmetric calculation</th>\n",
       "      <td>0.000301</td>\n",
       "      <td>0.000188</td>\n",
       "      <td>0.000212</td>\n",
       "      <td>0.000503</td>\n",
       "      <td>0.102911</td>\n",
       "    </tr>\n",
       "    <tr>\n",
       "      <th>N-1 asymmetric calculation</th>\n",
       "      <td>0.000663</td>\n",
       "      <td>0.000317</td>\n",
       "      <td>0.000316</td>\n",
       "      <td>0.000324</td>\n",
       "      <td>0.133024</td>\n",
       "    </tr>\n",
       "  </tbody>\n",
       "</table>\n",
       "</div>"
      ],
      "text/plain": [
       "                                                    PGM Linear Impedance   \n",
       "Symmetric calculation with solver initialization                0.000451  \\\n",
       "Symmetric calculation without solver initializa...              0.000079   \n",
       "Asymmetric calculation with solver initialization               0.002263   \n",
       "Asymmetric calculation without solver initializ...              0.000237   \n",
       "Time series symmetric calculation                               0.000288   \n",
       "Time series asymmetric calculation                              0.000622   \n",
       "N-1 symmetric calculation                                       0.000301   \n",
       "N-1 asymmetric calculation                                      0.000663   \n",
       "\n",
       "                                                    PGM Linear Current   \n",
       "Symmetric calculation with solver initialization              0.000117  \\\n",
       "Symmetric calculation without solver initializa...            0.000069   \n",
       "Asymmetric calculation with solver initialization             0.000559   \n",
       "Asymmetric calculation without solver initializ...            0.000197   \n",
       "Time series symmetric calculation                             0.000175   \n",
       "Time series asymmetric calculation                            0.000214   \n",
       "N-1 symmetric calculation                                     0.000188   \n",
       "N-1 asymmetric calculation                                    0.000317   \n",
       "\n",
       "                                                    PGM Newton-Raphson   \n",
       "Symmetric calculation with solver initialization              0.000092  \\\n",
       "Symmetric calculation without solver initializa...            0.000073   \n",
       "Asymmetric calculation with solver initialization             0.000356   \n",
       "Asymmetric calculation without solver initializ...            0.000217   \n",
       "Time series symmetric calculation                             0.000214   \n",
       "Time series asymmetric calculation                            0.000412   \n",
       "N-1 symmetric calculation                                     0.000212   \n",
       "N-1 asymmetric calculation                                    0.000316   \n",
       "\n",
       "                                                    PGM Iterative Current   \n",
       "Symmetric calculation with solver initialization                 0.000095  \\\n",
       "Symmetric calculation without solver initializa...               0.000077   \n",
       "Asymmetric calculation with solver initialization                0.000324   \n",
       "Asymmetric calculation without solver initializ...               0.000217   \n",
       "Time series symmetric calculation                                0.000234   \n",
       "Time series asymmetric calculation                               0.000260   \n",
       "N-1 symmetric calculation                                        0.000503   \n",
       "N-1 asymmetric calculation                                       0.000324   \n",
       "\n",
       "                                                    PandaPower Newton-Raphson  \n",
       "Symmetric calculation with solver initialization                     0.013131  \n",
       "Symmetric calculation without solver initializa...                   0.011888  \n",
       "Asymmetric calculation with solver initialization                    0.027545  \n",
       "Asymmetric calculation without solver initializ...                   0.021305  \n",
       "Time series symmetric calculation                                    0.097591  \n",
       "Time series asymmetric calculation                                   0.230883  \n",
       "N-1 symmetric calculation                                            0.102911  \n",
       "N-1 asymmetric calculation                                           0.133024  "
      ]
     },
     "metadata": {},
     "output_type": "display_data"
    }
   ],
   "source": [
    "display(summary_df)"
   ]
  },
  {
   "cell_type": "code",
   "execution_count": null,
   "id": "6c921324",
   "metadata": {},
   "outputs": [
    {
     "data": {
      "text/html": [
       "<style type=\"text/css\">\n",
       "</style>\n",
       "<table id=\"T_9ccc5\">\n",
       "  <thead>\n",
       "    <tr>\n",
       "      <th class=\"blank level0\" >&nbsp;</th>\n",
       "      <th id=\"T_9ccc5_level0_col0\" class=\"col_heading level0 col0\" >PGM Linear Impedance</th>\n",
       "      <th id=\"T_9ccc5_level0_col1\" class=\"col_heading level0 col1\" >PGM Linear Current</th>\n",
       "      <th id=\"T_9ccc5_level0_col2\" class=\"col_heading level0 col2\" >PGM Newton-Raphson</th>\n",
       "      <th id=\"T_9ccc5_level0_col3\" class=\"col_heading level0 col3\" >PGM Iterative Current</th>\n",
       "      <th id=\"T_9ccc5_level0_col4\" class=\"col_heading level0 col4\" >PandaPower Newton-Raphson</th>\n",
       "    </tr>\n",
       "  </thead>\n",
       "  <tbody>\n",
       "    <tr>\n",
       "      <th id=\"T_9ccc5_level0_row0\" class=\"row_heading level0 row0\" >Symmetric calculation with solver initialization</th>\n",
       "      <td id=\"T_9ccc5_row0_col0\" class=\"data row0 col0\" >29.09x</td>\n",
       "      <td id=\"T_9ccc5_row0_col1\" class=\"data row0 col1\" >112.40x</td>\n",
       "      <td id=\"T_9ccc5_row0_col2\" class=\"data row0 col2\" >142.31x</td>\n",
       "      <td id=\"T_9ccc5_row0_col3\" class=\"data row0 col3\" >138.73x</td>\n",
       "      <td id=\"T_9ccc5_row0_col4\" class=\"data row0 col4\" >1.00x</td>\n",
       "    </tr>\n",
       "    <tr>\n",
       "      <th id=\"T_9ccc5_level0_row1\" class=\"row_heading level0 row1\" >Symmetric calculation without solver initialization</th>\n",
       "      <td id=\"T_9ccc5_row1_col0\" class=\"data row1 col0\" >150.64x</td>\n",
       "      <td id=\"T_9ccc5_row1_col1\" class=\"data row1 col1\" >172.54x</td>\n",
       "      <td id=\"T_9ccc5_row1_col2\" class=\"data row1 col2\" >162.42x</td>\n",
       "      <td id=\"T_9ccc5_row1_col3\" class=\"data row1 col3\" >154.37x</td>\n",
       "      <td id=\"T_9ccc5_row1_col4\" class=\"data row1 col4\" >1.00x</td>\n",
       "    </tr>\n",
       "    <tr>\n",
       "      <th id=\"T_9ccc5_level0_row2\" class=\"row_heading level0 row2\" >Asymmetric calculation with solver initialization</th>\n",
       "      <td id=\"T_9ccc5_row2_col0\" class=\"data row2 col0\" >12.17x</td>\n",
       "      <td id=\"T_9ccc5_row2_col1\" class=\"data row2 col1\" >49.29x</td>\n",
       "      <td id=\"T_9ccc5_row2_col2\" class=\"data row2 col2\" >77.38x</td>\n",
       "      <td id=\"T_9ccc5_row2_col3\" class=\"data row2 col3\" >85.01x</td>\n",
       "      <td id=\"T_9ccc5_row2_col4\" class=\"data row2 col4\" >1.00x</td>\n",
       "    </tr>\n",
       "    <tr>\n",
       "      <th id=\"T_9ccc5_level0_row3\" class=\"row_heading level0 row3\" >Asymmetric calculation without solver initialization</th>\n",
       "      <td id=\"T_9ccc5_row3_col0\" class=\"data row3 col0\" >89.81x</td>\n",
       "      <td id=\"T_9ccc5_row3_col1\" class=\"data row3 col1\" >108.32x</td>\n",
       "      <td id=\"T_9ccc5_row3_col2\" class=\"data row3 col2\" >97.98x</td>\n",
       "      <td id=\"T_9ccc5_row3_col3\" class=\"data row3 col3\" >97.98x</td>\n",
       "      <td id=\"T_9ccc5_row3_col4\" class=\"data row3 col4\" >1.00x</td>\n",
       "    </tr>\n",
       "    <tr>\n",
       "      <th id=\"T_9ccc5_level0_row4\" class=\"row_heading level0 row4\" >Time series symmetric calculation</th>\n",
       "      <td id=\"T_9ccc5_row4_col0\" class=\"data row4 col0\" >338.29x</td>\n",
       "      <td id=\"T_9ccc5_row4_col1\" class=\"data row4 col1\" >556.15x</td>\n",
       "      <td id=\"T_9ccc5_row4_col2\" class=\"data row4 col2\" >455.82x</td>\n",
       "      <td id=\"T_9ccc5_row4_col3\" class=\"data row4 col3\" >416.83x</td>\n",
       "      <td id=\"T_9ccc5_row4_col4\" class=\"data row4 col4\" >1.00x</td>\n",
       "    </tr>\n",
       "    <tr>\n",
       "      <th id=\"T_9ccc5_level0_row5\" class=\"row_heading level0 row5\" >Time series asymmetric calculation</th>\n",
       "      <td id=\"T_9ccc5_row5_col0\" class=\"data row5 col0\" >371.32x</td>\n",
       "      <td id=\"T_9ccc5_row5_col1\" class=\"data row5 col1\" >1077.19x</td>\n",
       "      <td id=\"T_9ccc5_row5_col2\" class=\"data row5 col2\" >560.09x</td>\n",
       "      <td id=\"T_9ccc5_row5_col3\" class=\"data row5 col3\" >887.62x</td>\n",
       "      <td id=\"T_9ccc5_row5_col4\" class=\"data row5 col4\" >1.00x</td>\n",
       "    </tr>\n",
       "    <tr>\n",
       "      <th id=\"T_9ccc5_level0_row6\" class=\"row_heading level0 row6\" >N-1 symmetric calculation</th>\n",
       "      <td id=\"T_9ccc5_row6_col0\" class=\"data row6 col0\" >342.03x</td>\n",
       "      <td id=\"T_9ccc5_row6_col1\" class=\"data row6 col1\" >548.46x</td>\n",
       "      <td id=\"T_9ccc5_row6_col2\" class=\"data row6 col2\" >485.53x</td>\n",
       "      <td id=\"T_9ccc5_row6_col3\" class=\"data row6 col3\" >204.76x</td>\n",
       "      <td id=\"T_9ccc5_row6_col4\" class=\"data row6 col4\" >1.00x</td>\n",
       "    </tr>\n",
       "    <tr>\n",
       "      <th id=\"T_9ccc5_level0_row7\" class=\"row_heading level0 row7\" >N-1 asymmetric calculation</th>\n",
       "      <td id=\"T_9ccc5_row7_col0\" class=\"data row7 col0\" >200.70x</td>\n",
       "      <td id=\"T_9ccc5_row7_col1\" class=\"data row7 col1\" >419.19x</td>\n",
       "      <td id=\"T_9ccc5_row7_col2\" class=\"data row7 col2\" >420.77x</td>\n",
       "      <td id=\"T_9ccc5_row7_col3\" class=\"data row7 col3\" >409.95x</td>\n",
       "      <td id=\"T_9ccc5_row7_col4\" class=\"data row7 col4\" >1.00x</td>\n",
       "    </tr>\n",
       "  </tbody>\n",
       "</table>\n"
      ],
      "text/plain": [
       "<pandas.io.formats.style.Styler at 0x7fc7d9cc8c70>"
      ]
     },
     "metadata": {},
     "output_type": "display_data"
    }
   ],
   "source": [
    "relative_df = summary_df.div(summary_df.max(axis=1), axis=0)\n",
    "speedup_df = 1 / relative_df\n",
    "display(speedup_df.style.format(\"{:0.2f}x\"))"
   ]
  }
 ],
 "metadata": {
  "kernelspec": {
   "display_name": "Python 3 (ipykernel)",
   "language": "python",
   "name": "python3"
  },
  "language_info": {
   "codemirror_mode": {
    "name": "ipython",
    "version": 3
   },
   "file_extension": ".py",
   "mimetype": "text/x-python",
   "name": "python",
   "nbconvert_exporter": "python",
   "pygments_lexer": "ipython3",
   "version": "3.10.6"
  },
  "vscode": {
   "interpreter": {
    "hash": "28721edaad53f4f17a46e69ba9bd0e68a80bd49709109c11e752be628e2137ca"
   }
  }
 },
 "nbformat": 4,
 "nbformat_minor": 5
}
