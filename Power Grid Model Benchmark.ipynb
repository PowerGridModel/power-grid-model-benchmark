{
 "cells": [
  {
   "cell_type": "markdown",
   "id": "cd7b594e",
   "metadata": {},
   "source": [
    "# Introduction\n",
    "\n",
    "This notebook presents a benchmark comparison between `power-grid-model` and \n",
    "[`pandapower`](https://github.com/e2nIEE/pandapower).\n",
    "It runs several calculations, measures the calculation time, and compares the results.\n",
    "\n",
    "## Test Network\n",
    "\n",
    "The test network is fictionally generated using pre-defined random criteria. It is a radial network as follows:\n",
    "\n",
    "```\n",
    "\n",
    "source --- source_node ---| ---line--- node ---line--- node ...   (n_node_per_feeder)\n",
    "                          |              |              |\n",
    "                          |            load            load ...\n",
    "                          |\n",
    "                          | ---line--- ...\n",
    "                          | .\n",
    "                          | .\n",
    "                          | .\n",
    "                          | (n_feeder)\n",
    "\n",
    "```\n",
    "\n",
    "There is a node which is connected to a source (external network). From the source node there are `n_feeder` feeders. For each feeder there are `n_node_per_feeder` nodes, lines, and asymmetric loads. There are in total `n_feeder * n_node_per_feeder + 1` nodes in the network.\n",
    "\n",
    "\n",
    "## Calculation\n",
    "\n",
    "The notebook runs a power flow calculation with the same input data in `power-grid-model` and `pandapower`. It runs the following calculations:\n",
    "\n",
    "* Single calculation with solver initialization.\n",
    "* Single calculation without solver initialization (using pre-cached internal matrices).\n",
    "* Time-series calculation\n",
    "* N-1 calculation\n",
    "\n",
    "The calculation is run symmetrically and asymmetrically. Both `power-grid-model` and `pandapower` supports asymmetric loads in symmetric calculations: the three-phase load is aggregated into one symmetric load.\n",
    "\n",
    "We use the Newton-Raphson method for both libraries. In addition, we also use the linear method in `power-grid-model` to see how much performance you can gain in exchange for accuracy.\n",
    "\n",
    "## Results Comparison\n",
    "\n",
    "The following results are compared between `power-grid-model` and `pandapower`:\n",
    "\n",
    "* Per unit voltage of nodes (buses). For asymmetric calculation, it compares the value per phase.\n",
    "* Loading of the lines.\n",
    "\n",
    "It only compares the results of the Newton-Raphson method, since the linear method of `power-grid-model` will produce a less accurate result.\n",
    "\n",
    "## Performance Benchmark\n",
    "\n",
    "The CPU time is measured for the **calculation part** of the program. The data preparation and model initialization is not measured. Furthermore, the single calculation is benchmarked with and without solver initialization. The former needs to execute connectivity check and initialize internal matrices (for example node admittance matrix). The latter uses the pre-cached connectivity and internal matrices."
   ]
  },
  {
   "cell_type": "markdown",
   "id": "f9268706",
   "metadata": {},
   "source": [
    "# Preparation\n",
    "\n",
    "## Import Libraries\n",
    "\n",
    "We import neede libraries here. The fictional network generation and time-series profile generation is in a different Python file\n",
    "[generate_fictional_dataset.py](./generate_fictional_dataset.py)."
   ]
  },
  {
   "cell_type": "code",
   "execution_count": 1,
   "id": "0267ac98",
   "metadata": {},
   "outputs": [],
   "source": [
    "import tempfile\n",
    "import time\n",
    "from pathlib import Path\n",
    "\n",
    "import numpy as np\n",
    "import pandapower as pp\n",
    "import pandas as pd\n",
    "import power_grid_model as pgm\n",
    "\n",
    "from generate_fictional_dataset import generate_fictional_grid, generate_time_series\n",
    "\n",
    "# output dir for pandapower time-series\n",
    "output_dir = Path(tempfile.gettempdir()) / \"pandapower_time_series\"\n",
    "output_dir.mkdir(exist_ok=True)"
   ]
  },
  {
   "cell_type": "markdown",
   "id": "99bb7abf",
   "metadata": {},
   "source": [
    "## Prepare Tables\n",
    "\n",
    "The performance comparison table and result deviation table is initialized below."
   ]
  },
  {
   "cell_type": "code",
   "execution_count": 2,
   "id": "34db0eaa",
   "metadata": {},
   "outputs": [],
   "source": [
    "# summary\n",
    "summary_df = pd.DataFrame(\n",
    "    np.zeros(shape=(8, 3), dtype=np.float64),\n",
    "    columns=['PGM Linear', 'PGM NR', 'PandaPower NR'],\n",
    "    index=[\n",
    "        'Symmetric calculation with solver initialization',\n",
    "        'Symmetric calculation without solver initialization',\n",
    "        'Asymmetric calculation with solver initialization',\n",
    "        'Asymmetric calculation without solver initialization',\n",
    "        'Time series symmetric calculation',\n",
    "        'Time series asymmetric calculation',\n",
    "        'N-1 symmetric calculation',\n",
    "        'N-1 asymmetric calculation',\n",
    "    ]\n",
    ")\n",
    "\n",
    "comparison_df = pd.DataFrame(\n",
    "    np.zeros(shape=(6, 2), dtype=np.float64),\n",
    "    columns=['Deviation Voltage (p.u.)', 'Deviation Loading (p.u.)'],\n",
    "    index=[\n",
    "        'Symmetric calculation',\n",
    "        'Asymmetric calculation',\n",
    "        'Time series symmetric calculation',\n",
    "        'Time series asymmetric calculation',\n",
    "        'N-1 symmetric calculation',\n",
    "        'N-1 asymmetric calculation',\n",
    "    ]\n",
    ")"
   ]
  },
  {
   "cell_type": "markdown",
   "id": "fd10cde7",
   "metadata": {},
   "source": [
    "## Simulation Parameters\n",
    "\n",
    "The simulation parameters, for example, the total number of feeders `n_feeder`, are defined below."
   ]
  },
  {
   "cell_type": "code",
   "execution_count": 3,
   "id": "ece0138d",
   "metadata": {},
   "outputs": [],
   "source": [
    "# fictional grid parameters\n",
    "\n",
    "n_node_per_feeder = 10\n",
    "n_feeder = 100\n",
    "\n",
    "cable_length_km_min = 0.8\n",
    "cable_length_km_max = 1.2\n",
    "load_p_w_max = 0.4e6 * 0.8\n",
    "load_p_w_min = 0.4e6 * 1.2\n",
    "pf = 0.95\n",
    "\n",
    "load_scaling_min = 0.5\n",
    "load_scaling_max = 1.5\n",
    "n_step = 1000\n",
    "n_node = n_node_per_feeder * n_feeder + 1\n",
    "n_line = n_node_per_feeder * n_feeder\n",
    "n_load = n_node_per_feeder * n_feeder\n",
    "\n",
    "use_lightsim2grid = True"
   ]
  },
  {
   "cell_type": "markdown",
   "id": "aab0f11d",
   "metadata": {},
   "source": [
    "## Pre-cache Library\n",
    "\n",
    "To make a fair comparison, we run one small network so that both `power-grid-model` and `pandapower` can cache their dependent libraries into the memory.\n",
    "\n",
    "* For `power-grid-model` the `MKL` `PARDISO` solver is loaded during the pre-cache.\n",
    "* For `pandapower` the `numba` functions are JIT compiled and cached in the memory."
   ]
  },
  {
   "cell_type": "code",
   "execution_count": 4,
   "id": "cc656c47",
   "metadata": {},
   "outputs": [],
   "source": [
    "fictional_dataset = generate_fictional_grid(\n",
    "    n_node_per_feeder=3,\n",
    "    n_feeder=2,\n",
    "    cable_length_km_min=cable_length_km_min,\n",
    "    cable_length_km_max=cable_length_km_max,\n",
    "    load_p_w_max=load_p_w_max,\n",
    "    load_p_w_min=load_p_w_min,\n",
    "    pf=pf\n",
    ")\n",
    "\n",
    "pp.runpp(fictional_dataset['pp_net'], algorithm='nr', calculate_voltage_angles=True, distributed_slack=True, \n",
    "         lightsim2grid=use_lightsim2grid)\n",
    "pgm_model = pgm.PowerGridModel(fictional_dataset['pgm_dataset'])\n",
    "pgm_result = pgm_model.calculate_power_flow()"
   ]
  },
  {
   "cell_type": "markdown",
   "id": "9ca1e1b7",
   "metadata": {},
   "source": [
    "# Single Calculation\n",
    "\n",
    "We begin with a single power flow calculation. First generate the fictional datasets."
   ]
  },
  {
   "cell_type": "code",
   "execution_count": 5,
   "id": "7909cdd9",
   "metadata": {
    "scrolled": true
   },
   "outputs": [],
   "source": [
    "fictional_dataset = generate_fictional_grid(\n",
    "    n_node_per_feeder=n_node_per_feeder,\n",
    "    n_feeder=n_feeder,\n",
    "    cable_length_km_min=cable_length_km_min,\n",
    "    cable_length_km_max=cable_length_km_max,\n",
    "    load_p_w_max=load_p_w_max,\n",
    "    load_p_w_min=load_p_w_min,\n",
    "    pf=pf\n",
    ")\n",
    "\n",
    "pp_net = fictional_dataset['pp_net']\n",
    "pgm_dataset = fictional_dataset['pgm_dataset']"
   ]
  },
  {
   "cell_type": "markdown",
   "id": "681b407b",
   "metadata": {},
   "source": [
    "## Symmetric"
   ]
  },
  {
   "cell_type": "markdown",
   "id": "eb823e12",
   "metadata": {},
   "source": [
    "### Linear Method of power-grid-model"
   ]
  },
  {
   "cell_type": "code",
   "execution_count": 6,
   "id": "612d3384",
   "metadata": {},
   "outputs": [],
   "source": [
    "# first calculation with solver initialization\n",
    "pgm_model = pgm.PowerGridModel(pgm_dataset)\n",
    "start = time.time()\n",
    "pgm_result = pgm_model.calculate_power_flow(calculation_method='linear')\n",
    "end = time.time()\n",
    "summary_df.loc['Symmetric calculation with solver initialization', 'PGM Linear'] = end - start\n",
    "\n",
    "# second calculation with existing solver\n",
    "start = time.time()\n",
    "pgm_result = pgm_model.calculate_power_flow(calculation_method='linear')\n",
    "end = time.time()\n",
    "summary_df.loc['Symmetric calculation without solver initialization', 'PGM Linear'] = end - start"
   ]
  },
  {
   "cell_type": "markdown",
   "id": "09d654ad",
   "metadata": {},
   "source": [
    "### Newton-Raphson Method of power-grid-model"
   ]
  },
  {
   "cell_type": "code",
   "execution_count": 7,
   "id": "7f335ff4",
   "metadata": {},
   "outputs": [],
   "source": [
    "# first calculation with solver initialization\n",
    "pgm_model = pgm.PowerGridModel(pgm_dataset)\n",
    "start = time.time()\n",
    "pgm_result = pgm_model.calculate_power_flow()\n",
    "end = time.time()\n",
    "summary_df.loc['Symmetric calculation with solver initialization', 'PGM NR'] = end - start\n",
    "\n",
    "# second calculation with existing solver\n",
    "start = time.time()\n",
    "pgm_result = pgm_model.calculate_power_flow()\n",
    "end = time.time()\n",
    "summary_df.loc['Symmetric calculation without solver initialization', 'PGM NR'] = end - start"
   ]
  },
  {
   "cell_type": "markdown",
   "id": "8d60c97d",
   "metadata": {},
   "source": [
    "### Newton-Raphson Method of pandapower"
   ]
  },
  {
   "cell_type": "code",
   "execution_count": 8,
   "id": "75a86adc",
   "metadata": {},
   "outputs": [],
   "source": [
    "# first calculation with solver initialization\n",
    "start = time.time()\n",
    "pp.runpp(pp_net, algorithm='nr', calculate_voltage_angles=True, distributed_slack=True, lightsim2grid=use_lightsim2grid)\n",
    "end = time.time()\n",
    "summary_df.loc['Symmetric calculation with solver initialization', 'PandaPower NR'] = end - start\n",
    "\n",
    "# second calculation with existing solver\n",
    "start = time.time()\n",
    "pp.runpp(pp_net, algorithm='nr', calculate_voltage_angles=True, distributed_slack=True, lightsim2grid=use_lightsim2grid)\n",
    "end = time.time()\n",
    "summary_df.loc['Symmetric calculation without solver initialization', 'PandaPower NR'] = end - start"
   ]
  },
  {
   "cell_type": "markdown",
   "id": "0d6c3b2a",
   "metadata": {},
   "source": [
    "### Calculate Deviation for Newton-Raphson Method"
   ]
  },
  {
   "cell_type": "code",
   "execution_count": 9,
   "id": "f532a8ed",
   "metadata": {},
   "outputs": [],
   "source": [
    "comparison_df.loc['Symmetric calculation', 'Deviation Voltage (p.u.)'] = \\\n",
    "    np.abs(pp_net.res_bus['vm_pu'] - pgm_result['node']['u_pu']).max()\n",
    "comparison_df.loc['Symmetric calculation', 'Deviation Loading (p.u.)'] = \\\n",
    "    np.abs(pp_net.res_line['loading_percent'] * 1e-2 - pgm_result['line']['loading']).max()"
   ]
  },
  {
   "cell_type": "markdown",
   "id": "4e07f6c0",
   "metadata": {},
   "source": [
    "## Asymmetric"
   ]
  },
  {
   "cell_type": "markdown",
   "id": "711d1a46",
   "metadata": {},
   "source": [
    "### Linear Method of power-grid-model"
   ]
  },
  {
   "cell_type": "code",
   "execution_count": 10,
   "id": "c76f1366",
   "metadata": {},
   "outputs": [],
   "source": [
    "# first calculation with solver initialization\n",
    "pgm_model = pgm.PowerGridModel(pgm_dataset)\n",
    "start = time.time()\n",
    "pgm_result = pgm_model.calculate_power_flow(symmetric=False, calculation_method='linear')\n",
    "end = time.time()\n",
    "summary_df.loc['Asymmetric calculation with solver initialization', 'PGM Linear'] = end - start\n",
    "\n",
    "# second calculation with existing solver\n",
    "start = time.time()\n",
    "pgm_result = pgm_model.calculate_power_flow(symmetric=False, calculation_method='linear')\n",
    "end = time.time()\n",
    "summary_df.loc['Asymmetric calculation without solver initialization', 'PGM Linear'] = end - start"
   ]
  },
  {
   "cell_type": "markdown",
   "id": "05851548",
   "metadata": {},
   "source": [
    "### Newton-Raphson Method of power-grid-model"
   ]
  },
  {
   "cell_type": "code",
   "execution_count": 11,
   "id": "2ce9f63c",
   "metadata": {},
   "outputs": [],
   "source": [
    "# first calculation with solver initialization\n",
    "pgm_model = pgm.PowerGridModel(pgm_dataset)\n",
    "start = time.time()\n",
    "pgm_result = pgm_model.calculate_power_flow(symmetric=False)\n",
    "end = time.time()\n",
    "summary_df.loc['Asymmetric calculation with solver initialization', 'PGM NR'] = end - start\n",
    "\n",
    "# second calculation with existing solver\n",
    "start = time.time()\n",
    "pgm_result = pgm_model.calculate_power_flow(symmetric=False)\n",
    "end = time.time()\n",
    "summary_df.loc['Asymmetric calculation without solver initialization', 'PGM NR'] = end - start"
   ]
  },
  {
   "cell_type": "markdown",
   "id": "df97fecd",
   "metadata": {},
   "source": [
    "### Newton-Raphson Method of pandapower"
   ]
  },
  {
   "cell_type": "code",
   "execution_count": 12,
   "id": "5357e649",
   "metadata": {},
   "outputs": [],
   "source": [
    "# first calculation with solver initialization\n",
    "start = time.time()\n",
    "pp.runpp_3ph(pp_net, algorithm='nr', calculate_voltage_angles=True, distributed_slack=True, lightsim2grid=use_lightsim2grid)\n",
    "end = time.time()\n",
    "summary_df.loc['Asymmetric calculation with solver initialization', 'PandaPower NR'] = end - start\n",
    "\n",
    "# second calculation with existing solver\n",
    "start = time.time()\n",
    "pp.runpp_3ph(pp_net, algorithm='nr', calculate_voltage_angles=True, distributed_slack=True, lightsim2grid=use_lightsim2grid)\n",
    "end = time.time()\n",
    "summary_df.loc['Asymmetric calculation without solver initialization', 'PandaPower NR'] = end - start\n"
   ]
  },
  {
   "cell_type": "markdown",
   "id": "95846622",
   "metadata": {},
   "source": [
    "### Calculate Deviation for Newton-Raphson Method"
   ]
  },
  {
   "cell_type": "code",
   "execution_count": 13,
   "id": "840e9f29",
   "metadata": {},
   "outputs": [],
   "source": [
    "comparison_df.loc['Asymmetric calculation', 'Deviation Voltage (p.u.)'] = \\\n",
    "    np.abs(pp_net.res_bus_3ph[['vm_a_pu', 'vm_b_pu', 'vm_c_pu']].to_numpy() - pgm_result['node']['u_pu']).max()\n",
    "comparison_df.loc['Asymmetric calculation', 'Deviation Loading (p.u.)'] = \\\n",
    "    np.abs(pp_net.res_line_3ph['loading_percent'] * 1e-2 - pgm_result['line']['loading']).max()"
   ]
  },
  {
   "cell_type": "markdown",
   "id": "bd10ecd4",
   "metadata": {},
   "source": [
    "# Time Series Calculation\n",
    "\n",
    "We execute a time-series power flow with `n_step` timestamps. \n",
    "\n",
    "## Preparation\n",
    "\n",
    "The load profile is randomly generated by the function `generate_time_series`. It produces the relevant input format for both libraries."
   ]
  },
  {
   "cell_type": "code",
   "execution_count": 14,
   "id": "ab571db2",
   "metadata": {},
   "outputs": [],
   "source": [
    "time_series_dataset = generate_time_series(\n",
    "    fictional_dataset,\n",
    "    n_step=n_step,\n",
    "    load_scaling_min=load_scaling_min,\n",
    "    load_scaling_max=load_scaling_max\n",
    ")\n",
    "\n",
    "pgm_update_dataset = time_series_dataset['pgm_update_dataset']\n",
    "pp_dataset = time_series_dataset['pp_dataset']\n",
    "time_steps = np.arange(n_step)\n",
    "\n",
    "for x, y in zip(['p', 'q'], ['mw', 'mvar']):\n",
    "    for p in ['a', 'b', 'c']:\n",
    "        name = f'{x}_{p}_{y}'\n",
    "        pp.control.ConstControl(\n",
    "            pp_net,\n",
    "            element='asymmetric_load',\n",
    "            element_index=pp_net.asymmetric_load.index,\n",
    "            variable=name,\n",
    "            data_source=pp_dataset[name],\n",
    "            profile_name=pp_net.asymmetric_load.index\n",
    "        )\n"
   ]
  },
  {
   "cell_type": "markdown",
   "id": "c0c68b83",
   "metadata": {},
   "source": [
    "## Symmetric"
   ]
  },
  {
   "cell_type": "markdown",
   "id": "5d2f8fd3",
   "metadata": {},
   "source": [
    "### Linear Method of power-grid-model"
   ]
  },
  {
   "cell_type": "code",
   "execution_count": 15,
   "id": "bae29ebf",
   "metadata": {},
   "outputs": [],
   "source": [
    "pgm_model = pgm.PowerGridModel(pgm_dataset)\n",
    "start = time.time()\n",
    "pgm_result = pgm_model.calculate_power_flow(calculation_method='linear', update_data=pgm_update_dataset)\n",
    "end = time.time()\n",
    "summary_df.loc['Time series symmetric calculation', 'PGM Linear'] = end - start"
   ]
  },
  {
   "cell_type": "markdown",
   "id": "b218e76a",
   "metadata": {},
   "source": [
    "### Newton-Raphson Method of power-grid-model"
   ]
  },
  {
   "cell_type": "code",
   "execution_count": 16,
   "id": "b4257bd3",
   "metadata": {},
   "outputs": [],
   "source": [
    "pgm_model = pgm.PowerGridModel(pgm_dataset)\n",
    "start = time.time()\n",
    "pgm_result = pgm_model.calculate_power_flow(update_data=pgm_update_dataset)\n",
    "end = time.time()\n",
    "summary_df.loc['Time series symmetric calculation', 'PGM NR'] = end - start"
   ]
  },
  {
   "cell_type": "markdown",
   "id": "09030805",
   "metadata": {},
   "source": [
    "### Newton-Raphson Method of pandapower"
   ]
  },
  {
   "cell_type": "code",
   "execution_count": 17,
   "id": "b943bdee",
   "metadata": {},
   "outputs": [
    {
     "name": "stderr",
     "output_type": "stream",
     "text": [
      "100%|██████████████████████████████████████████████████████████████████████████████████████| 1000/1000 [00:21<00:00, 46.44it/s]\n"
     ]
    }
   ],
   "source": [
    "pp.timeseries.OutputWriter(\n",
    "    pp_net, output_path=output_dir, output_file_type=\".csv\", csv_separator=',',\n",
    "    log_variables=[\n",
    "        ('res_bus', 'vm_pu'),\n",
    "        ('res_line', 'loading_percent'),\n",
    "    ]\n",
    ")\n",
    "\n",
    "start = time.time()\n",
    "pp.timeseries.run_timeseries(\n",
    "    pp_net, run=pp.runpp, time_steps=time_steps,\n",
    "    calculate_voltage_angles=True, distributed_slack=True, lightsim2grid=use_lightsim2grid\n",
    ")\n",
    "end = time.time()\n",
    "summary_df.loc['Time series symmetric calculation', 'PandaPower NR'] = end - start"
   ]
  },
  {
   "cell_type": "markdown",
   "id": "13e0b644",
   "metadata": {},
   "source": [
    "### Calculate Deviation for Newton-Raphson Method"
   ]
  },
  {
   "cell_type": "code",
   "execution_count": 18,
   "id": "75977fb6",
   "metadata": {},
   "outputs": [],
   "source": [
    "pp_u_pu = pd.read_csv(output_dir / 'res_bus' / 'vm_pu.csv', index_col=0).to_numpy()\n",
    "comparison_df.loc['Time series symmetric calculation', 'Deviation Voltage (p.u.)'] = \\\n",
    "    np.abs(pp_u_pu - pgm_result['node']['u_pu']).max()\n",
    "pp_loading = pd.read_csv(output_dir / 'res_line' / 'loading_percent.csv', index_col=0).to_numpy() * 1e-2\n",
    "comparison_df.loc['Time series symmetric calculation', 'Deviation Loading (p.u.)'] = \\\n",
    "    np.abs(pp_loading - pgm_result['line']['loading']).max()\n"
   ]
  },
  {
   "cell_type": "markdown",
   "id": "b9bff694",
   "metadata": {},
   "source": [
    "## Asymmetric"
   ]
  },
  {
   "cell_type": "markdown",
   "id": "219efc5c",
   "metadata": {},
   "source": [
    "### Linear Method of power-grid-model"
   ]
  },
  {
   "cell_type": "code",
   "execution_count": 19,
   "id": "4735161f",
   "metadata": {},
   "outputs": [],
   "source": [
    "pgm_model = pgm.PowerGridModel(pgm_dataset)\n",
    "start = time.time()\n",
    "pgm_result = pgm_model.calculate_power_flow(symmetric=False, calculation_method='linear', update_data=pgm_update_dataset)\n",
    "end = time.time()\n",
    "summary_df.loc['Time series asymmetric calculation', 'PGM Linear'] = end - start"
   ]
  },
  {
   "cell_type": "markdown",
   "id": "160e5593",
   "metadata": {},
   "source": [
    "### Newton-Raphson Method of power-grid-model"
   ]
  },
  {
   "cell_type": "code",
   "execution_count": 20,
   "id": "cc337c14",
   "metadata": {},
   "outputs": [],
   "source": [
    "pgm_model = pgm.PowerGridModel(pgm_dataset)\n",
    "start = time.time()\n",
    "pgm_result = pgm_model.calculate_power_flow(symmetric=False, update_data=pgm_update_dataset)\n",
    "end = time.time()\n",
    "summary_df.loc['Time series asymmetric calculation', 'PGM NR'] = end - start"
   ]
  },
  {
   "cell_type": "markdown",
   "id": "35320697",
   "metadata": {},
   "source": [
    "### Newton-Raphson Method of pandapower"
   ]
  },
  {
   "cell_type": "code",
   "execution_count": 21,
   "id": "d1b2d792",
   "metadata": {},
   "outputs": [
    {
     "name": "stderr",
     "output_type": "stream",
     "text": [
      "100%|██████████████████████████████████████████████████████████████████████████████████████| 1000/1000 [04:04<00:00,  4.10it/s]\n"
     ]
    }
   ],
   "source": [
    "del pp_net.output_writer\n",
    "ow = pp.timeseries.OutputWriter(pp_net, output_path=output_dir, output_file_type=\".csv\", csv_separator=',')\n",
    "ow.log_variable('res_bus_3ph', 'vm_a_pu', index=pp_net.bus.index)\n",
    "ow.log_variable('res_bus_3ph', 'vm_b_pu', index=pp_net.bus.index)\n",
    "ow.log_variable('res_bus_3ph', 'vm_c_pu', index=pp_net.bus.index)\n",
    "ow.log_variable('res_line_3ph', 'loading_percent', index=pp_net.line.index)\n",
    "\n",
    "# run\n",
    "start = time.time()\n",
    "pp.timeseries.run_timeseries(\n",
    "    pp_net,\n",
    "    run=pp.runpp_3ph,\n",
    "    time_steps=time_steps,\n",
    "    calculate_voltage_angles=True,\n",
    "    distributed_slack=True, \n",
    "    lightsim2grid=use_lightsim2grid\n",
    ")\n",
    "end = time.time()\n",
    "summary_df.loc['Time series asymmetric calculation', 'PandaPower NR'] = end - start"
   ]
  },
  {
   "cell_type": "markdown",
   "id": "28d06b1a",
   "metadata": {},
   "source": [
    "### Calculate Deviation for Newton-Raphson Method"
   ]
  },
  {
   "cell_type": "code",
   "execution_count": 22,
   "id": "1a7f075f",
   "metadata": {},
   "outputs": [],
   "source": [
    "pp_u_pu = []\n",
    "for p in ['a', 'b', 'c']:\n",
    "    pp_u_pu.append(pd.read_csv(output_dir / 'res_bus_3ph' / f'vm_{p}_pu.csv', index_col=0).to_numpy())\n",
    "pp_u_pu = np.stack(pp_u_pu, axis=-1)\n",
    "comparison_df.loc['Time series asymmetric calculation', 'Deviation Voltage (p.u.)'] = \\\n",
    "    np.abs(pp_u_pu - pgm_result['node']['u_pu']).max()\n",
    "pp_loading = pd.read_csv(output_dir / 'res_line_3ph' / 'loading_percent.csv', index_col=0).to_numpy() * 1e-2\n",
    "comparison_df.loc['Time series asymmetric calculation', 'Deviation Loading (p.u.)'] = \\\n",
    "    np.abs(pp_loading - pgm_result['line']['loading']).max()"
   ]
  },
  {
   "cell_type": "markdown",
   "id": "5b259f80",
   "metadata": {},
   "source": [
    "# N-1 Scenario Calculation\n",
    "\n",
    "We execute a N-1 scenario calculation. There are `n_line` scenarios. In each scenario one line will be disabled. Since the original network is radial, part of the network will be unenergized due to the switch-off of a line.\n",
    "\n",
    "## Preparation\n",
    "\n",
    "The N-1 scenario input is generated for `power-grid-model`. Since `pandapower` does not have a built-in N-1 scenario calculation, we execute the power flow per scenario in a loop."
   ]
  },
  {
   "cell_type": "code",
   "execution_count": 23,
   "id": "3bbe4faa",
   "metadata": {},
   "outputs": [],
   "source": [
    "# re-generate dataset\n",
    "fictional_dataset = generate_fictional_grid(\n",
    "    n_node_per_feeder=n_node_per_feeder,\n",
    "    n_feeder=n_feeder,\n",
    "    cable_length_km_min=cable_length_km_min,\n",
    "    cable_length_km_max=cable_length_km_max,\n",
    "    load_p_w_max=load_p_w_max,\n",
    "    load_p_w_min=load_p_w_min,\n",
    "    pf=pf\n",
    ")\n",
    "\n",
    "pp_net = fictional_dataset['pp_net']\n",
    "pgm_dataset = fictional_dataset['pgm_dataset']\n",
    "\n",
    "# update dataset for power grid model\n",
    "# disable one line per batch\n",
    "pgm_line_profile = pgm.initialize_array('update', 'line', (n_line, n_line))\n",
    "pgm_line_profile['id'] = pgm_dataset['line']['id']\n",
    "pgm_line_profile['from_status'] = 1\n",
    "pgm_line_profile['to_status'] = 1\n",
    "np.fill_diagonal(pgm_line_profile['from_status'], 0)\n",
    "np.fill_diagonal(pgm_line_profile['to_status'], 0)\n",
    "pgm_update_dataset = {'line': pgm_line_profile}\n",
    "\n",
    "\n"
   ]
  },
  {
   "cell_type": "markdown",
   "id": "7e7890a5",
   "metadata": {},
   "source": [
    "## Symmetric"
   ]
  },
  {
   "cell_type": "markdown",
   "id": "36a9bf89",
   "metadata": {},
   "source": [
    "### Linear Method of power-grid-model"
   ]
  },
  {
   "cell_type": "code",
   "execution_count": 24,
   "id": "ab0c5fc2",
   "metadata": {},
   "outputs": [],
   "source": [
    "pgm_model = pgm.PowerGridModel(pgm_dataset)\n",
    "start = time.time()\n",
    "pgm_result = pgm_model.calculate_power_flow(calculation_method='linear', update_data=pgm_update_dataset)\n",
    "end = time.time()\n",
    "summary_df.loc['N-1 symmetric calculation', 'PGM Linear'] = end - start"
   ]
  },
  {
   "cell_type": "markdown",
   "id": "3f6131fe",
   "metadata": {},
   "source": [
    "### Newton-Raphson Method of power-grid-model"
   ]
  },
  {
   "cell_type": "code",
   "execution_count": 25,
   "id": "1a9289a9",
   "metadata": {},
   "outputs": [],
   "source": [
    "pgm_model = pgm.PowerGridModel(pgm_dataset)\n",
    "start = time.time()\n",
    "pgm_result = pgm_model.calculate_power_flow(update_data=pgm_update_dataset)\n",
    "end = time.time()\n",
    "summary_df.loc['N-1 symmetric calculation', 'PGM NR'] = end - start"
   ]
  },
  {
   "cell_type": "markdown",
   "id": "e9044a03",
   "metadata": {},
   "source": [
    "### Newton-Raphson Method of pandapower"
   ]
  },
  {
   "cell_type": "code",
   "execution_count": 26,
   "id": "d1a08656",
   "metadata": {},
   "outputs": [],
   "source": [
    "# prepare pandapower result dataset\n",
    "pp_u_pu = np.empty(shape=(n_line, n_node), dtype=np.float64)\n",
    "pp_loading = np.empty(shape=(n_line, n_line), dtype=np.float64)\n",
    "\n",
    "start = time.time()\n",
    "# loop to calcualte pandapower N-1\n",
    "for i in pp_net.line.index:\n",
    "    # set one line out of service\n",
    "    pp_net.line.loc[i, 'in_service'] = False\n",
    "    pp.runpp(pp_net, algorithm='nr', calculate_voltage_angles=True, distributed_slack=True, lightsim2grid=use_lightsim2grid)\n",
    "    # restore that line\n",
    "    pp_net.line.loc[i, 'in_service'] = True\n",
    "    # get result\n",
    "    pp_u_pu[i, :] = pp_net.res_bus['vm_pu']\n",
    "    pp_loading[i, :] = pp_net.res_line['loading_percent'] * 1e-2\n",
    "end = time.time()\n",
    "summary_df.loc['N-1 symmetric calculation', 'PandaPower NR'] = end - start\n",
    "\n",
    "# set nan to 0.0 to make a meaningful comparison\n",
    "pp_u_pu[np.isnan(pp_u_pu)] = 0.0\n",
    "pp_loading[np.isnan(pp_loading)] = 0.0"
   ]
  },
  {
   "cell_type": "markdown",
   "id": "59d1eb45",
   "metadata": {},
   "source": [
    "### Calculate Deviation for Newton-Raphson Method"
   ]
  },
  {
   "cell_type": "code",
   "execution_count": 27,
   "id": "040c08a0",
   "metadata": {},
   "outputs": [],
   "source": [
    "comparison_df.loc['N-1 symmetric calculation', 'Deviation Voltage (p.u.)'] = \\\n",
    "    np.abs(pp_u_pu - pgm_result['node']['u_pu']).max()\n",
    "comparison_df.loc['N-1 symmetric calculation', 'Deviation Loading (p.u.)'] = \\\n",
    "    np.abs(pp_loading - pgm_result['line']['loading']).max()"
   ]
  },
  {
   "cell_type": "markdown",
   "id": "e88d7a46",
   "metadata": {},
   "source": [
    "## Asymmetric"
   ]
  },
  {
   "cell_type": "markdown",
   "id": "162236d4",
   "metadata": {},
   "source": [
    "### Linear Method of power-grid-model"
   ]
  },
  {
   "cell_type": "code",
   "execution_count": 28,
   "id": "c0e18e41",
   "metadata": {},
   "outputs": [],
   "source": [
    "pgm_model = pgm.PowerGridModel(pgm_dataset)\n",
    "start = time.time()\n",
    "pgm_result = pgm_model.calculate_power_flow(calculation_method='linear', update_data=pgm_update_dataset, symmetric=False)\n",
    "end = time.time()\n",
    "summary_df.loc['N-1 asymmetric calculation', 'PGM Linear'] = end - start"
   ]
  },
  {
   "cell_type": "markdown",
   "id": "de6eaf26",
   "metadata": {},
   "source": [
    "### Newton-Raphson Method of power-grid-model"
   ]
  },
  {
   "cell_type": "code",
   "execution_count": 29,
   "id": "130e99b0",
   "metadata": {},
   "outputs": [],
   "source": [
    "pgm_model = pgm.PowerGridModel(pgm_dataset)\n",
    "start = time.time()\n",
    "pgm_result = pgm_model.calculate_power_flow(update_data=pgm_update_dataset, symmetric=False)\n",
    "end = time.time()\n",
    "summary_df.loc['N-1 asymmetric calculation', 'PGM NR'] = end - start"
   ]
  },
  {
   "cell_type": "markdown",
   "id": "cf3913e3",
   "metadata": {},
   "source": [
    "### Newton-Raphson Method of pandapower"
   ]
  },
  {
   "cell_type": "code",
   "execution_count": 30,
   "id": "65ecfde0",
   "metadata": {},
   "outputs": [],
   "source": [
    "%%capture\n",
    "\n",
    "# prepare pandapower result dataset\n",
    "pp_u_pu = np.empty(shape=(n_line, n_node, 3), dtype=np.float64)\n",
    "pp_loading = np.empty(shape=(n_line, n_line), dtype=np.float64)\n",
    "\n",
    "start = time.time()\n",
    "# loop to calcualte pandapower N-1\n",
    "for i in pp_net.line.index:\n",
    "    # set one line out of service\n",
    "    pp_net.line.loc[i, 'in_service'] = False\n",
    "    pp.runpp_3ph(pp_net, algorithm='nr', calculate_voltage_angles=True, distributed_slack=True, lightsim2grid=use_lightsim2grid)\n",
    "    # restore that line\n",
    "    pp_net.line.loc[i, 'in_service'] = True\n",
    "    # get result\n",
    "    pp_u_pu[i, ...] = pp_net.res_bus_3ph[['vm_a_pu', 'vm_b_pu', 'vm_c_pu']]\n",
    "    pp_loading[i, :] = pp_net.res_line_3ph['loading_percent'] * 1e-2\n",
    "end = time.time()\n",
    "summary_df.loc['N-1 asymmetric calculation', 'PandaPower NR'] = end - start\n",
    "\n",
    "# set nan to 0.0 to make a meaningful comparison\n",
    "pp_u_pu[np.isnan(pp_u_pu)] = 0.0\n",
    "pp_loading[np.isnan(pp_loading)] = 0.0"
   ]
  },
  {
   "cell_type": "markdown",
   "id": "6be215a8",
   "metadata": {},
   "source": [
    "### Calculate Deviation for Newton-Raphson Method"
   ]
  },
  {
   "cell_type": "code",
   "execution_count": 31,
   "id": "11accf7c",
   "metadata": {},
   "outputs": [],
   "source": [
    "comparison_df.loc['N-1 asymmetric calculation', 'Deviation Voltage (p.u.)'] = \\\n",
    "    np.abs(pp_u_pu - pgm_result['node']['u_pu']).max()\n",
    "comparison_df.loc['N-1 asymmetric calculation', 'Deviation Loading (p.u.)'] = \\\n",
    "    np.abs(pp_loading - pgm_result['line']['loading']).max()"
   ]
  },
  {
   "cell_type": "markdown",
   "id": "ff983dfb",
   "metadata": {},
   "source": [
    "# Summary"
   ]
  },
  {
   "cell_type": "markdown",
   "id": "1438d2af",
   "metadata": {},
   "source": [
    "## Deviation of Results\n",
    "\n",
    "Below is the table of deviation between the results from `power-grid-model` and `pandapower`. It matches to the order of `1e-7`."
   ]
  },
  {
   "cell_type": "code",
   "execution_count": 32,
   "id": "300e650a",
   "metadata": {},
   "outputs": [
    {
     "data": {
      "text/html": [
       "<div>\n",
       "<style scoped>\n",
       "    .dataframe tbody tr th:only-of-type {\n",
       "        vertical-align: middle;\n",
       "    }\n",
       "\n",
       "    .dataframe tbody tr th {\n",
       "        vertical-align: top;\n",
       "    }\n",
       "\n",
       "    .dataframe thead th {\n",
       "        text-align: right;\n",
       "    }\n",
       "</style>\n",
       "<table border=\"1\" class=\"dataframe\">\n",
       "  <thead>\n",
       "    <tr style=\"text-align: right;\">\n",
       "      <th></th>\n",
       "      <th>Deviation Voltage (p.u.)</th>\n",
       "      <th>Deviation Loading (p.u.)</th>\n",
       "    </tr>\n",
       "  </thead>\n",
       "  <tbody>\n",
       "    <tr>\n",
       "      <th>Symmetric calculation</th>\n",
       "      <td>1.631806e-12</td>\n",
       "      <td>5.144773e-13</td>\n",
       "    </tr>\n",
       "    <tr>\n",
       "      <th>Asymmetric calculation</th>\n",
       "      <td>3.299400e-08</td>\n",
       "      <td>1.606717e-07</td>\n",
       "    </tr>\n",
       "    <tr>\n",
       "      <th>Time series symmetric calculation</th>\n",
       "      <td>1.779688e-12</td>\n",
       "      <td>1.273925e-12</td>\n",
       "    </tr>\n",
       "    <tr>\n",
       "      <th>Time series asymmetric calculation</th>\n",
       "      <td>1.404013e-07</td>\n",
       "      <td>6.695306e-07</td>\n",
       "    </tr>\n",
       "    <tr>\n",
       "      <th>N-1 symmetric calculation</th>\n",
       "      <td>1.637579e-12</td>\n",
       "      <td>5.800083e-13</td>\n",
       "    </tr>\n",
       "    <tr>\n",
       "      <th>N-1 asymmetric calculation</th>\n",
       "      <td>3.299404e-08</td>\n",
       "      <td>1.606718e-07</td>\n",
       "    </tr>\n",
       "  </tbody>\n",
       "</table>\n",
       "</div>"
      ],
      "text/plain": [
       "                                    Deviation Voltage (p.u.)  \\\n",
       "Symmetric calculation                           1.631806e-12   \n",
       "Asymmetric calculation                          3.299400e-08   \n",
       "Time series symmetric calculation               1.779688e-12   \n",
       "Time series asymmetric calculation              1.404013e-07   \n",
       "N-1 symmetric calculation                       1.637579e-12   \n",
       "N-1 asymmetric calculation                      3.299404e-08   \n",
       "\n",
       "                                    Deviation Loading (p.u.)  \n",
       "Symmetric calculation                           5.144773e-13  \n",
       "Asymmetric calculation                          1.606717e-07  \n",
       "Time series symmetric calculation               1.273925e-12  \n",
       "Time series asymmetric calculation              6.695306e-07  \n",
       "N-1 symmetric calculation                       5.800083e-13  \n",
       "N-1 asymmetric calculation                      1.606718e-07  "
      ]
     },
     "metadata": {},
     "output_type": "display_data"
    }
   ],
   "source": [
    "display(comparison_df)"
   ]
  },
  {
   "cell_type": "markdown",
   "id": "88cff8be",
   "metadata": {},
   "source": [
    "## Performance Comparison\n",
    "\n",
    "Below is the table of the measured time of all calculations."
   ]
  },
  {
   "cell_type": "code",
   "execution_count": 33,
   "id": "4f897355",
   "metadata": {},
   "outputs": [
    {
     "data": {
      "text/html": [
       "<div>\n",
       "<style scoped>\n",
       "    .dataframe tbody tr th:only-of-type {\n",
       "        vertical-align: middle;\n",
       "    }\n",
       "\n",
       "    .dataframe tbody tr th {\n",
       "        vertical-align: top;\n",
       "    }\n",
       "\n",
       "    .dataframe thead th {\n",
       "        text-align: right;\n",
       "    }\n",
       "</style>\n",
       "<table border=\"1\" class=\"dataframe\">\n",
       "  <thead>\n",
       "    <tr style=\"text-align: right;\">\n",
       "      <th></th>\n",
       "      <th>PGM Linear</th>\n",
       "      <th>PGM NR</th>\n",
       "      <th>PandaPower NR</th>\n",
       "    </tr>\n",
       "  </thead>\n",
       "  <tbody>\n",
       "    <tr>\n",
       "      <th>Symmetric calculation with solver initialization</th>\n",
       "      <td>0.003375</td>\n",
       "      <td>0.004792</td>\n",
       "      <td>0.020897</td>\n",
       "    </tr>\n",
       "    <tr>\n",
       "      <th>Symmetric calculation without solver initialization</th>\n",
       "      <td>0.001648</td>\n",
       "      <td>0.004469</td>\n",
       "      <td>0.018594</td>\n",
       "    </tr>\n",
       "    <tr>\n",
       "      <th>Asymmetric calculation with solver initialization</th>\n",
       "      <td>0.003123</td>\n",
       "      <td>0.011541</td>\n",
       "      <td>0.855455</td>\n",
       "    </tr>\n",
       "    <tr>\n",
       "      <th>Asymmetric calculation without solver initialization</th>\n",
       "      <td>0.002054</td>\n",
       "      <td>0.010042</td>\n",
       "      <td>0.171331</td>\n",
       "    </tr>\n",
       "    <tr>\n",
       "      <th>Time series symmetric calculation</th>\n",
       "      <td>0.984041</td>\n",
       "      <td>4.157806</td>\n",
       "      <td>21.552259</td>\n",
       "    </tr>\n",
       "    <tr>\n",
       "      <th>Time series asymmetric calculation</th>\n",
       "      <td>2.036342</td>\n",
       "      <td>9.835946</td>\n",
       "      <td>244.181746</td>\n",
       "    </tr>\n",
       "    <tr>\n",
       "      <th>N-1 symmetric calculation</th>\n",
       "      <td>1.482644</td>\n",
       "      <td>4.899805</td>\n",
       "      <td>16.628193</td>\n",
       "    </tr>\n",
       "    <tr>\n",
       "      <th>N-1 asymmetric calculation</th>\n",
       "      <td>2.670442</td>\n",
       "      <td>10.906416</td>\n",
       "      <td>199.025748</td>\n",
       "    </tr>\n",
       "  </tbody>\n",
       "</table>\n",
       "</div>"
      ],
      "text/plain": [
       "                                                    PGM Linear     PGM NR  \\\n",
       "Symmetric calculation with solver initialization      0.003375   0.004792   \n",
       "Symmetric calculation without solver initializa...    0.001648   0.004469   \n",
       "Asymmetric calculation with solver initialization     0.003123   0.011541   \n",
       "Asymmetric calculation without solver initializ...    0.002054   0.010042   \n",
       "Time series symmetric calculation                     0.984041   4.157806   \n",
       "Time series asymmetric calculation                    2.036342   9.835946   \n",
       "N-1 symmetric calculation                             1.482644   4.899805   \n",
       "N-1 asymmetric calculation                            2.670442  10.906416   \n",
       "\n",
       "                                                    PandaPower NR  \n",
       "Symmetric calculation with solver initialization         0.020897  \n",
       "Symmetric calculation without solver initializa...       0.018594  \n",
       "Asymmetric calculation with solver initialization        0.855455  \n",
       "Asymmetric calculation without solver initializ...       0.171331  \n",
       "Time series symmetric calculation                       21.552259  \n",
       "Time series asymmetric calculation                     244.181746  \n",
       "N-1 symmetric calculation                               16.628193  \n",
       "N-1 asymmetric calculation                             199.025748  "
      ]
     },
     "metadata": {},
     "output_type": "display_data"
    }
   ],
   "source": [
    "display(summary_df)"
   ]
  },
  {
   "cell_type": "code",
   "execution_count": 34,
   "id": "6c921324",
   "metadata": {},
   "outputs": [
    {
     "data": {
      "text/html": [
       "<style type=\"text/css\">\n",
       "</style>\n",
       "<table id=\"T_905d8\">\n",
       "  <thead>\n",
       "    <tr>\n",
       "      <th class=\"blank level0\" >&nbsp;</th>\n",
       "      <th id=\"T_905d8_level0_col0\" class=\"col_heading level0 col0\" >PGM Linear</th>\n",
       "      <th id=\"T_905d8_level0_col1\" class=\"col_heading level0 col1\" >PGM NR</th>\n",
       "      <th id=\"T_905d8_level0_col2\" class=\"col_heading level0 col2\" >PandaPower NR</th>\n",
       "    </tr>\n",
       "  </thead>\n",
       "  <tbody>\n",
       "    <tr>\n",
       "      <th id=\"T_905d8_level0_row0\" class=\"row_heading level0 row0\" >Symmetric calculation with solver initialization</th>\n",
       "      <td id=\"T_905d8_row0_col0\" class=\"data row0 col0\" >6.19x</td>\n",
       "      <td id=\"T_905d8_row0_col1\" class=\"data row0 col1\" >4.36x</td>\n",
       "      <td id=\"T_905d8_row0_col2\" class=\"data row0 col2\" >1.00x</td>\n",
       "    </tr>\n",
       "    <tr>\n",
       "      <th id=\"T_905d8_level0_row1\" class=\"row_heading level0 row1\" >Symmetric calculation without solver initialization</th>\n",
       "      <td id=\"T_905d8_row1_col0\" class=\"data row1 col0\" >11.28x</td>\n",
       "      <td id=\"T_905d8_row1_col1\" class=\"data row1 col1\" >4.16x</td>\n",
       "      <td id=\"T_905d8_row1_col2\" class=\"data row1 col2\" >1.00x</td>\n",
       "    </tr>\n",
       "    <tr>\n",
       "      <th id=\"T_905d8_level0_row2\" class=\"row_heading level0 row2\" >Asymmetric calculation with solver initialization</th>\n",
       "      <td id=\"T_905d8_row2_col0\" class=\"data row2 col0\" >273.96x</td>\n",
       "      <td id=\"T_905d8_row2_col1\" class=\"data row2 col1\" >74.12x</td>\n",
       "      <td id=\"T_905d8_row2_col2\" class=\"data row2 col2\" >1.00x</td>\n",
       "    </tr>\n",
       "    <tr>\n",
       "      <th id=\"T_905d8_level0_row3\" class=\"row_heading level0 row3\" >Asymmetric calculation without solver initialization</th>\n",
       "      <td id=\"T_905d8_row3_col0\" class=\"data row3 col0\" >83.41x</td>\n",
       "      <td id=\"T_905d8_row3_col1\" class=\"data row3 col1\" >17.06x</td>\n",
       "      <td id=\"T_905d8_row3_col2\" class=\"data row3 col2\" >1.00x</td>\n",
       "    </tr>\n",
       "    <tr>\n",
       "      <th id=\"T_905d8_level0_row4\" class=\"row_heading level0 row4\" >Time series symmetric calculation</th>\n",
       "      <td id=\"T_905d8_row4_col0\" class=\"data row4 col0\" >21.90x</td>\n",
       "      <td id=\"T_905d8_row4_col1\" class=\"data row4 col1\" >5.18x</td>\n",
       "      <td id=\"T_905d8_row4_col2\" class=\"data row4 col2\" >1.00x</td>\n",
       "    </tr>\n",
       "    <tr>\n",
       "      <th id=\"T_905d8_level0_row5\" class=\"row_heading level0 row5\" >Time series asymmetric calculation</th>\n",
       "      <td id=\"T_905d8_row5_col0\" class=\"data row5 col0\" >119.91x</td>\n",
       "      <td id=\"T_905d8_row5_col1\" class=\"data row5 col1\" >24.83x</td>\n",
       "      <td id=\"T_905d8_row5_col2\" class=\"data row5 col2\" >1.00x</td>\n",
       "    </tr>\n",
       "    <tr>\n",
       "      <th id=\"T_905d8_level0_row6\" class=\"row_heading level0 row6\" >N-1 symmetric calculation</th>\n",
       "      <td id=\"T_905d8_row6_col0\" class=\"data row6 col0\" >11.22x</td>\n",
       "      <td id=\"T_905d8_row6_col1\" class=\"data row6 col1\" >3.39x</td>\n",
       "      <td id=\"T_905d8_row6_col2\" class=\"data row6 col2\" >1.00x</td>\n",
       "    </tr>\n",
       "    <tr>\n",
       "      <th id=\"T_905d8_level0_row7\" class=\"row_heading level0 row7\" >N-1 asymmetric calculation</th>\n",
       "      <td id=\"T_905d8_row7_col0\" class=\"data row7 col0\" >74.53x</td>\n",
       "      <td id=\"T_905d8_row7_col1\" class=\"data row7 col1\" >18.25x</td>\n",
       "      <td id=\"T_905d8_row7_col2\" class=\"data row7 col2\" >1.00x</td>\n",
       "    </tr>\n",
       "  </tbody>\n",
       "</table>\n"
      ],
      "text/plain": [
       "<pandas.io.formats.style.Styler at 0x7fa39cdab100>"
      ]
     },
     "metadata": {},
     "output_type": "display_data"
    }
   ],
   "source": [
    "relative_df = summary_df.div(summary_df.max(axis=1), axis=0)\n",
    "speedup_df = 1 / relative_df\n",
    "display(speedup_df.style.format(\"{:0.2f}x\"))"
   ]
  }
 ],
 "metadata": {
  "kernelspec": {
   "display_name": "Python 3 (ipykernel)",
   "language": "python",
   "name": "python3"
  },
  "language_info": {
   "codemirror_mode": {
    "name": "ipython",
    "version": 3
   },
   "file_extension": ".py",
   "mimetype": "text/x-python",
   "name": "python",
   "nbconvert_exporter": "python",
   "pygments_lexer": "ipython3",
   "version": "3.9.5"
  }
 },
 "nbformat": 4,
 "nbformat_minor": 5
}
